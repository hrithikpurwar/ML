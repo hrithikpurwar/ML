{
  "nbformat": 4,
  "nbformat_minor": 0,
  "metadata": {
    "colab": {
      "name": "RandomForestTask.ipynb",
      "provenance": [],
      "authorship_tag": "ABX9TyPleWdtDBQRxIW+sILCU9jt",
      "include_colab_link": true
    },
    "kernelspec": {
      "name": "python3",
      "display_name": "Python 3"
    }
  },
  "cells": [
    {
      "cell_type": "markdown",
      "metadata": {
        "id": "view-in-github",
        "colab_type": "text"
      },
      "source": [
        "<a href=\"https://colab.research.google.com/github/hrithikpurwar/ML/blob/main/RandomForestTask.ipynb\" target=\"_parent\"><img src=\"https://colab.research.google.com/assets/colab-badge.svg\" alt=\"Open In Colab\"/></a>"
      ]
    },
    {
      "cell_type": "code",
      "metadata": {
        "id": "HR7v43JqXP6J"
      },
      "source": [
        "import pandas as pd"
      ],
      "execution_count": 1,
      "outputs": []
    },
    {
      "cell_type": "code",
      "metadata": {
        "id": "1Ix9NYVobpco"
      },
      "source": [
        "df=pd.read_csv('/content/foodDiet.csv')"
      ],
      "execution_count": 75,
      "outputs": []
    },
    {
      "cell_type": "code",
      "metadata": {
        "colab": {
          "base_uri": "https://localhost:8080/"
        },
        "id": "SZQj8v_MbuH0",
        "outputId": "0f784e0d-8d61-4a07-fc0d-ec22015e78b5"
      },
      "source": [
        "df.shape"
      ],
      "execution_count": 76,
      "outputs": [
        {
          "output_type": "execute_result",
          "data": {
            "text/plain": [
              "(192, 7)"
            ]
          },
          "metadata": {
            "tags": []
          },
          "execution_count": 76
        }
      ]
    },
    {
      "cell_type": "code",
      "metadata": {
        "colab": {
          "base_uri": "https://localhost:8080/"
        },
        "id": "V1tTREVRbwS7",
        "outputId": "58b73828-197b-41fd-d5c6-618c76d55b49"
      },
      "source": [
        "df.isnull().sum()"
      ],
      "execution_count": 4,
      "outputs": [
        {
          "output_type": "execute_result",
          "data": {
            "text/plain": [
              "Person          0\n",
              "gender          0\n",
              "Age             0\n",
              "Height          0\n",
              "pre.weight      0\n",
              "Diet            0\n",
              "weight6weeks    0\n",
              "dtype: int64"
            ]
          },
          "metadata": {
            "tags": []
          },
          "execution_count": 4
        }
      ]
    },
    {
      "cell_type": "code",
      "metadata": {
        "colab": {
          "base_uri": "https://localhost:8080/"
        },
        "id": "CqfIjBh0b0qI",
        "outputId": "e2d15238-cc9b-47bd-8922-a3dd72a94348"
      },
      "source": [
        "df.dtypes"
      ],
      "execution_count": 6,
      "outputs": [
        {
          "output_type": "execute_result",
          "data": {
            "text/plain": [
              "Person            int64\n",
              "gender            int64\n",
              "Age               int64\n",
              "Height            int64\n",
              "pre.weight        int64\n",
              "Diet              int64\n",
              "weight6weeks    float64\n",
              "dtype: object"
            ]
          },
          "metadata": {
            "tags": []
          },
          "execution_count": 6
        }
      ]
    },
    {
      "cell_type": "code",
      "metadata": {
        "id": "0vXM69prb3Fe"
      },
      "source": [
        "final_dataset=df[['gender','Age','Height','pre.weight','Diet','weight6weeks']]\n",
        "final_dataset['preweight']=final_dataset['pre.weight']\n",
        "final_dataset['weightafter']=final_dataset['weight6weeks']\n",
        "final_dataset.drop(['pre.weight'],axis=1,inplace=True)\n",
        "final_dataset.drop(['weight6weeks'],axis=1,inplace=True)"
      ],
      "execution_count": 77,
      "outputs": []
    },
    {
      "cell_type": "code",
      "metadata": {
        "colab": {
          "base_uri": "https://localhost:8080/",
          "height": 204
        },
        "id": "8W1VDf-LcHQZ",
        "outputId": "60dc878e-b84f-41c7-992c-6ca773e5368c"
      },
      "source": [
        "final_dataset.head()"
      ],
      "execution_count": 78,
      "outputs": [
        {
          "output_type": "execute_result",
          "data": {
            "text/html": [
              "<div>\n",
              "<style scoped>\n",
              "    .dataframe tbody tr th:only-of-type {\n",
              "        vertical-align: middle;\n",
              "    }\n",
              "\n",
              "    .dataframe tbody tr th {\n",
              "        vertical-align: top;\n",
              "    }\n",
              "\n",
              "    .dataframe thead th {\n",
              "        text-align: right;\n",
              "    }\n",
              "</style>\n",
              "<table border=\"1\" class=\"dataframe\">\n",
              "  <thead>\n",
              "    <tr style=\"text-align: right;\">\n",
              "      <th></th>\n",
              "      <th>gender</th>\n",
              "      <th>Age</th>\n",
              "      <th>Height</th>\n",
              "      <th>Diet</th>\n",
              "      <th>preweight</th>\n",
              "      <th>weightafter</th>\n",
              "    </tr>\n",
              "  </thead>\n",
              "  <tbody>\n",
              "    <tr>\n",
              "      <th>0</th>\n",
              "      <td>0</td>\n",
              "      <td>41</td>\n",
              "      <td>171</td>\n",
              "      <td>2</td>\n",
              "      <td>60</td>\n",
              "      <td>60.0</td>\n",
              "    </tr>\n",
              "    <tr>\n",
              "      <th>1</th>\n",
              "      <td>0</td>\n",
              "      <td>32</td>\n",
              "      <td>174</td>\n",
              "      <td>2</td>\n",
              "      <td>103</td>\n",
              "      <td>103.0</td>\n",
              "    </tr>\n",
              "    <tr>\n",
              "      <th>2</th>\n",
              "      <td>0</td>\n",
              "      <td>22</td>\n",
              "      <td>159</td>\n",
              "      <td>1</td>\n",
              "      <td>58</td>\n",
              "      <td>54.2</td>\n",
              "    </tr>\n",
              "    <tr>\n",
              "      <th>3</th>\n",
              "      <td>0</td>\n",
              "      <td>46</td>\n",
              "      <td>192</td>\n",
              "      <td>1</td>\n",
              "      <td>60</td>\n",
              "      <td>54.0</td>\n",
              "    </tr>\n",
              "    <tr>\n",
              "      <th>4</th>\n",
              "      <td>0</td>\n",
              "      <td>55</td>\n",
              "      <td>170</td>\n",
              "      <td>1</td>\n",
              "      <td>64</td>\n",
              "      <td>63.3</td>\n",
              "    </tr>\n",
              "  </tbody>\n",
              "</table>\n",
              "</div>"
            ],
            "text/plain": [
              "   gender  Age  Height  Diet  preweight  weightafter\n",
              "0       0   41     171     2         60         60.0\n",
              "1       0   32     174     2        103        103.0\n",
              "2       0   22     159     1         58         54.2\n",
              "3       0   46     192     1         60         54.0\n",
              "4       0   55     170     1         64         63.3"
            ]
          },
          "metadata": {
            "tags": []
          },
          "execution_count": 78
        }
      ]
    },
    {
      "cell_type": "code",
      "metadata": {
        "colab": {
          "base_uri": "https://localhost:8080/",
          "height": 935
        },
        "id": "PvJkbdW-cKU0",
        "outputId": "3106247a-1136-4c50-9f8a-ec32281e7c12"
      },
      "source": [
        "import seaborn as sns\n",
        "sns.pairplot(final_dataset)"
      ],
      "execution_count": 9,
      "outputs": [
        {
          "output_type": "execute_result",
          "data": {
            "text/plain": [
              "<seaborn.axisgrid.PairGrid at 0x7f960adace10>"
            ]
          },
          "metadata": {
            "tags": []
          },
          "execution_count": 9
        },
        {
          "output_type": "display_data",
          "data": {
            "image/png": "[encoded data removed]",
            "text/plain": [
              "<Figure size 1080x1080 with 42 Axes>"
            ]
          },
          "metadata": {
            "tags": [],
            "needs_background": "light"
          }
        }
      ]
    },
    {
      "cell_type": "code",
      "metadata": {
        "colab": {
          "base_uri": "https://localhost:8080/",
          "height": 966
        },
        "id": "BYEgahoVcfwu",
        "outputId": "2b898fe7-d4a7-4e63-91e2-8b5d33af0dce"
      },
      "source": [
        "import seaborn as sns\n",
        "import matplotlib.pyplot as plt\n",
        "#get correlations of each features in dataset\n",
        "corrmat = df.corr()\n",
        "top_corr_features = corrmat.index\n",
        "plt.figure(figsize=(20,20))\n",
        "#plot heat map\n",
        "g=sns.heatmap(df[top_corr_features].corr(),annot=True,cmap=\"RdYlGn\")"
      ],
      "execution_count": 10,
      "outputs": [
        {
          "output_type": "display_data",
          "data": {
            "image/png": "[encoded data removed]",
            "text/plain": [
              "<Figure size 1440x1440 with 2 Axes>"
            ]
          },
          "metadata": {
            "tags": [],
            "needs_background": "light"
          }
        }
      ]
    },
    {
      "cell_type": "code",
      "metadata": {
        "id": "KG_m15shco_h"
      },
      "source": [
        "X=final_dataset.iloc[:,:-1].values\n",
        "Y=final_dataset.iloc[:,5].values"
      ],
      "execution_count": 48,
      "outputs": []
    },
    {
      "cell_type": "code",
      "metadata": {
        "colab": {
          "base_uri": "https://localhost:8080/"
        },
        "id": "1zEJ7nGjgtEq",
        "outputId": "fba6f0a6-378f-4713-fed4-cb0d8a57c212"
      },
      "source": [
        "X"
      ],
      "execution_count": 49,
      "outputs": [
        {
          "output_type": "execute_result",
          "data": {
            "text/plain": [
              "array([[  0,  41, 171,   2,  60],\n",
              "       [  0,  32, 174,   2, 103],\n",
              "       [  0,  22, 159,   1,  58],\n",
              "       [  0,  46, 192,   1,  60],\n",
              "       [  0,  55, 170,   1,  64],\n",
              "       [  0,  33, 171,   1,  64],\n",
              "       [  0,  50, 170,   1,  65],\n",
              "       [  0,  50, 201,   1,  66],\n",
              "       [  0,  37, 174,   1,  67],\n",
              "       [  0,  28, 176,   1,  69],\n",
              "       [  0,  28, 165,   1,  70],\n",
              "       [  0,  45, 165,   1,  70],\n",
              "       [  0,  60, 173,   1,  72],\n",
              "       [  0,  48, 156,   1,  72],\n",
              "       [  0,  41, 163,   1,  72],\n",
              "       [  0,  37, 167,   1,  82],\n",
              "       [  0,  44, 174,   2,  58],\n",
              "       [  0,  37, 172,   2,  58],\n",
              "       [  0,  41, 165,   2,  59],\n",
              "       [  0,  43, 171,   2,  61],\n",
              "       [  0,  20, 169,   2,  62],\n",
              "       [  0,  51, 174,   2,  63],\n",
              "       [  0,  31, 163,   2,  63],\n",
              "       [  0,  54, 173,   2,  63],\n",
              "       [  0,  50, 166,   2,  65],\n",
              "       [  0,  48, 163,   2,  66],\n",
              "       [  0,  16, 165,   2,  68],\n",
              "       [  0,  37, 167,   2,  68],\n",
              "       [  0,  30, 161,   2,  76],\n",
              "       [  0,  29, 169,   2,  77],\n",
              "       [  0,  51, 165,   3,  60],\n",
              "       [  0,  35, 169,   3,  62],\n",
              "       [  0,  21, 159,   3,  64],\n",
              "       [  0,  22, 169,   3,  65],\n",
              "       [  0,  36, 160,   3,  66],\n",
              "       [  0,  20, 169,   3,  67],\n",
              "       [  0,  35, 163,   3,  67],\n",
              "       [  0,  45, 155,   3,  69],\n",
              "       [  0,  58, 141,   3,  70],\n",
              "       [  0,  37, 170,   3,  70],\n",
              "       [  0,  31, 170,   3,  72],\n",
              "       [  0,  35, 171,   3,  72],\n",
              "       [  0,  56, 171,   3,  73],\n",
              "       [  0,  48, 153,   3,  75],\n",
              "       [  0,  41, 157,   3,  76],\n",
              "       [  1,  39, 168,   1,  71],\n",
              "       [  1,  31, 158,   1,  72],\n",
              "       [  1,  40, 173,   1,  74],\n",
              "       [  1,  50, 160,   1,  78],\n",
              "       [  1,  43, 162,   1,  80],\n",
              "       [  1,  25, 165,   1,  80],\n",
              "       [  1,  52, 177,   1,  83],\n",
              "       [  1,  42, 166,   1,  85],\n",
              "       [  1,  39, 166,   1,  87],\n",
              "       [  1,  40, 190,   1,  88],\n",
              "       [  1,  51, 191,   2,  71],\n",
              "       [  1,  38, 199,   2,  75],\n",
              "       [  1,  54, 196,   2,  75],\n",
              "       [  1,  33, 190,   2,  76],\n",
              "       [  1,  45, 160,   2,  78],\n",
              "       [  1,  37, 194,   2,  78],\n",
              "       [  1,  44, 163,   2,  79],\n",
              "       [  1,  40, 171,   2,  79],\n",
              "       [  1,  37, 198,   2,  79],\n",
              "       [  1,  39, 180,   2,  80],\n",
              "       [  1,  31, 182,   2,  80],\n",
              "       [  1,  36, 155,   3,  71],\n",
              "       [  1,  47, 179,   3,  73],\n",
              "       [  1,  29, 166,   3,  76],\n",
              "       [  1,  37, 173,   3,  78],\n",
              "       [  1,  31, 177,   3,  78],\n",
              "       [  1,  26, 179,   3,  78],\n",
              "       [  1,  40, 179,   3,  79],\n",
              "       [  1,  35, 183,   3,  83],\n",
              "       [  1,  49, 177,   3,  84],\n",
              "       [  1,  28, 164,   3,  85],\n",
              "       [  1,  40, 167,   3,  87],\n",
              "       [  1,  51, 175,   3,  88],\n",
              "       [  0,  20, 175,   1,  55],\n",
              "       [  0,  18, 170,   2,  55],\n",
              "       [  0,  19, 165,   3,  55],\n",
              "       [  1,  20, 160,   1,  55],\n",
              "       [  1,  18, 165,   2,  55],\n",
              "       [  1,  19, 168,   3,  55],\n",
              "       [  0,  29, 170,   1,  50],\n",
              "       [  0,  30, 171,   2,  50],\n",
              "       [  0,  31, 168,   3,  50],\n",
              "       [  1,  35, 156,   1,  50],\n",
              "       [  1,  32, 167,   2,  50],\n",
              "       [  1,  34, 178,   3,  50],\n",
              "       [  0,  41, 176,   1,  90],\n",
              "       [  0,  42, 175,   2,  90],\n",
              "       [  0,  45, 172,   3,  90],\n",
              "       [  1,  30, 179,   1,  90],\n",
              "       [  1,  34, 171,   2,  90],\n",
              "       [  1,  35, 170,   3,  90],\n",
              "       [  0,  40, 169,   1, 100],\n",
              "       [  0,  41, 168,   2, 100],\n",
              "       [  0,  47, 169,   3, 100],\n",
              "       [  1,  46, 164,   1, 100],\n",
              "       [  1,  42, 170,   2, 100],\n",
              "       [  1,  45, 171,   3, 100],\n",
              "       [  0,  56, 152,   1,  90],\n",
              "       [  0,  56, 154,   2,  90],\n",
              "       [  0,  57, 150,   3,  90],\n",
              "       [  0,  55, 152,   1,  80],\n",
              "       [  0,  54, 154,   2,  80],\n",
              "       [  0,  51, 153,   3,  80],\n",
              "       [  0,  52, 151,   1,  85],\n",
              "       [  0,  52, 152,   2,  85],\n",
              "       [  0,  54, 156,   3,  85],\n",
              "       [  1,  51, 152,   1,  90],\n",
              "       [  1,  50, 154,   2,  90],\n",
              "       [  1,  52, 150,   3,  90],\n",
              "       [  1,  53, 152,   1,  80],\n",
              "       [  1,  49, 153,   2,  80],\n",
              "       [  1,  55, 156,   3,  80],\n",
              "       [  1,  52, 154,   1,  85],\n",
              "       [  1,  53, 152,   2,  85],\n",
              "       [  1,  56, 150,   3,  85],\n",
              "       [  0,  56, 152,   1,  90],\n",
              "       [  0,  56, 154,   2,  90],\n",
              "       [  0,  57, 150,   3,  90],\n",
              "       [  0,  55, 152,   1,  80],\n",
              "       [  0,  54, 154,   2,  80],\n",
              "       [  0,  51, 153,   3,  80],\n",
              "       [  0,  52, 151,   1,  85],\n",
              "       [  0,  52, 152,   2,  85],\n",
              "       [  0,  54, 156,   3,  85],\n",
              "       [  1,  51, 152,   1,  90],\n",
              "       [  1,  50, 154,   2,  90],\n",
              "       [  1,  52, 150,   3,  90],\n",
              "       [  1,  53, 152,   1,  80],\n",
              "       [  1,  49, 153,   2,  80],\n",
              "       [  1,  55, 156,   3,  80],\n",
              "       [  1,  52, 154,   1,  85],\n",
              "       [  1,  53, 152,   2,  85],\n",
              "       [  1,  56, 150,   3,  85],\n",
              "       [  0,  56, 152,   1,  90],\n",
              "       [  0,  56, 154,   2,  90],\n",
              "       [  0,  57, 150,   3,  90],\n",
              "       [  0,  55, 152,   1,  80],\n",
              "       [  0,  54, 154,   2,  80],\n",
              "       [  0,  51, 153,   3,  80],\n",
              "       [  0,  52, 151,   1,  85],\n",
              "       [  0,  52, 152,   2,  85],\n",
              "       [  0,  54, 156,   3,  85],\n",
              "       [  1,  51, 152,   1,  90],\n",
              "       [  1,  50, 154,   2,  90],\n",
              "       [  1,  52, 150,   3,  90],\n",
              "       [  1,  53, 152,   1,  80],\n",
              "       [  1,  49, 153,   2,  80],\n",
              "       [  1,  55, 156,   3,  80],\n",
              "       [  1,  52, 154,   1,  85],\n",
              "       [  1,  53, 152,   2,  85],\n",
              "       [  1,  56, 150,   3,  85],\n",
              "       [  0,  56, 152,   1,  90],\n",
              "       [  0,  56, 154,   2,  90],\n",
              "       [  0,  57, 150,   3,  90],\n",
              "       [  0,  55, 152,   1,  80],\n",
              "       [  0,  54, 154,   2,  80],\n",
              "       [  0,  51, 153,   3,  80],\n",
              "       [  0,  52, 151,   1,  85],\n",
              "       [  0,  52, 152,   2,  85],\n",
              "       [  0,  54, 156,   3,  85],\n",
              "       [  1,  51, 152,   1,  90],\n",
              "       [  1,  50, 154,   2,  90],\n",
              "       [  1,  52, 150,   3,  90],\n",
              "       [  1,  53, 152,   1,  80],\n",
              "       [  1,  49, 153,   2,  80],\n",
              "       [  1,  55, 156,   3,  80],\n",
              "       [  1,  52, 154,   1,  85],\n",
              "       [  1,  53, 152,   2,  85],\n",
              "       [  1,  56, 150,   3,  85],\n",
              "       [  0,  56, 152,   1,  90],\n",
              "       [  0,  56, 154,   2,  90],\n",
              "       [  0,  57, 150,   3,  90],\n",
              "       [  0,  55, 152,   1,  80],\n",
              "       [  0,  54, 154,   2,  80],\n",
              "       [  0,  51, 153,   3,  80],\n",
              "       [  0,  52, 151,   1,  85],\n",
              "       [  0,  52, 152,   2,  85],\n",
              "       [  0,  54, 156,   3,  85],\n",
              "       [  1,  51, 152,   1,  90],\n",
              "       [  1,  50, 154,   2,  90],\n",
              "       [  1,  52, 150,   3,  90],\n",
              "       [  1,  53, 152,   1,  80],\n",
              "       [  1,  49, 153,   2,  80],\n",
              "       [  1,  55, 156,   3,  80],\n",
              "       [  1,  52, 154,   1,  85],\n",
              "       [  1,  53, 152,   2,  85],\n",
              "       [  1,  56, 150,   3,  85]])"
            ]
          },
          "metadata": {
            "tags": []
          },
          "execution_count": 49
        }
      ]
    },
    {
      "cell_type": "code",
      "metadata": {
        "colab": {
          "base_uri": "https://localhost:8080/"
        },
        "id": "2HJIGspVgvvZ",
        "outputId": "28989723-4722-444f-974d-a6b9e495e265"
      },
      "source": [
        "Y"
      ],
      "execution_count": 50,
      "outputs": [
        {
          "output_type": "execute_result",
          "data": {
            "text/plain": [
              "array([ 60. , 103. ,  54.2,  54. ,  63.3,  61.1,  62.2,  64. ,  65. ,\n",
              "        60.5,  68.1,  66.9,  70.5,  69. ,  68.4,  81.1,  60.1,  56. ,\n",
              "        57.3,  56.7,  55. ,  62.4,  60.3,  59.4,  62. ,  64. ,  63.8,\n",
              "        63.3,  72.7,  77.5,  53. ,  56.4,  60.6,  58.2,  58.2,  61.6,\n",
              "        60.2,  61.8,  63. ,  62.7,  71.1,  64.4,  68.9,  68.7,  71. ,\n",
              "        71.6,  70.9,  69.5,  73.9,  71. ,  77.6,  79.1,  81.5,  81.9,\n",
              "        84.5,  66.8,  72.6,  69.2,  72.5,  72.7,  76.3,  73.6,  72.9,\n",
              "        71.1,  81.4,  75.7,  68.5,  72.1,  72.5,  77.5,  75.2,  69.4,\n",
              "        74.5,  80.2,  79.9,  79.7,  77.8,  81.9,  52. ,  51. ,  50. ,\n",
              "        53. ,  52. ,  51. ,  49.8,  49. ,  48.5,  49.5,  49. ,  48. ,\n",
              "        87.5,  86.5,  85.5,  88. ,  87. ,  86. ,  97. ,  95. ,  94. ,\n",
              "        96.5,  95. ,  93.4,  86. ,  87. ,  89. ,  77. ,  78. ,  79. ,\n",
              "        82. ,  83. ,  84. ,  87. ,  88. ,  89.5,  78. ,  78.5,  79. ,\n",
              "        83. ,  84. ,  84.5,  86. ,  87. ,  89. ,  77. ,  78. ,  79. ,\n",
              "        82. ,  83. ,  84. ,  87. ,  88. ,  89.5,  78. ,  78.5,  79. ,\n",
              "        83. ,  84. ,  84.5,  86. ,  87. ,  89. ,  77. ,  78. ,  79. ,\n",
              "        82. ,  83. ,  84. ,  87. ,  88. ,  89.5,  78. ,  78.5,  79. ,\n",
              "        83. ,  84. ,  84.5,  86. ,  87. ,  89. ,  77. ,  78. ,  79. ,\n",
              "        82. ,  83. ,  84. ,  87. ,  88. ,  89.5,  78. ,  78.5,  79. ,\n",
              "        83. ,  84. ,  84.5,  86. ,  87. ,  89. ,  77. ,  78. ,  79. ,\n",
              "        82. ,  83. ,  84. ,  87. ,  88. ,  89.5,  78. ,  78.5,  79. ,\n",
              "        83. ,  84. ,  84.5])"
            ]
          },
          "metadata": {
            "tags": []
          },
          "execution_count": 50
        }
      ]
    },
    {
      "cell_type": "code",
      "metadata": {
        "id": "W9wDNTyZcsyD"
      },
      "source": [
        "\n",
        "from sklearn.model_selection import train_test_split\n",
        "X_train, X_test, Y_train, Y_test = train_test_split(X, Y, test_size=0.3, random_state=0)"
      ],
      "execution_count": 51,
      "outputs": []
    },
    {
      "cell_type": "code",
      "metadata": {
        "colab": {
          "base_uri": "https://localhost:8080/"
        },
        "id": "8iYxoxArg7n0",
        "outputId": "9f2cfc8c-5af1-4178-f869-3e293bc0dff0"
      },
      "source": [
        "X_train"
      ],
      "execution_count": 52,
      "outputs": [
        {
          "output_type": "execute_result",
          "data": {
            "text/plain": [
              "array([[  1,  52, 177,   1,  83],\n",
              "       [  0,  31, 168,   3,  50],\n",
              "       [  0,  51, 153,   3,  80],\n",
              "       [  0,  31, 170,   3,  72],\n",
              "       [  0,  57, 150,   3,  90],\n",
              "       [  0,  31, 163,   2,  63],\n",
              "       [  1,  52, 150,   3,  90],\n",
              "       [  1,  50, 154,   2,  90],\n",
              "       [  1,  56, 150,   3,  85],\n",
              "       [  0,  19, 165,   3,  55],\n",
              "       [  0,  52, 151,   1,  85],\n",
              "       [  0,  41, 163,   1,  72],\n",
              "       [  0,  37, 167,   2,  68],\n",
              "       [  0,  45, 172,   3,  90],\n",
              "       [  0,  52, 152,   2,  85],\n",
              "       [  1,  31, 158,   1,  72],\n",
              "       [  1,  55, 156,   3,  80],\n",
              "       [  0,  47, 169,   3, 100],\n",
              "       [  1,  40, 171,   2,  79],\n",
              "       [  0,  22, 159,   1,  58],\n",
              "       [  1,  45, 160,   2,  78],\n",
              "       [  0,  54, 154,   2,  80],\n",
              "       [  0,  51, 153,   3,  80],\n",
              "       [  0,  48, 153,   3,  75],\n",
              "       [  0,  28, 165,   1,  70],\n",
              "       [  1,  30, 179,   1,  90],\n",
              "       [  1,  35, 183,   3,  83],\n",
              "       [  1,  52, 150,   3,  90],\n",
              "       [  1,  52, 154,   1,  85],\n",
              "       [  0,  54, 154,   2,  80],\n",
              "       [  1,  52, 154,   1,  85],\n",
              "       [  1,  55, 156,   3,  80],\n",
              "       [  1,  53, 152,   2,  85],\n",
              "       [  1,  50, 154,   2,  90],\n",
              "       [  1,  25, 165,   1,  80],\n",
              "       [  0,  41, 171,   2,  60],\n",
              "       [  1,  34, 171,   2,  90],\n",
              "       [  1,  52, 154,   1,  85],\n",
              "       [  1,  35, 170,   3,  90],\n",
              "       [  1,  39, 180,   2,  80],\n",
              "       [  1,  52, 154,   1,  85],\n",
              "       [  0,  35, 171,   3,  72],\n",
              "       [  1,  37, 173,   3,  78],\n",
              "       [  1,  43, 162,   1,  80],\n",
              "       [  1,  50, 160,   1,  78],\n",
              "       [  0,  30, 171,   2,  50],\n",
              "       [  0,  48, 156,   1,  72],\n",
              "       [  0,  52, 151,   1,  85],\n",
              "       [  0,  54, 173,   2,  63],\n",
              "       [  0,  51, 153,   3,  80],\n",
              "       [  1,  51, 152,   1,  90],\n",
              "       [  0,  20, 169,   2,  62],\n",
              "       [  0,  37, 167,   1,  82],\n",
              "       [  0,  20, 175,   1,  55],\n",
              "       [  0,  57, 150,   3,  90],\n",
              "       [  1,  42, 166,   1,  85],\n",
              "       [  1,  42, 170,   2, 100],\n",
              "       [  1,  40, 167,   3,  87],\n",
              "       [  0,  46, 192,   1,  60],\n",
              "       [  1,  55, 156,   3,  80],\n",
              "       [  1,  53, 152,   2,  85],\n",
              "       [  0,  51, 153,   3,  80],\n",
              "       [  0,  50, 170,   1,  65],\n",
              "       [  1,  29, 166,   3,  76],\n",
              "       [  1,  28, 164,   3,  85],\n",
              "       [  0,  29, 170,   1,  50],\n",
              "       [  0,  55, 152,   1,  80],\n",
              "       [  0,  56, 154,   2,  90],\n",
              "       [  0,  60, 173,   1,  72],\n",
              "       [  1,  53, 152,   1,  80],\n",
              "       [  0,  54, 156,   3,  85],\n",
              "       [  1,  52, 150,   3,  90],\n",
              "       [  0,  42, 175,   2,  90],\n",
              "       [  1,  56, 150,   3,  85],\n",
              "       [  0,  45, 165,   1,  70],\n",
              "       [  1,  56, 150,   3,  85],\n",
              "       [  0,  56, 152,   1,  90],\n",
              "       [  0,  20, 169,   3,  67],\n",
              "       [  1,  54, 196,   2,  75],\n",
              "       [  1,  31, 182,   2,  80],\n",
              "       [  0,  32, 174,   2, 103],\n",
              "       [  0,  56, 152,   1,  90],\n",
              "       [  1,  56, 150,   3,  85],\n",
              "       [  0,  56, 171,   3,  73],\n",
              "       [  0,  55, 152,   1,  80],\n",
              "       [  1,  53, 152,   1,  80],\n",
              "       [  1,  50, 154,   2,  90],\n",
              "       [  0,  37, 172,   2,  58],\n",
              "       [  0,  58, 141,   3,  70],\n",
              "       [  1,  49, 153,   2,  80],\n",
              "       [  1,  39, 166,   1,  87],\n",
              "       [  1,  53, 152,   1,  80],\n",
              "       [  0,  54, 156,   3,  85],\n",
              "       [  0,  36, 160,   3,  66],\n",
              "       [  0,  30, 161,   2,  76],\n",
              "       [  1,  53, 152,   1,  80],\n",
              "       [  1,  49, 153,   2,  80],\n",
              "       [  0,  35, 169,   3,  62],\n",
              "       [  0,  55, 152,   1,  80],\n",
              "       [  0,  52, 152,   2,  85],\n",
              "       [  1,  49, 153,   2,  80],\n",
              "       [  0,  21, 159,   3,  64],\n",
              "       [  0,  54, 154,   2,  80],\n",
              "       [  0,  52, 151,   1,  85],\n",
              "       [  1,  51, 152,   1,  90],\n",
              "       [  0,  29, 169,   2,  77],\n",
              "       [  1,  46, 164,   1, 100],\n",
              "       [  1,  18, 165,   2,  55],\n",
              "       [  0,  18, 170,   2,  55],\n",
              "       [  1,  49, 153,   2,  80],\n",
              "       [  1,  50, 154,   2,  90],\n",
              "       [  1,  53, 152,   1,  80],\n",
              "       [  1,  40, 179,   3,  79],\n",
              "       [  1,  51, 175,   3,  88],\n",
              "       [  0,  48, 163,   2,  66],\n",
              "       [  1,  51, 152,   1,  90],\n",
              "       [  1,  20, 160,   1,  55],\n",
              "       [  0,  52, 152,   2,  85],\n",
              "       [  0,  56, 152,   1,  90],\n",
              "       [  1,  51, 152,   1,  90],\n",
              "       [  0,  37, 170,   3,  70],\n",
              "       [  1,  33, 190,   2,  76],\n",
              "       [  0,  57, 150,   3,  90],\n",
              "       [  1,  32, 167,   2,  50],\n",
              "       [  1,  31, 177,   3,  78],\n",
              "       [  1,  35, 156,   1,  50],\n",
              "       [  0,  35, 163,   3,  67],\n",
              "       [  0,  51, 174,   2,  63],\n",
              "       [  0,  28, 176,   1,  69],\n",
              "       [  0,  56, 154,   2,  90],\n",
              "       [  1,  47, 179,   3,  73],\n",
              "       [  1,  52, 154,   1,  85],\n",
              "       [  1,  40, 173,   1,  74],\n",
              "       [  1,  53, 152,   2,  85]])"
            ]
          },
          "metadata": {
            "tags": []
          },
          "execution_count": 52
        }
      ]
    },
    {
      "cell_type": "code",
      "metadata": {
        "colab": {
          "base_uri": "https://localhost:8080/"
        },
        "id": "nioBMzVQhAER",
        "outputId": "e2d9d8f3-607a-4610-edff-e15c87369380"
      },
      "source": [
        "Y_train"
      ],
      "execution_count": 53,
      "outputs": [
        {
          "output_type": "execute_result",
          "data": {
            "text/plain": [
              "array([ 79.1,  48.5,  79. ,  71.1,  89. ,  60.3,  89.5,  88. ,  84.5,\n",
              "        50. ,  82. ,  68.4,  63.3,  85.5,  83. ,  70.9,  79. ,  94. ,\n",
              "        72.9,  54.2,  72.7,  78. ,  79. ,  68.7,  68.1,  88. ,  80.2,\n",
              "        89.5,  83. ,  78. ,  83. ,  79. ,  84. ,  88. ,  77.6,  60. ,\n",
              "        87. ,  83. ,  86. ,  81.4,  83. ,  64.4,  77.5,  71. ,  73.9,\n",
              "        49. ,  69. ,  82. ,  59.4,  79. ,  87. ,  55. ,  81.1,  52. ,\n",
              "        89. ,  81.5,  95. ,  77.8,  54. ,  79. ,  84. ,  79. ,  62.2,\n",
              "        72.5,  79.7,  49.8,  77. ,  87. ,  70.5,  78. ,  84. ,  89.5,\n",
              "        86.5,  84.5,  66.9,  84.5,  86. ,  61.6,  69.2,  75.7, 103. ,\n",
              "        86. ,  84.5,  68.9,  77. ,  78. ,  88. ,  56. ,  63. ,  78.5,\n",
              "        81.9,  78. ,  84. ,  58.2,  72.7,  78. ,  78.5,  56.4,  77. ,\n",
              "        83. ,  78.5,  60.6,  78. ,  82. ,  87. ,  77.5,  96.5,  52. ,\n",
              "        51. ,  78.5,  88. ,  78. ,  74.5,  81.9,  64. ,  87. ,  53. ,\n",
              "        83. ,  86. ,  87. ,  62.7,  72.5,  89. ,  49. ,  75.2,  49.5,\n",
              "        60.2,  62.4,  60.5,  87. ,  72.1,  83. ,  69.5,  84. ])"
            ]
          },
          "metadata": {
            "tags": []
          },
          "execution_count": 53
        }
      ]
    },
    {
      "cell_type": "code",
      "metadata": {
        "colab": {
          "base_uri": "https://localhost:8080/"
        },
        "id": "yvOHYB9Kc3dQ",
        "outputId": "16f8c7ba-1547-4ef9-fb17-2b9d188f0ef7"
      },
      "source": [
        "from sklearn.ensemble import RandomForestRegressor\n",
        "regressor=RandomForestRegressor(n_estimators=10, random_state=0) #n_est=no. of trees\n",
        "regressor.fit(X_train,Y_train)\n",
        "Y_pred=regressor.predict(X_test)\n",
        "regressor.score(X_test, Y_test)"
      ],
      "execution_count": 54,
      "outputs": [
        {
          "output_type": "execute_result",
          "data": {
            "text/plain": [
              "0.97268094709103"
            ]
          },
          "metadata": {
            "tags": []
          },
          "execution_count": 54
        }
      ]
    },
    {
      "cell_type": "code",
      "metadata": {
        "colab": {
          "base_uri": "https://localhost:8080/"
        },
        "id": "kBt-4dLndo5i",
        "outputId": "92fa338a-ce97-47bc-c02f-10612b23265e"
      },
      "source": [
        "X_train"
      ],
      "execution_count": 55,
      "outputs": [
        {
          "output_type": "execute_result",
          "data": {
            "text/plain": [
              "array([[  1,  52, 177,   1,  83],\n",
              "       [  0,  31, 168,   3,  50],\n",
              "       [  0,  51, 153,   3,  80],\n",
              "       [  0,  31, 170,   3,  72],\n",
              "       [  0,  57, 150,   3,  90],\n",
              "       [  0,  31, 163,   2,  63],\n",
              "       [  1,  52, 150,   3,  90],\n",
              "       [  1,  50, 154,   2,  90],\n",
              "       [  1,  56, 150,   3,  85],\n",
              "       [  0,  19, 165,   3,  55],\n",
              "       [  0,  52, 151,   1,  85],\n",
              "       [  0,  41, 163,   1,  72],\n",
              "       [  0,  37, 167,   2,  68],\n",
              "       [  0,  45, 172,   3,  90],\n",
              "       [  0,  52, 152,   2,  85],\n",
              "       [  1,  31, 158,   1,  72],\n",
              "       [  1,  55, 156,   3,  80],\n",
              "       [  0,  47, 169,   3, 100],\n",
              "       [  1,  40, 171,   2,  79],\n",
              "       [  0,  22, 159,   1,  58],\n",
              "       [  1,  45, 160,   2,  78],\n",
              "       [  0,  54, 154,   2,  80],\n",
              "       [  0,  51, 153,   3,  80],\n",
              "       [  0,  48, 153,   3,  75],\n",
              "       [  0,  28, 165,   1,  70],\n",
              "       [  1,  30, 179,   1,  90],\n",
              "       [  1,  35, 183,   3,  83],\n",
              "       [  1,  52, 150,   3,  90],\n",
              "       [  1,  52, 154,   1,  85],\n",
              "       [  0,  54, 154,   2,  80],\n",
              "       [  1,  52, 154,   1,  85],\n",
              "       [  1,  55, 156,   3,  80],\n",
              "       [  1,  53, 152,   2,  85],\n",
              "       [  1,  50, 154,   2,  90],\n",
              "       [  1,  25, 165,   1,  80],\n",
              "       [  0,  41, 171,   2,  60],\n",
              "       [  1,  34, 171,   2,  90],\n",
              "       [  1,  52, 154,   1,  85],\n",
              "       [  1,  35, 170,   3,  90],\n",
              "       [  1,  39, 180,   2,  80],\n",
              "       [  1,  52, 154,   1,  85],\n",
              "       [  0,  35, 171,   3,  72],\n",
              "       [  1,  37, 173,   3,  78],\n",
              "       [  1,  43, 162,   1,  80],\n",
              "       [  1,  50, 160,   1,  78],\n",
              "       [  0,  30, 171,   2,  50],\n",
              "       [  0,  48, 156,   1,  72],\n",
              "       [  0,  52, 151,   1,  85],\n",
              "       [  0,  54, 173,   2,  63],\n",
              "       [  0,  51, 153,   3,  80],\n",
              "       [  1,  51, 152,   1,  90],\n",
              "       [  0,  20, 169,   2,  62],\n",
              "       [  0,  37, 167,   1,  82],\n",
              "       [  0,  20, 175,   1,  55],\n",
              "       [  0,  57, 150,   3,  90],\n",
              "       [  1,  42, 166,   1,  85],\n",
              "       [  1,  42, 170,   2, 100],\n",
              "       [  1,  40, 167,   3,  87],\n",
              "       [  0,  46, 192,   1,  60],\n",
              "       [  1,  55, 156,   3,  80],\n",
              "       [  1,  53, 152,   2,  85],\n",
              "       [  0,  51, 153,   3,  80],\n",
              "       [  0,  50, 170,   1,  65],\n",
              "       [  1,  29, 166,   3,  76],\n",
              "       [  1,  28, 164,   3,  85],\n",
              "       [  0,  29, 170,   1,  50],\n",
              "       [  0,  55, 152,   1,  80],\n",
              "       [  0,  56, 154,   2,  90],\n",
              "       [  0,  60, 173,   1,  72],\n",
              "       [  1,  53, 152,   1,  80],\n",
              "       [  0,  54, 156,   3,  85],\n",
              "       [  1,  52, 150,   3,  90],\n",
              "       [  0,  42, 175,   2,  90],\n",
              "       [  1,  56, 150,   3,  85],\n",
              "       [  0,  45, 165,   1,  70],\n",
              "       [  1,  56, 150,   3,  85],\n",
              "       [  0,  56, 152,   1,  90],\n",
              "       [  0,  20, 169,   3,  67],\n",
              "       [  1,  54, 196,   2,  75],\n",
              "       [  1,  31, 182,   2,  80],\n",
              "       [  0,  32, 174,   2, 103],\n",
              "       [  0,  56, 152,   1,  90],\n",
              "       [  1,  56, 150,   3,  85],\n",
              "       [  0,  56, 171,   3,  73],\n",
              "       [  0,  55, 152,   1,  80],\n",
              "       [  1,  53, 152,   1,  80],\n",
              "       [  1,  50, 154,   2,  90],\n",
              "       [  0,  37, 172,   2,  58],\n",
              "       [  0,  58, 141,   3,  70],\n",
              "       [  1,  49, 153,   2,  80],\n",
              "       [  1,  39, 166,   1,  87],\n",
              "       [  1,  53, 152,   1,  80],\n",
              "       [  0,  54, 156,   3,  85],\n",
              "       [  0,  36, 160,   3,  66],\n",
              "       [  0,  30, 161,   2,  76],\n",
              "       [  1,  53, 152,   1,  80],\n",
              "       [  1,  49, 153,   2,  80],\n",
              "       [  0,  35, 169,   3,  62],\n",
              "       [  0,  55, 152,   1,  80],\n",
              "       [  0,  52, 152,   2,  85],\n",
              "       [  1,  49, 153,   2,  80],\n",
              "       [  0,  21, 159,   3,  64],\n",
              "       [  0,  54, 154,   2,  80],\n",
              "       [  0,  52, 151,   1,  85],\n",
              "       [  1,  51, 152,   1,  90],\n",
              "       [  0,  29, 169,   2,  77],\n",
              "       [  1,  46, 164,   1, 100],\n",
              "       [  1,  18, 165,   2,  55],\n",
              "       [  0,  18, 170,   2,  55],\n",
              "       [  1,  49, 153,   2,  80],\n",
              "       [  1,  50, 154,   2,  90],\n",
              "       [  1,  53, 152,   1,  80],\n",
              "       [  1,  40, 179,   3,  79],\n",
              "       [  1,  51, 175,   3,  88],\n",
              "       [  0,  48, 163,   2,  66],\n",
              "       [  1,  51, 152,   1,  90],\n",
              "       [  1,  20, 160,   1,  55],\n",
              "       [  0,  52, 152,   2,  85],\n",
              "       [  0,  56, 152,   1,  90],\n",
              "       [  1,  51, 152,   1,  90],\n",
              "       [  0,  37, 170,   3,  70],\n",
              "       [  1,  33, 190,   2,  76],\n",
              "       [  0,  57, 150,   3,  90],\n",
              "       [  1,  32, 167,   2,  50],\n",
              "       [  1,  31, 177,   3,  78],\n",
              "       [  1,  35, 156,   1,  50],\n",
              "       [  0,  35, 163,   3,  67],\n",
              "       [  0,  51, 174,   2,  63],\n",
              "       [  0,  28, 176,   1,  69],\n",
              "       [  0,  56, 154,   2,  90],\n",
              "       [  1,  47, 179,   3,  73],\n",
              "       [  1,  52, 154,   1,  85],\n",
              "       [  1,  40, 173,   1,  74],\n",
              "       [  1,  53, 152,   2,  85]])"
            ]
          },
          "metadata": {
            "tags": []
          },
          "execution_count": 55
        }
      ]
    },
    {
      "cell_type": "code",
      "metadata": {
        "colab": {
          "base_uri": "https://localhost:8080/"
        },
        "id": "4I_JHXIAdUar",
        "outputId": "c8d2f8bf-8369-4286-f8c3-6e024cbb2c17"
      },
      "source": [
        "from sklearn.ensemble import RandomForestRegressor\n",
        "regressor=RandomForestRegressor(n_estimators=300, random_state=0) #n_est=no. of trees\n",
        "regressor.fit(X_train,Y_train)\n",
        "Y_pred=regressor.predict(X_test)\n",
        "regressor.score(X_test, Y_test)"
      ],
      "execution_count": 56,
      "outputs": [
        {
          "output_type": "execute_result",
          "data": {
            "text/plain": [
              "0.9748276019010857"
            ]
          },
          "metadata": {
            "tags": []
          },
          "execution_count": 56
        }
      ]
    },
    {
      "cell_type": "code",
      "metadata": {
        "colab": {
          "base_uri": "https://localhost:8080/"
        },
        "id": "vC-i1KxgdY_z",
        "outputId": "df57de34-b794-4465-bca9-ad713645f423"
      },
      "source": [
        "import sklearn.metrics as sm\n",
        "print(\"Mean absolute error =\", round(sm.mean_absolute_error(Y_test, Y_pred), 2)) \n",
        "print(\"Mean squared error =\", round(sm.mean_squared_error(Y_test, Y_pred), 2)) \n",
        "print(\"Median absolute error =\", round(sm.median_absolute_error(Y_test, Y_pred), 2)) \n",
        "print(\"Explain variance score =\", round(sm.explained_variance_score(Y_test, Y_pred), 2)) \n",
        "print(\"R2 score =\", round(sm.r2_score(Y_test, Y_pred), 2))"
      ],
      "execution_count": 57,
      "outputs": [
        {
          "output_type": "stream",
          "text": [
            "Mean absolute error = 1.07\n",
            "Mean squared error = 3.54\n",
            "Median absolute error = 0.08\n",
            "Explain variance score = 0.97\n",
            "R2 score = 0.97\n"
          ],
          "name": "stdout"
        }
      ]
    },
    {
      "cell_type": "code",
      "metadata": {
        "colab": {
          "base_uri": "https://localhost:8080/",
          "height": 204
        },
        "id": "z_RyHS-Sew-G",
        "outputId": "1c76338b-1216-4d03-c2c5-d43b012ddaa6"
      },
      "source": [
        "#building optimal model using bwd elimination\n",
        "import statsmodels.api as sm \n",
        "final_dataset.tail()"
      ],
      "execution_count": 58,
      "outputs": [
        {
          "output_type": "execute_result",
          "data": {
            "text/html": [
              "<div>\n",
              "<style scoped>\n",
              "    .dataframe tbody tr th:only-of-type {\n",
              "        vertical-align: middle;\n",
              "    }\n",
              "\n",
              "    .dataframe tbody tr th {\n",
              "        vertical-align: top;\n",
              "    }\n",
              "\n",
              "    .dataframe thead th {\n",
              "        text-align: right;\n",
              "    }\n",
              "</style>\n",
              "<table border=\"1\" class=\"dataframe\">\n",
              "  <thead>\n",
              "    <tr style=\"text-align: right;\">\n",
              "      <th></th>\n",
              "      <th>gender</th>\n",
              "      <th>Age</th>\n",
              "      <th>Height</th>\n",
              "      <th>Diet</th>\n",
              "      <th>preweight</th>\n",
              "      <th>weightafter</th>\n",
              "    </tr>\n",
              "  </thead>\n",
              "  <tbody>\n",
              "    <tr>\n",
              "      <th>187</th>\n",
              "      <td>1</td>\n",
              "      <td>49</td>\n",
              "      <td>153</td>\n",
              "      <td>2</td>\n",
              "      <td>80</td>\n",
              "      <td>78.5</td>\n",
              "    </tr>\n",
              "    <tr>\n",
              "      <th>188</th>\n",
              "      <td>1</td>\n",
              "      <td>55</td>\n",
              "      <td>156</td>\n",
              "      <td>3</td>\n",
              "      <td>80</td>\n",
              "      <td>79.0</td>\n",
              "    </tr>\n",
              "    <tr>\n",
              "      <th>189</th>\n",
              "      <td>1</td>\n",
              "      <td>52</td>\n",
              "      <td>154</td>\n",
              "      <td>1</td>\n",
              "      <td>85</td>\n",
              "      <td>83.0</td>\n",
              "    </tr>\n",
              "    <tr>\n",
              "      <th>190</th>\n",
              "      <td>1</td>\n",
              "      <td>53</td>\n",
              "      <td>152</td>\n",
              "      <td>2</td>\n",
              "      <td>85</td>\n",
              "      <td>84.0</td>\n",
              "    </tr>\n",
              "    <tr>\n",
              "      <th>191</th>\n",
              "      <td>1</td>\n",
              "      <td>56</td>\n",
              "      <td>150</td>\n",
              "      <td>3</td>\n",
              "      <td>85</td>\n",
              "      <td>84.5</td>\n",
              "    </tr>\n",
              "  </tbody>\n",
              "</table>\n",
              "</div>"
            ],
            "text/plain": [
              "     gender  Age  Height  Diet  preweight  weightafter\n",
              "187       1   49     153     2         80         78.5\n",
              "188       1   55     156     3         80         79.0\n",
              "189       1   52     154     1         85         83.0\n",
              "190       1   53     152     2         85         84.0\n",
              "191       1   56     150     3         85         84.5"
            ]
          },
          "metadata": {
            "tags": []
          },
          "execution_count": 58
        }
      ]
    },
    {
      "cell_type": "code",
      "metadata": {
        "colab": {
          "base_uri": "https://localhost:8080/",
          "height": 204
        },
        "id": "e4JkoXSOf6Rz",
        "outputId": "9f657bae-ed7f-475e-caaa-6614aef5c297"
      },
      "source": [
        "final_dataset.head()"
      ],
      "execution_count": 59,
      "outputs": [
        {
          "output_type": "execute_result",
          "data": {
            "text/html": [
              "<div>\n",
              "<style scoped>\n",
              "    .dataframe tbody tr th:only-of-type {\n",
              "        vertical-align: middle;\n",
              "    }\n",
              "\n",
              "    .dataframe tbody tr th {\n",
              "        vertical-align: top;\n",
              "    }\n",
              "\n",
              "    .dataframe thead th {\n",
              "        text-align: right;\n",
              "    }\n",
              "</style>\n",
              "<table border=\"1\" class=\"dataframe\">\n",
              "  <thead>\n",
              "    <tr style=\"text-align: right;\">\n",
              "      <th></th>\n",
              "      <th>gender</th>\n",
              "      <th>Age</th>\n",
              "      <th>Height</th>\n",
              "      <th>Diet</th>\n",
              "      <th>preweight</th>\n",
              "      <th>weightafter</th>\n",
              "    </tr>\n",
              "  </thead>\n",
              "  <tbody>\n",
              "    <tr>\n",
              "      <th>0</th>\n",
              "      <td>0</td>\n",
              "      <td>41</td>\n",
              "      <td>171</td>\n",
              "      <td>2</td>\n",
              "      <td>60</td>\n",
              "      <td>60.0</td>\n",
              "    </tr>\n",
              "    <tr>\n",
              "      <th>1</th>\n",
              "      <td>0</td>\n",
              "      <td>32</td>\n",
              "      <td>174</td>\n",
              "      <td>2</td>\n",
              "      <td>103</td>\n",
              "      <td>103.0</td>\n",
              "    </tr>\n",
              "    <tr>\n",
              "      <th>2</th>\n",
              "      <td>0</td>\n",
              "      <td>22</td>\n",
              "      <td>159</td>\n",
              "      <td>1</td>\n",
              "      <td>58</td>\n",
              "      <td>54.2</td>\n",
              "    </tr>\n",
              "    <tr>\n",
              "      <th>3</th>\n",
              "      <td>0</td>\n",
              "      <td>46</td>\n",
              "      <td>192</td>\n",
              "      <td>1</td>\n",
              "      <td>60</td>\n",
              "      <td>54.0</td>\n",
              "    </tr>\n",
              "    <tr>\n",
              "      <th>4</th>\n",
              "      <td>0</td>\n",
              "      <td>55</td>\n",
              "      <td>170</td>\n",
              "      <td>1</td>\n",
              "      <td>64</td>\n",
              "      <td>63.3</td>\n",
              "    </tr>\n",
              "  </tbody>\n",
              "</table>\n",
              "</div>"
            ],
            "text/plain": [
              "   gender  Age  Height  Diet  preweight  weightafter\n",
              "0       0   41     171     2         60         60.0\n",
              "1       0   32     174     2        103        103.0\n",
              "2       0   22     159     1         58         54.2\n",
              "3       0   46     192     1         60         54.0\n",
              "4       0   55     170     1         64         63.3"
            ]
          },
          "metadata": {
            "tags": []
          },
          "execution_count": 59
        }
      ]
    },
    {
      "cell_type": "code",
      "metadata": {
        "colab": {
          "base_uri": "https://localhost:8080/"
        },
        "id": "Om3sNeRogKDH",
        "outputId": "ad5f7cbf-5697-4730-90f4-cd50207a89bc"
      },
      "source": [
        "X"
      ],
      "execution_count": 60,
      "outputs": [
        {
          "output_type": "execute_result",
          "data": {
            "text/plain": [
              "array([[  0,  41, 171,   2,  60],\n",
              "       [  0,  32, 174,   2, 103],\n",
              "       [  0,  22, 159,   1,  58],\n",
              "       [  0,  46, 192,   1,  60],\n",
              "       [  0,  55, 170,   1,  64],\n",
              "       [  0,  33, 171,   1,  64],\n",
              "       [  0,  50, 170,   1,  65],\n",
              "       [  0,  50, 201,   1,  66],\n",
              "       [  0,  37, 174,   1,  67],\n",
              "       [  0,  28, 176,   1,  69],\n",
              "       [  0,  28, 165,   1,  70],\n",
              "       [  0,  45, 165,   1,  70],\n",
              "       [  0,  60, 173,   1,  72],\n",
              "       [  0,  48, 156,   1,  72],\n",
              "       [  0,  41, 163,   1,  72],\n",
              "       [  0,  37, 167,   1,  82],\n",
              "       [  0,  44, 174,   2,  58],\n",
              "       [  0,  37, 172,   2,  58],\n",
              "       [  0,  41, 165,   2,  59],\n",
              "       [  0,  43, 171,   2,  61],\n",
              "       [  0,  20, 169,   2,  62],\n",
              "       [  0,  51, 174,   2,  63],\n",
              "       [  0,  31, 163,   2,  63],\n",
              "       [  0,  54, 173,   2,  63],\n",
              "       [  0,  50, 166,   2,  65],\n",
              "       [  0,  48, 163,   2,  66],\n",
              "       [  0,  16, 165,   2,  68],\n",
              "       [  0,  37, 167,   2,  68],\n",
              "       [  0,  30, 161,   2,  76],\n",
              "       [  0,  29, 169,   2,  77],\n",
              "       [  0,  51, 165,   3,  60],\n",
              "       [  0,  35, 169,   3,  62],\n",
              "       [  0,  21, 159,   3,  64],\n",
              "       [  0,  22, 169,   3,  65],\n",
              "       [  0,  36, 160,   3,  66],\n",
              "       [  0,  20, 169,   3,  67],\n",
              "       [  0,  35, 163,   3,  67],\n",
              "       [  0,  45, 155,   3,  69],\n",
              "       [  0,  58, 141,   3,  70],\n",
              "       [  0,  37, 170,   3,  70],\n",
              "       [  0,  31, 170,   3,  72],\n",
              "       [  0,  35, 171,   3,  72],\n",
              "       [  0,  56, 171,   3,  73],\n",
              "       [  0,  48, 153,   3,  75],\n",
              "       [  0,  41, 157,   3,  76],\n",
              "       [  1,  39, 168,   1,  71],\n",
              "       [  1,  31, 158,   1,  72],\n",
              "       [  1,  40, 173,   1,  74],\n",
              "       [  1,  50, 160,   1,  78],\n",
              "       [  1,  43, 162,   1,  80],\n",
              "       [  1,  25, 165,   1,  80],\n",
              "       [  1,  52, 177,   1,  83],\n",
              "       [  1,  42, 166,   1,  85],\n",
              "       [  1,  39, 166,   1,  87],\n",
              "       [  1,  40, 190,   1,  88],\n",
              "       [  1,  51, 191,   2,  71],\n",
              "       [  1,  38, 199,   2,  75],\n",
              "       [  1,  54, 196,   2,  75],\n",
              "       [  1,  33, 190,   2,  76],\n",
              "       [  1,  45, 160,   2,  78],\n",
              "       [  1,  37, 194,   2,  78],\n",
              "       [  1,  44, 163,   2,  79],\n",
              "       [  1,  40, 171,   2,  79],\n",
              "       [  1,  37, 198,   2,  79],\n",
              "       [  1,  39, 180,   2,  80],\n",
              "       [  1,  31, 182,   2,  80],\n",
              "       [  1,  36, 155,   3,  71],\n",
              "       [  1,  47, 179,   3,  73],\n",
              "       [  1,  29, 166,   3,  76],\n",
              "       [  1,  37, 173,   3,  78],\n",
              "       [  1,  31, 177,   3,  78],\n",
              "       [  1,  26, 179,   3,  78],\n",
              "       [  1,  40, 179,   3,  79],\n",
              "       [  1,  35, 183,   3,  83],\n",
              "       [  1,  49, 177,   3,  84],\n",
              "       [  1,  28, 164,   3,  85],\n",
              "       [  1,  40, 167,   3,  87],\n",
              "       [  1,  51, 175,   3,  88],\n",
              "       [  0,  20, 175,   1,  55],\n",
              "       [  0,  18, 170,   2,  55],\n",
              "       [  0,  19, 165,   3,  55],\n",
              "       [  1,  20, 160,   1,  55],\n",
              "       [  1,  18, 165,   2,  55],\n",
              "       [  1,  19, 168,   3,  55],\n",
              "       [  0,  29, 170,   1,  50],\n",
              "       [  0,  30, 171,   2,  50],\n",
              "       [  0,  31, 168,   3,  50],\n",
              "       [  1,  35, 156,   1,  50],\n",
              "       [  1,  32, 167,   2,  50],\n",
              "       [  1,  34, 178,   3,  50],\n",
              "       [  0,  41, 176,   1,  90],\n",
              "       [  0,  42, 175,   2,  90],\n",
              "       [  0,  45, 172,   3,  90],\n",
              "       [  1,  30, 179,   1,  90],\n",
              "       [  1,  34, 171,   2,  90],\n",
              "       [  1,  35, 170,   3,  90],\n",
              "       [  0,  40, 169,   1, 100],\n",
              "       [  0,  41, 168,   2, 100],\n",
              "       [  0,  47, 169,   3, 100],\n",
              "       [  1,  46, 164,   1, 100],\n",
              "       [  1,  42, 170,   2, 100],\n",
              "       [  1,  45, 171,   3, 100],\n",
              "       [  0,  56, 152,   1,  90],\n",
              "       [  0,  56, 154,   2,  90],\n",
              "       [  0,  57, 150,   3,  90],\n",
              "       [  0,  55, 152,   1,  80],\n",
              "       [  0,  54, 154,   2,  80],\n",
              "       [  0,  51, 153,   3,  80],\n",
              "       [  0,  52, 151,   1,  85],\n",
              "       [  0,  52, 152,   2,  85],\n",
              "       [  0,  54, 156,   3,  85],\n",
              "       [  1,  51, 152,   1,  90],\n",
              "       [  1,  50, 154,   2,  90],\n",
              "       [  1,  52, 150,   3,  90],\n",
              "       [  1,  53, 152,   1,  80],\n",
              "       [  1,  49, 153,   2,  80],\n",
              "       [  1,  55, 156,   3,  80],\n",
              "       [  1,  52, 154,   1,  85],\n",
              "       [  1,  53, 152,   2,  85],\n",
              "       [  1,  56, 150,   3,  85],\n",
              "       [  0,  56, 152,   1,  90],\n",
              "       [  0,  56, 154,   2,  90],\n",
              "       [  0,  57, 150,   3,  90],\n",
              "       [  0,  55, 152,   1,  80],\n",
              "       [  0,  54, 154,   2,  80],\n",
              "       [  0,  51, 153,   3,  80],\n",
              "       [  0,  52, 151,   1,  85],\n",
              "       [  0,  52, 152,   2,  85],\n",
              "       [  0,  54, 156,   3,  85],\n",
              "       [  1,  51, 152,   1,  90],\n",
              "       [  1,  50, 154,   2,  90],\n",
              "       [  1,  52, 150,   3,  90],\n",
              "       [  1,  53, 152,   1,  80],\n",
              "       [  1,  49, 153,   2,  80],\n",
              "       [  1,  55, 156,   3,  80],\n",
              "       [  1,  52, 154,   1,  85],\n",
              "       [  1,  53, 152,   2,  85],\n",
              "       [  1,  56, 150,   3,  85],\n",
              "       [  0,  56, 152,   1,  90],\n",
              "       [  0,  56, 154,   2,  90],\n",
              "       [  0,  57, 150,   3,  90],\n",
              "       [  0,  55, 152,   1,  80],\n",
              "       [  0,  54, 154,   2,  80],\n",
              "       [  0,  51, 153,   3,  80],\n",
              "       [  0,  52, 151,   1,  85],\n",
              "       [  0,  52, 152,   2,  85],\n",
              "       [  0,  54, 156,   3,  85],\n",
              "       [  1,  51, 152,   1,  90],\n",
              "       [  1,  50, 154,   2,  90],\n",
              "       [  1,  52, 150,   3,  90],\n",
              "       [  1,  53, 152,   1,  80],\n",
              "       [  1,  49, 153,   2,  80],\n",
              "       [  1,  55, 156,   3,  80],\n",
              "       [  1,  52, 154,   1,  85],\n",
              "       [  1,  53, 152,   2,  85],\n",
              "       [  1,  56, 150,   3,  85],\n",
              "       [  0,  56, 152,   1,  90],\n",
              "       [  0,  56, 154,   2,  90],\n",
              "       [  0,  57, 150,   3,  90],\n",
              "       [  0,  55, 152,   1,  80],\n",
              "       [  0,  54, 154,   2,  80],\n",
              "       [  0,  51, 153,   3,  80],\n",
              "       [  0,  52, 151,   1,  85],\n",
              "       [  0,  52, 152,   2,  85],\n",
              "       [  0,  54, 156,   3,  85],\n",
              "       [  1,  51, 152,   1,  90],\n",
              "       [  1,  50, 154,   2,  90],\n",
              "       [  1,  52, 150,   3,  90],\n",
              "       [  1,  53, 152,   1,  80],\n",
              "       [  1,  49, 153,   2,  80],\n",
              "       [  1,  55, 156,   3,  80],\n",
              "       [  1,  52, 154,   1,  85],\n",
              "       [  1,  53, 152,   2,  85],\n",
              "       [  1,  56, 150,   3,  85],\n",
              "       [  0,  56, 152,   1,  90],\n",
              "       [  0,  56, 154,   2,  90],\n",
              "       [  0,  57, 150,   3,  90],\n",
              "       [  0,  55, 152,   1,  80],\n",
              "       [  0,  54, 154,   2,  80],\n",
              "       [  0,  51, 153,   3,  80],\n",
              "       [  0,  52, 151,   1,  85],\n",
              "       [  0,  52, 152,   2,  85],\n",
              "       [  0,  54, 156,   3,  85],\n",
              "       [  1,  51, 152,   1,  90],\n",
              "       [  1,  50, 154,   2,  90],\n",
              "       [  1,  52, 150,   3,  90],\n",
              "       [  1,  53, 152,   1,  80],\n",
              "       [  1,  49, 153,   2,  80],\n",
              "       [  1,  55, 156,   3,  80],\n",
              "       [  1,  52, 154,   1,  85],\n",
              "       [  1,  53, 152,   2,  85],\n",
              "       [  1,  56, 150,   3,  85]])"
            ]
          },
          "metadata": {
            "tags": []
          },
          "execution_count": 60
        }
      ]
    },
    {
      "cell_type": "code",
      "metadata": {
        "colab": {
          "base_uri": "https://localhost:8080/"
        },
        "id": "Ef4CM7Hve4Nd",
        "outputId": "5731b344-7bd2-43c4-f3cc-53fcd8d552a3"
      },
      "source": [
        "X_train=np.append(arr=np.ones((192,1)).astype(int),values=X,axis=1)\n",
        "X_train"
      ],
      "execution_count": 61,
      "outputs": [
        {
          "output_type": "execute_result",
          "data": {
            "text/plain": [
              "array([[  1,   0,  41, 171,   2,  60],\n",
              "       [  1,   0,  32, 174,   2, 103],\n",
              "       [  1,   0,  22, 159,   1,  58],\n",
              "       ...,\n",
              "       [  1,   1,  52, 154,   1,  85],\n",
              "       [  1,   1,  53, 152,   2,  85],\n",
              "       [  1,   1,  56, 150,   3,  85]])"
            ]
          },
          "metadata": {
            "tags": []
          },
          "execution_count": 61
        }
      ]
    },
    {
      "cell_type": "code",
      "metadata": {
        "colab": {
          "base_uri": "https://localhost:8080/",
          "height": 507
        },
        "id": "VYlfdryefG26",
        "outputId": "8929f24a-90e5-4acf-decd-852f20f286c8"
      },
      "source": [
        "X_opt=X[:,[0,1,2,3,4]]#total number of x\n",
        "regressor_OLS=sm.OLS(endog=Y,exog=X_opt).fit()\n",
        "regressor_OLS.summary() #remove the parameters with P>0.5"
      ],
      "execution_count": 63,
      "outputs": [
        {
          "output_type": "execute_result",
          "data": {
            "text/html": [
              "<table class=\"simpletable\">\n",
              "<caption>OLS Regression Results</caption>\n",
              "<tr>\n",
              "  <th>Dep. Variable:</th>            <td>y</td>        <th>  R-squared (uncentered):</th>      <td>   0.999</td> \n",
              "</tr>\n",
              "<tr>\n",
              "  <th>Model:</th>                   <td>OLS</td>       <th>  Adj. R-squared (uncentered):</th> <td>   0.999</td> \n",
              "</tr>\n",
              "<tr>\n",
              "  <th>Method:</th>             <td>Least Squares</td>  <th>  F-statistic:       </th>          <td>5.952e+04</td>\n",
              "</tr>\n",
              "<tr>\n",
              "  <th>Date:</th>             <td>Mon, 15 Mar 2021</td> <th>  Prob (F-statistic):</th>          <td>2.79e-297</td>\n",
              "</tr>\n",
              "<tr>\n",
              "  <th>Time:</th>                 <td>20:18:06</td>     <th>  Log-Likelihood:    </th>          <td> -397.70</td> \n",
              "</tr>\n",
              "<tr>\n",
              "  <th>No. Observations:</th>      <td>   192</td>      <th>  AIC:               </th>          <td>   805.4</td> \n",
              "</tr>\n",
              "<tr>\n",
              "  <th>Df Residuals:</th>          <td>   187</td>      <th>  BIC:               </th>          <td>   821.7</td> \n",
              "</tr>\n",
              "<tr>\n",
              "  <th>Df Model:</th>              <td>     5</td>      <th>                     </th>              <td> </td>    \n",
              "</tr>\n",
              "<tr>\n",
              "  <th>Covariance Type:</th>      <td>nonrobust</td>    <th>                     </th>              <td> </td>    \n",
              "</tr>\n",
              "</table>\n",
              "<table class=\"simpletable\">\n",
              "<tr>\n",
              "   <td></td>     <th>coef</th>     <th>std err</th>      <th>t</th>      <th>P>|t|</th>  <th>[0.025</th>    <th>0.975]</th>  \n",
              "</tr>\n",
              "<tr>\n",
              "  <th>x1</th> <td>    0.5725</td> <td>    0.292</td> <td>    1.963</td> <td> 0.051</td> <td>   -0.003</td> <td>    1.148</td>\n",
              "</tr>\n",
              "<tr>\n",
              "  <th>x2</th> <td>    0.0616</td> <td>    0.016</td> <td>    3.941</td> <td> 0.000</td> <td>    0.031</td> <td>    0.092</td>\n",
              "</tr>\n",
              "<tr>\n",
              "  <th>x3</th> <td>   -0.0234</td> <td>    0.005</td> <td>   -4.682</td> <td> 0.000</td> <td>   -0.033</td> <td>   -0.014</td>\n",
              "</tr>\n",
              "<tr>\n",
              "  <th>x4</th> <td>   -0.0230</td> <td>    0.171</td> <td>   -0.134</td> <td> 0.893</td> <td>   -0.360</td> <td>    0.314</td>\n",
              "</tr>\n",
              "<tr>\n",
              "  <th>x5</th> <td>    0.9740</td> <td>    0.014</td> <td>   69.372</td> <td> 0.000</td> <td>    0.946</td> <td>    1.002</td>\n",
              "</tr>\n",
              "</table>\n",
              "<table class=\"simpletable\">\n",
              "<tr>\n",
              "  <th>Omnibus:</th>       <td>17.541</td> <th>  Durbin-Watson:     </th> <td>   1.673</td>\n",
              "</tr>\n",
              "<tr>\n",
              "  <th>Prob(Omnibus):</th> <td> 0.000</td> <th>  Jarque-Bera (JB):  </th> <td>  22.108</td>\n",
              "</tr>\n",
              "<tr>\n",
              "  <th>Skew:</th>          <td>-0.618</td> <th>  Prob(JB):          </th> <td>1.58e-05</td>\n",
              "</tr>\n",
              "<tr>\n",
              "  <th>Kurtosis:</th>      <td> 4.111</td> <th>  Cond. No.          </th> <td>    386.</td>\n",
              "</tr>\n",
              "</table><br/><br/>Warnings:<br/>[1] Standard Errors assume that the covariance matrix of the errors is correctly specified."
            ],
            "text/plain": [
              "<class 'statsmodels.iolib.summary.Summary'>\n",
              "\"\"\"\n",
              "                                 OLS Regression Results                                \n",
              "=======================================================================================\n",
              "Dep. Variable:                      y   R-squared (uncentered):                   0.999\n",
              "Model:                            OLS   Adj. R-squared (uncentered):              0.999\n",
              "Method:                 Least Squares   F-statistic:                          5.952e+04\n",
              "Date:                Mon, 15 Mar 2021   Prob (F-statistic):                   2.79e-297\n",
              "Time:                        20:18:06   Log-Likelihood:                         -397.70\n",
              "No. Observations:                 192   AIC:                                      805.4\n",
              "Df Residuals:                     187   BIC:                                      821.7\n",
              "Df Model:                           5                                                  \n",
              "Covariance Type:            nonrobust                                                  \n",
              "==============================================================================\n",
              "                 coef    std err          t      P>|t|      [0.025      0.975]\n",
              "------------------------------------------------------------------------------\n",
              "x1             0.5725      0.292      1.963      0.051      -0.003       1.148\n",
              "x2             0.0616      0.016      3.941      0.000       0.031       0.092\n",
              "x3            -0.0234      0.005     -4.682      0.000      -0.033      -0.014\n",
              "x4            -0.0230      0.171     -0.134      0.893      -0.360       0.314\n",
              "x5             0.9740      0.014     69.372      0.000       0.946       1.002\n",
              "==============================================================================\n",
              "Omnibus:                       17.541   Durbin-Watson:                   1.673\n",
              "Prob(Omnibus):                  0.000   Jarque-Bera (JB):               22.108\n",
              "Skew:                          -0.618   Prob(JB):                     1.58e-05\n",
              "Kurtosis:                       4.111   Cond. No.                         386.\n",
              "==============================================================================\n",
              "\n",
              "Warnings:\n",
              "[1] Standard Errors assume that the covariance matrix of the errors is correctly specified.\n",
              "\"\"\""
            ]
          },
          "metadata": {
            "tags": []
          },
          "execution_count": 63
        }
      ]
    },
    {
      "cell_type": "code",
      "metadata": {
        "colab": {
          "base_uri": "https://localhost:8080/",
          "height": 486
        },
        "id": "zQBqJKTefvzV",
        "outputId": "74210863-3670-47cd-c894-1a204d69f52b"
      },
      "source": [
        "X_opt=X[:,[0,1,2,4]]#total number of x\n",
        "regressor_OLS=sm.OLS(endog=Y,exog=X_opt).fit()\n",
        "regressor_OLS.summary() #remove the parameters with P>0.5"
      ],
      "execution_count": 66,
      "outputs": [
        {
          "output_type": "execute_result",
          "data": {
            "text/html": [
              "<table class=\"simpletable\">\n",
              "<caption>OLS Regression Results</caption>\n",
              "<tr>\n",
              "  <th>Dep. Variable:</th>            <td>y</td>        <th>  R-squared (uncentered):</th>      <td>   0.999</td> \n",
              "</tr>\n",
              "<tr>\n",
              "  <th>Model:</th>                   <td>OLS</td>       <th>  Adj. R-squared (uncentered):</th> <td>   0.999</td> \n",
              "</tr>\n",
              "<tr>\n",
              "  <th>Method:</th>             <td>Least Squares</td>  <th>  F-statistic:       </th>          <td>7.480e+04</td>\n",
              "</tr>\n",
              "<tr>\n",
              "  <th>Date:</th>             <td>Mon, 15 Mar 2021</td> <th>  Prob (F-statistic):</th>          <td>9.65e-300</td>\n",
              "</tr>\n",
              "<tr>\n",
              "  <th>Time:</th>                 <td>20:19:45</td>     <th>  Log-Likelihood:    </th>          <td> -397.71</td> \n",
              "</tr>\n",
              "<tr>\n",
              "  <th>No. Observations:</th>      <td>   192</td>      <th>  AIC:               </th>          <td>   803.4</td> \n",
              "</tr>\n",
              "<tr>\n",
              "  <th>Df Residuals:</th>          <td>   188</td>      <th>  BIC:               </th>          <td>   816.4</td> \n",
              "</tr>\n",
              "<tr>\n",
              "  <th>Df Model:</th>              <td>     4</td>      <th>                     </th>              <td> </td>    \n",
              "</tr>\n",
              "<tr>\n",
              "  <th>Covariance Type:</th>      <td>nonrobust</td>    <th>                     </th>              <td> </td>    \n",
              "</tr>\n",
              "</table>\n",
              "<table class=\"simpletable\">\n",
              "<tr>\n",
              "   <td></td>     <th>coef</th>     <th>std err</th>      <th>t</th>      <th>P>|t|</th>  <th>[0.025</th>    <th>0.975]</th>  \n",
              "</tr>\n",
              "<tr>\n",
              "  <th>x1</th> <td>    0.5730</td> <td>    0.291</td> <td>    1.970</td> <td> 0.050</td> <td>   -0.001</td> <td>    1.147</td>\n",
              "</tr>\n",
              "<tr>\n",
              "  <th>x2</th> <td>    0.0616</td> <td>    0.016</td> <td>    3.950</td> <td> 0.000</td> <td>    0.031</td> <td>    0.092</td>\n",
              "</tr>\n",
              "<tr>\n",
              "  <th>x3</th> <td>   -0.0236</td> <td>    0.005</td> <td>   -4.977</td> <td> 0.000</td> <td>   -0.033</td> <td>   -0.014</td>\n",
              "</tr>\n",
              "<tr>\n",
              "  <th>x4</th> <td>    0.9738</td> <td>    0.014</td> <td>   69.758</td> <td> 0.000</td> <td>    0.946</td> <td>    1.001</td>\n",
              "</tr>\n",
              "</table>\n",
              "<table class=\"simpletable\">\n",
              "<tr>\n",
              "  <th>Omnibus:</th>       <td>17.953</td> <th>  Durbin-Watson:     </th> <td>   1.667</td>\n",
              "</tr>\n",
              "<tr>\n",
              "  <th>Prob(Omnibus):</th> <td> 0.000</td> <th>  Jarque-Bera (JB):  </th> <td>  22.841</td>\n",
              "</tr>\n",
              "<tr>\n",
              "  <th>Skew:</th>          <td>-0.626</td> <th>  Prob(JB):          </th> <td>1.10e-05</td>\n",
              "</tr>\n",
              "<tr>\n",
              "  <th>Kurtosis:</th>      <td> 4.135</td> <th>  Cond. No.          </th> <td>    386.</td>\n",
              "</tr>\n",
              "</table><br/><br/>Warnings:<br/>[1] Standard Errors assume that the covariance matrix of the errors is correctly specified."
            ],
            "text/plain": [
              "<class 'statsmodels.iolib.summary.Summary'>\n",
              "\"\"\"\n",
              "                                 OLS Regression Results                                \n",
              "=======================================================================================\n",
              "Dep. Variable:                      y   R-squared (uncentered):                   0.999\n",
              "Model:                            OLS   Adj. R-squared (uncentered):              0.999\n",
              "Method:                 Least Squares   F-statistic:                          7.480e+04\n",
              "Date:                Mon, 15 Mar 2021   Prob (F-statistic):                   9.65e-300\n",
              "Time:                        20:19:45   Log-Likelihood:                         -397.71\n",
              "No. Observations:                 192   AIC:                                      803.4\n",
              "Df Residuals:                     188   BIC:                                      816.4\n",
              "Df Model:                           4                                                  \n",
              "Covariance Type:            nonrobust                                                  \n",
              "==============================================================================\n",
              "                 coef    std err          t      P>|t|      [0.025      0.975]\n",
              "------------------------------------------------------------------------------\n",
              "x1             0.5730      0.291      1.970      0.050      -0.001       1.147\n",
              "x2             0.0616      0.016      3.950      0.000       0.031       0.092\n",
              "x3            -0.0236      0.005     -4.977      0.000      -0.033      -0.014\n",
              "x4             0.9738      0.014     69.758      0.000       0.946       1.001\n",
              "==============================================================================\n",
              "Omnibus:                       17.953   Durbin-Watson:                   1.667\n",
              "Prob(Omnibus):                  0.000   Jarque-Bera (JB):               22.841\n",
              "Skew:                          -0.626   Prob(JB):                     1.10e-05\n",
              "Kurtosis:                       4.135   Cond. No.                         386.\n",
              "==============================================================================\n",
              "\n",
              "Warnings:\n",
              "[1] Standard Errors assume that the covariance matrix of the errors is correctly specified.\n",
              "\"\"\""
            ]
          },
          "metadata": {
            "tags": []
          },
          "execution_count": 66
        }
      ]
    },
    {
      "cell_type": "code",
      "metadata": {
        "colab": {
          "base_uri": "https://localhost:8080/"
        },
        "id": "_vNqSdUoiwwB",
        "outputId": "6559add3-c76f-415d-abdf-8beadb5f746d"
      },
      "source": [
        "X_opt"
      ],
      "execution_count": 67,
      "outputs": [
        {
          "output_type": "execute_result",
          "data": {
            "text/plain": [
              "array([[  0,  41, 171,  60],\n",
              "       [  0,  32, 174, 103],\n",
              "       [  0,  22, 159,  58],\n",
              "       [  0,  46, 192,  60],\n",
              "       [  0,  55, 170,  64],\n",
              "       [  0,  33, 171,  64],\n",
              "       [  0,  50, 170,  65],\n",
              "       [  0,  50, 201,  66],\n",
              "       [  0,  37, 174,  67],\n",
              "       [  0,  28, 176,  69],\n",
              "       [  0,  28, 165,  70],\n",
              "       [  0,  45, 165,  70],\n",
              "       [  0,  60, 173,  72],\n",
              "       [  0,  48, 156,  72],\n",
              "       [  0,  41, 163,  72],\n",
              "       [  0,  37, 167,  82],\n",
              "       [  0,  44, 174,  58],\n",
              "       [  0,  37, 172,  58],\n",
              "       [  0,  41, 165,  59],\n",
              "       [  0,  43, 171,  61],\n",
              "       [  0,  20, 169,  62],\n",
              "       [  0,  51, 174,  63],\n",
              "       [  0,  31, 163,  63],\n",
              "       [  0,  54, 173,  63],\n",
              "       [  0,  50, 166,  65],\n",
              "       [  0,  48, 163,  66],\n",
              "       [  0,  16, 165,  68],\n",
              "       [  0,  37, 167,  68],\n",
              "       [  0,  30, 161,  76],\n",
              "       [  0,  29, 169,  77],\n",
              "       [  0,  51, 165,  60],\n",
              "       [  0,  35, 169,  62],\n",
              "       [  0,  21, 159,  64],\n",
              "       [  0,  22, 169,  65],\n",
              "       [  0,  36, 160,  66],\n",
              "       [  0,  20, 169,  67],\n",
              "       [  0,  35, 163,  67],\n",
              "       [  0,  45, 155,  69],\n",
              "       [  0,  58, 141,  70],\n",
              "       [  0,  37, 170,  70],\n",
              "       [  0,  31, 170,  72],\n",
              "       [  0,  35, 171,  72],\n",
              "       [  0,  56, 171,  73],\n",
              "       [  0,  48, 153,  75],\n",
              "       [  0,  41, 157,  76],\n",
              "       [  1,  39, 168,  71],\n",
              "       [  1,  31, 158,  72],\n",
              "       [  1,  40, 173,  74],\n",
              "       [  1,  50, 160,  78],\n",
              "       [  1,  43, 162,  80],\n",
              "       [  1,  25, 165,  80],\n",
              "       [  1,  52, 177,  83],\n",
              "       [  1,  42, 166,  85],\n",
              "       [  1,  39, 166,  87],\n",
              "       [  1,  40, 190,  88],\n",
              "       [  1,  51, 191,  71],\n",
              "       [  1,  38, 199,  75],\n",
              "       [  1,  54, 196,  75],\n",
              "       [  1,  33, 190,  76],\n",
              "       [  1,  45, 160,  78],\n",
              "       [  1,  37, 194,  78],\n",
              "       [  1,  44, 163,  79],\n",
              "       [  1,  40, 171,  79],\n",
              "       [  1,  37, 198,  79],\n",
              "       [  1,  39, 180,  80],\n",
              "       [  1,  31, 182,  80],\n",
              "       [  1,  36, 155,  71],\n",
              "       [  1,  47, 179,  73],\n",
              "       [  1,  29, 166,  76],\n",
              "       [  1,  37, 173,  78],\n",
              "       [  1,  31, 177,  78],\n",
              "       [  1,  26, 179,  78],\n",
              "       [  1,  40, 179,  79],\n",
              "       [  1,  35, 183,  83],\n",
              "       [  1,  49, 177,  84],\n",
              "       [  1,  28, 164,  85],\n",
              "       [  1,  40, 167,  87],\n",
              "       [  1,  51, 175,  88],\n",
              "       [  0,  20, 175,  55],\n",
              "       [  0,  18, 170,  55],\n",
              "       [  0,  19, 165,  55],\n",
              "       [  1,  20, 160,  55],\n",
              "       [  1,  18, 165,  55],\n",
              "       [  1,  19, 168,  55],\n",
              "       [  0,  29, 170,  50],\n",
              "       [  0,  30, 171,  50],\n",
              "       [  0,  31, 168,  50],\n",
              "       [  1,  35, 156,  50],\n",
              "       [  1,  32, 167,  50],\n",
              "       [  1,  34, 178,  50],\n",
              "       [  0,  41, 176,  90],\n",
              "       [  0,  42, 175,  90],\n",
              "       [  0,  45, 172,  90],\n",
              "       [  1,  30, 179,  90],\n",
              "       [  1,  34, 171,  90],\n",
              "       [  1,  35, 170,  90],\n",
              "       [  0,  40, 169, 100],\n",
              "       [  0,  41, 168, 100],\n",
              "       [  0,  47, 169, 100],\n",
              "       [  1,  46, 164, 100],\n",
              "       [  1,  42, 170, 100],\n",
              "       [  1,  45, 171, 100],\n",
              "       [  0,  56, 152,  90],\n",
              "       [  0,  56, 154,  90],\n",
              "       [  0,  57, 150,  90],\n",
              "       [  0,  55, 152,  80],\n",
              "       [  0,  54, 154,  80],\n",
              "       [  0,  51, 153,  80],\n",
              "       [  0,  52, 151,  85],\n",
              "       [  0,  52, 152,  85],\n",
              "       [  0,  54, 156,  85],\n",
              "       [  1,  51, 152,  90],\n",
              "       [  1,  50, 154,  90],\n",
              "       [  1,  52, 150,  90],\n",
              "       [  1,  53, 152,  80],\n",
              "       [  1,  49, 153,  80],\n",
              "       [  1,  55, 156,  80],\n",
              "       [  1,  52, 154,  85],\n",
              "       [  1,  53, 152,  85],\n",
              "       [  1,  56, 150,  85],\n",
              "       [  0,  56, 152,  90],\n",
              "       [  0,  56, 154,  90],\n",
              "       [  0,  57, 150,  90],\n",
              "       [  0,  55, 152,  80],\n",
              "       [  0,  54, 154,  80],\n",
              "       [  0,  51, 153,  80],\n",
              "       [  0,  52, 151,  85],\n",
              "       [  0,  52, 152,  85],\n",
              "       [  0,  54, 156,  85],\n",
              "       [  1,  51, 152,  90],\n",
              "       [  1,  50, 154,  90],\n",
              "       [  1,  52, 150,  90],\n",
              "       [  1,  53, 152,  80],\n",
              "       [  1,  49, 153,  80],\n",
              "       [  1,  55, 156,  80],\n",
              "       [  1,  52, 154,  85],\n",
              "       [  1,  53, 152,  85],\n",
              "       [  1,  56, 150,  85],\n",
              "       [  0,  56, 152,  90],\n",
              "       [  0,  56, 154,  90],\n",
              "       [  0,  57, 150,  90],\n",
              "       [  0,  55, 152,  80],\n",
              "       [  0,  54, 154,  80],\n",
              "       [  0,  51, 153,  80],\n",
              "       [  0,  52, 151,  85],\n",
              "       [  0,  52, 152,  85],\n",
              "       [  0,  54, 156,  85],\n",
              "       [  1,  51, 152,  90],\n",
              "       [  1,  50, 154,  90],\n",
              "       [  1,  52, 150,  90],\n",
              "       [  1,  53, 152,  80],\n",
              "       [  1,  49, 153,  80],\n",
              "       [  1,  55, 156,  80],\n",
              "       [  1,  52, 154,  85],\n",
              "       [  1,  53, 152,  85],\n",
              "       [  1,  56, 150,  85],\n",
              "       [  0,  56, 152,  90],\n",
              "       [  0,  56, 154,  90],\n",
              "       [  0,  57, 150,  90],\n",
              "       [  0,  55, 152,  80],\n",
              "       [  0,  54, 154,  80],\n",
              "       [  0,  51, 153,  80],\n",
              "       [  0,  52, 151,  85],\n",
              "       [  0,  52, 152,  85],\n",
              "       [  0,  54, 156,  85],\n",
              "       [  1,  51, 152,  90],\n",
              "       [  1,  50, 154,  90],\n",
              "       [  1,  52, 150,  90],\n",
              "       [  1,  53, 152,  80],\n",
              "       [  1,  49, 153,  80],\n",
              "       [  1,  55, 156,  80],\n",
              "       [  1,  52, 154,  85],\n",
              "       [  1,  53, 152,  85],\n",
              "       [  1,  56, 150,  85],\n",
              "       [  0,  56, 152,  90],\n",
              "       [  0,  56, 154,  90],\n",
              "       [  0,  57, 150,  90],\n",
              "       [  0,  55, 152,  80],\n",
              "       [  0,  54, 154,  80],\n",
              "       [  0,  51, 153,  80],\n",
              "       [  0,  52, 151,  85],\n",
              "       [  0,  52, 152,  85],\n",
              "       [  0,  54, 156,  85],\n",
              "       [  1,  51, 152,  90],\n",
              "       [  1,  50, 154,  90],\n",
              "       [  1,  52, 150,  90],\n",
              "       [  1,  53, 152,  80],\n",
              "       [  1,  49, 153,  80],\n",
              "       [  1,  55, 156,  80],\n",
              "       [  1,  52, 154,  85],\n",
              "       [  1,  53, 152,  85],\n",
              "       [  1,  56, 150,  85]])"
            ]
          },
          "metadata": {
            "tags": []
          },
          "execution_count": 67
        }
      ]
    },
    {
      "cell_type": "code",
      "metadata": {
        "id": "K0ba8pzAi47L"
      },
      "source": [
        "final_dataset.drop(['Diet'],axis=1,inplace=True)"
      ],
      "execution_count": 79,
      "outputs": []
    },
    {
      "cell_type": "code",
      "metadata": {
        "colab": {
          "base_uri": "https://localhost:8080/",
          "height": 204
        },
        "id": "jMi49GK1jLWs",
        "outputId": "c515aaa6-afb6-400c-cee5-4cd476ff0f76"
      },
      "source": [
        "final_dataset.head()"
      ],
      "execution_count": 80,
      "outputs": [
        {
          "output_type": "execute_result",
          "data": {
            "text/html": [
              "<div>\n",
              "<style scoped>\n",
              "    .dataframe tbody tr th:only-of-type {\n",
              "        vertical-align: middle;\n",
              "    }\n",
              "\n",
              "    .dataframe tbody tr th {\n",
              "        vertical-align: top;\n",
              "    }\n",
              "\n",
              "    .dataframe thead th {\n",
              "        text-align: right;\n",
              "    }\n",
              "</style>\n",
              "<table border=\"1\" class=\"dataframe\">\n",
              "  <thead>\n",
              "    <tr style=\"text-align: right;\">\n",
              "      <th></th>\n",
              "      <th>gender</th>\n",
              "      <th>Age</th>\n",
              "      <th>Height</th>\n",
              "      <th>preweight</th>\n",
              "      <th>weightafter</th>\n",
              "    </tr>\n",
              "  </thead>\n",
              "  <tbody>\n",
              "    <tr>\n",
              "      <th>0</th>\n",
              "      <td>0</td>\n",
              "      <td>41</td>\n",
              "      <td>171</td>\n",
              "      <td>60</td>\n",
              "      <td>60.0</td>\n",
              "    </tr>\n",
              "    <tr>\n",
              "      <th>1</th>\n",
              "      <td>0</td>\n",
              "      <td>32</td>\n",
              "      <td>174</td>\n",
              "      <td>103</td>\n",
              "      <td>103.0</td>\n",
              "    </tr>\n",
              "    <tr>\n",
              "      <th>2</th>\n",
              "      <td>0</td>\n",
              "      <td>22</td>\n",
              "      <td>159</td>\n",
              "      <td>58</td>\n",
              "      <td>54.2</td>\n",
              "    </tr>\n",
              "    <tr>\n",
              "      <th>3</th>\n",
              "      <td>0</td>\n",
              "      <td>46</td>\n",
              "      <td>192</td>\n",
              "      <td>60</td>\n",
              "      <td>54.0</td>\n",
              "    </tr>\n",
              "    <tr>\n",
              "      <th>4</th>\n",
              "      <td>0</td>\n",
              "      <td>55</td>\n",
              "      <td>170</td>\n",
              "      <td>64</td>\n",
              "      <td>63.3</td>\n",
              "    </tr>\n",
              "  </tbody>\n",
              "</table>\n",
              "</div>"
            ],
            "text/plain": [
              "   gender  Age  Height  preweight  weightafter\n",
              "0       0   41     171         60         60.0\n",
              "1       0   32     174        103        103.0\n",
              "2       0   22     159         58         54.2\n",
              "3       0   46     192         60         54.0\n",
              "4       0   55     170         64         63.3"
            ]
          },
          "metadata": {
            "tags": []
          },
          "execution_count": 80
        }
      ]
    },
    {
      "cell_type": "code",
      "metadata": {
        "id": "rpuXehCajNeU"
      },
      "source": [
        "X=final_dataset.iloc[:,:-1].values\n",
        "Y=final_dataset.iloc[:,4].values"
      ],
      "execution_count": 81,
      "outputs": []
    },
    {
      "cell_type": "code",
      "metadata": {
        "colab": {
          "base_uri": "https://localhost:8080/"
        },
        "id": "OdG0yqCOj-_H",
        "outputId": "03f6701c-74b6-4bde-a752-3abf4265cd03"
      },
      "source": [
        "X"
      ],
      "execution_count": 82,
      "outputs": [
        {
          "output_type": "execute_result",
          "data": {
            "text/plain": [
              "array([[  0,  41, 171,  60],\n",
              "       [  0,  32, 174, 103],\n",
              "       [  0,  22, 159,  58],\n",
              "       [  0,  46, 192,  60],\n",
              "       [  0,  55, 170,  64],\n",
              "       [  0,  33, 171,  64],\n",
              "       [  0,  50, 170,  65],\n",
              "       [  0,  50, 201,  66],\n",
              "       [  0,  37, 174,  67],\n",
              "       [  0,  28, 176,  69],\n",
              "       [  0,  28, 165,  70],\n",
              "       [  0,  45, 165,  70],\n",
              "       [  0,  60, 173,  72],\n",
              "       [  0,  48, 156,  72],\n",
              "       [  0,  41, 163,  72],\n",
              "       [  0,  37, 167,  82],\n",
              "       [  0,  44, 174,  58],\n",
              "       [  0,  37, 172,  58],\n",
              "       [  0,  41, 165,  59],\n",
              "       [  0,  43, 171,  61],\n",
              "       [  0,  20, 169,  62],\n",
              "       [  0,  51, 174,  63],\n",
              "       [  0,  31, 163,  63],\n",
              "       [  0,  54, 173,  63],\n",
              "       [  0,  50, 166,  65],\n",
              "       [  0,  48, 163,  66],\n",
              "       [  0,  16, 165,  68],\n",
              "       [  0,  37, 167,  68],\n",
              "       [  0,  30, 161,  76],\n",
              "       [  0,  29, 169,  77],\n",
              "       [  0,  51, 165,  60],\n",
              "       [  0,  35, 169,  62],\n",
              "       [  0,  21, 159,  64],\n",
              "       [  0,  22, 169,  65],\n",
              "       [  0,  36, 160,  66],\n",
              "       [  0,  20, 169,  67],\n",
              "       [  0,  35, 163,  67],\n",
              "       [  0,  45, 155,  69],\n",
              "       [  0,  58, 141,  70],\n",
              "       [  0,  37, 170,  70],\n",
              "       [  0,  31, 170,  72],\n",
              "       [  0,  35, 171,  72],\n",
              "       [  0,  56, 171,  73],\n",
              "       [  0,  48, 153,  75],\n",
              "       [  0,  41, 157,  76],\n",
              "       [  1,  39, 168,  71],\n",
              "       [  1,  31, 158,  72],\n",
              "       [  1,  40, 173,  74],\n",
              "       [  1,  50, 160,  78],\n",
              "       [  1,  43, 162,  80],\n",
              "       [  1,  25, 165,  80],\n",
              "       [  1,  52, 177,  83],\n",
              "       [  1,  42, 166,  85],\n",
              "       [  1,  39, 166,  87],\n",
              "       [  1,  40, 190,  88],\n",
              "       [  1,  51, 191,  71],\n",
              "       [  1,  38, 199,  75],\n",
              "       [  1,  54, 196,  75],\n",
              "       [  1,  33, 190,  76],\n",
              "       [  1,  45, 160,  78],\n",
              "       [  1,  37, 194,  78],\n",
              "       [  1,  44, 163,  79],\n",
              "       [  1,  40, 171,  79],\n",
              "       [  1,  37, 198,  79],\n",
              "       [  1,  39, 180,  80],\n",
              "       [  1,  31, 182,  80],\n",
              "       [  1,  36, 155,  71],\n",
              "       [  1,  47, 179,  73],\n",
              "       [  1,  29, 166,  76],\n",
              "       [  1,  37, 173,  78],\n",
              "       [  1,  31, 177,  78],\n",
              "       [  1,  26, 179,  78],\n",
              "       [  1,  40, 179,  79],\n",
              "       [  1,  35, 183,  83],\n",
              "       [  1,  49, 177,  84],\n",
              "       [  1,  28, 164,  85],\n",
              "       [  1,  40, 167,  87],\n",
              "       [  1,  51, 175,  88],\n",
              "       [  0,  20, 175,  55],\n",
              "       [  0,  18, 170,  55],\n",
              "       [  0,  19, 165,  55],\n",
              "       [  1,  20, 160,  55],\n",
              "       [  1,  18, 165,  55],\n",
              "       [  1,  19, 168,  55],\n",
              "       [  0,  29, 170,  50],\n",
              "       [  0,  30, 171,  50],\n",
              "       [  0,  31, 168,  50],\n",
              "       [  1,  35, 156,  50],\n",
              "       [  1,  32, 167,  50],\n",
              "       [  1,  34, 178,  50],\n",
              "       [  0,  41, 176,  90],\n",
              "       [  0,  42, 175,  90],\n",
              "       [  0,  45, 172,  90],\n",
              "       [  1,  30, 179,  90],\n",
              "       [  1,  34, 171,  90],\n",
              "       [  1,  35, 170,  90],\n",
              "       [  0,  40, 169, 100],\n",
              "       [  0,  41, 168, 100],\n",
              "       [  0,  47, 169, 100],\n",
              "       [  1,  46, 164, 100],\n",
              "       [  1,  42, 170, 100],\n",
              "       [  1,  45, 171, 100],\n",
              "       [  0,  56, 152,  90],\n",
              "       [  0,  56, 154,  90],\n",
              "       [  0,  57, 150,  90],\n",
              "       [  0,  55, 152,  80],\n",
              "       [  0,  54, 154,  80],\n",
              "       [  0,  51, 153,  80],\n",
              "       [  0,  52, 151,  85],\n",
              "       [  0,  52, 152,  85],\n",
              "       [  0,  54, 156,  85],\n",
              "       [  1,  51, 152,  90],\n",
              "       [  1,  50, 154,  90],\n",
              "       [  1,  52, 150,  90],\n",
              "       [  1,  53, 152,  80],\n",
              "       [  1,  49, 153,  80],\n",
              "       [  1,  55, 156,  80],\n",
              "       [  1,  52, 154,  85],\n",
              "       [  1,  53, 152,  85],\n",
              "       [  1,  56, 150,  85],\n",
              "       [  0,  56, 152,  90],\n",
              "       [  0,  56, 154,  90],\n",
              "       [  0,  57, 150,  90],\n",
              "       [  0,  55, 152,  80],\n",
              "       [  0,  54, 154,  80],\n",
              "       [  0,  51, 153,  80],\n",
              "       [  0,  52, 151,  85],\n",
              "       [  0,  52, 152,  85],\n",
              "       [  0,  54, 156,  85],\n",
              "       [  1,  51, 152,  90],\n",
              "       [  1,  50, 154,  90],\n",
              "       [  1,  52, 150,  90],\n",
              "       [  1,  53, 152,  80],\n",
              "       [  1,  49, 153,  80],\n",
              "       [  1,  55, 156,  80],\n",
              "       [  1,  52, 154,  85],\n",
              "       [  1,  53, 152,  85],\n",
              "       [  1,  56, 150,  85],\n",
              "       [  0,  56, 152,  90],\n",
              "       [  0,  56, 154,  90],\n",
              "       [  0,  57, 150,  90],\n",
              "       [  0,  55, 152,  80],\n",
              "       [  0,  54, 154,  80],\n",
              "       [  0,  51, 153,  80],\n",
              "       [  0,  52, 151,  85],\n",
              "       [  0,  52, 152,  85],\n",
              "       [  0,  54, 156,  85],\n",
              "       [  1,  51, 152,  90],\n",
              "       [  1,  50, 154,  90],\n",
              "       [  1,  52, 150,  90],\n",
              "       [  1,  53, 152,  80],\n",
              "       [  1,  49, 153,  80],\n",
              "       [  1,  55, 156,  80],\n",
              "       [  1,  52, 154,  85],\n",
              "       [  1,  53, 152,  85],\n",
              "       [  1,  56, 150,  85],\n",
              "       [  0,  56, 152,  90],\n",
              "       [  0,  56, 154,  90],\n",
              "       [  0,  57, 150,  90],\n",
              "       [  0,  55, 152,  80],\n",
              "       [  0,  54, 154,  80],\n",
              "       [  0,  51, 153,  80],\n",
              "       [  0,  52, 151,  85],\n",
              "       [  0,  52, 152,  85],\n",
              "       [  0,  54, 156,  85],\n",
              "       [  1,  51, 152,  90],\n",
              "       [  1,  50, 154,  90],\n",
              "       [  1,  52, 150,  90],\n",
              "       [  1,  53, 152,  80],\n",
              "       [  1,  49, 153,  80],\n",
              "       [  1,  55, 156,  80],\n",
              "       [  1,  52, 154,  85],\n",
              "       [  1,  53, 152,  85],\n",
              "       [  1,  56, 150,  85],\n",
              "       [  0,  56, 152,  90],\n",
              "       [  0,  56, 154,  90],\n",
              "       [  0,  57, 150,  90],\n",
              "       [  0,  55, 152,  80],\n",
              "       [  0,  54, 154,  80],\n",
              "       [  0,  51, 153,  80],\n",
              "       [  0,  52, 151,  85],\n",
              "       [  0,  52, 152,  85],\n",
              "       [  0,  54, 156,  85],\n",
              "       [  1,  51, 152,  90],\n",
              "       [  1,  50, 154,  90],\n",
              "       [  1,  52, 150,  90],\n",
              "       [  1,  53, 152,  80],\n",
              "       [  1,  49, 153,  80],\n",
              "       [  1,  55, 156,  80],\n",
              "       [  1,  52, 154,  85],\n",
              "       [  1,  53, 152,  85],\n",
              "       [  1,  56, 150,  85]])"
            ]
          },
          "metadata": {
            "tags": []
          },
          "execution_count": 82
        }
      ]
    },
    {
      "cell_type": "code",
      "metadata": {
        "colab": {
          "base_uri": "https://localhost:8080/"
        },
        "id": "ExESwum7kAb4",
        "outputId": "6a3f4c17-cc9c-4365-84a7-ea3fbaccdbd5"
      },
      "source": [
        "Y"
      ],
      "execution_count": 83,
      "outputs": [
        {
          "output_type": "execute_result",
          "data": {
            "text/plain": [
              "array([ 60. , 103. ,  54.2,  54. ,  63.3,  61.1,  62.2,  64. ,  65. ,\n",
              "        60.5,  68.1,  66.9,  70.5,  69. ,  68.4,  81.1,  60.1,  56. ,\n",
              "        57.3,  56.7,  55. ,  62.4,  60.3,  59.4,  62. ,  64. ,  63.8,\n",
              "        63.3,  72.7,  77.5,  53. ,  56.4,  60.6,  58.2,  58.2,  61.6,\n",
              "        60.2,  61.8,  63. ,  62.7,  71.1,  64.4,  68.9,  68.7,  71. ,\n",
              "        71.6,  70.9,  69.5,  73.9,  71. ,  77.6,  79.1,  81.5,  81.9,\n",
              "        84.5,  66.8,  72.6,  69.2,  72.5,  72.7,  76.3,  73.6,  72.9,\n",
              "        71.1,  81.4,  75.7,  68.5,  72.1,  72.5,  77.5,  75.2,  69.4,\n",
              "        74.5,  80.2,  79.9,  79.7,  77.8,  81.9,  52. ,  51. ,  50. ,\n",
              "        53. ,  52. ,  51. ,  49.8,  49. ,  48.5,  49.5,  49. ,  48. ,\n",
              "        87.5,  86.5,  85.5,  88. ,  87. ,  86. ,  97. ,  95. ,  94. ,\n",
              "        96.5,  95. ,  93.4,  86. ,  87. ,  89. ,  77. ,  78. ,  79. ,\n",
              "        82. ,  83. ,  84. ,  87. ,  88. ,  89.5,  78. ,  78.5,  79. ,\n",
              "        83. ,  84. ,  84.5,  86. ,  87. ,  89. ,  77. ,  78. ,  79. ,\n",
              "        82. ,  83. ,  84. ,  87. ,  88. ,  89.5,  78. ,  78.5,  79. ,\n",
              "        83. ,  84. ,  84.5,  86. ,  87. ,  89. ,  77. ,  78. ,  79. ,\n",
              "        82. ,  83. ,  84. ,  87. ,  88. ,  89.5,  78. ,  78.5,  79. ,\n",
              "        83. ,  84. ,  84.5,  86. ,  87. ,  89. ,  77. ,  78. ,  79. ,\n",
              "        82. ,  83. ,  84. ,  87. ,  88. ,  89.5,  78. ,  78.5,  79. ,\n",
              "        83. ,  84. ,  84.5,  86. ,  87. ,  89. ,  77. ,  78. ,  79. ,\n",
              "        82. ,  83. ,  84. ,  87. ,  88. ,  89.5,  78. ,  78.5,  79. ,\n",
              "        83. ,  84. ,  84.5])"
            ]
          },
          "metadata": {
            "tags": []
          },
          "execution_count": 83
        }
      ]
    },
    {
      "cell_type": "code",
      "metadata": {
        "id": "6Temz7nskB7t"
      },
      "source": [
        "from sklearn.model_selection import train_test_split\n",
        "X_train, X_test, Y_train, Y_test = train_test_split(X, Y, test_size=0.3, random_state=0)"
      ],
      "execution_count": 84,
      "outputs": []
    },
    {
      "cell_type": "code",
      "metadata": {
        "colab": {
          "base_uri": "https://localhost:8080/"
        },
        "id": "YurSSygjkGtn",
        "outputId": "14d991b3-52e1-4f2b-b82d-9e662e4cb043"
      },
      "source": [
        "X_train"
      ],
      "execution_count": 85,
      "outputs": [
        {
          "output_type": "execute_result",
          "data": {
            "text/plain": [
              "array([[  1,  52, 177,  83],\n",
              "       [  0,  31, 168,  50],\n",
              "       [  0,  51, 153,  80],\n",
              "       [  0,  31, 170,  72],\n",
              "       [  0,  57, 150,  90],\n",
              "       [  0,  31, 163,  63],\n",
              "       [  1,  52, 150,  90],\n",
              "       [  1,  50, 154,  90],\n",
              "       [  1,  56, 150,  85],\n",
              "       [  0,  19, 165,  55],\n",
              "       [  0,  52, 151,  85],\n",
              "       [  0,  41, 163,  72],\n",
              "       [  0,  37, 167,  68],\n",
              "       [  0,  45, 172,  90],\n",
              "       [  0,  52, 152,  85],\n",
              "       [  1,  31, 158,  72],\n",
              "       [  1,  55, 156,  80],\n",
              "       [  0,  47, 169, 100],\n",
              "       [  1,  40, 171,  79],\n",
              "       [  0,  22, 159,  58],\n",
              "       [  1,  45, 160,  78],\n",
              "       [  0,  54, 154,  80],\n",
              "       [  0,  51, 153,  80],\n",
              "       [  0,  48, 153,  75],\n",
              "       [  0,  28, 165,  70],\n",
              "       [  1,  30, 179,  90],\n",
              "       [  1,  35, 183,  83],\n",
              "       [  1,  52, 150,  90],\n",
              "       [  1,  52, 154,  85],\n",
              "       [  0,  54, 154,  80],\n",
              "       [  1,  52, 154,  85],\n",
              "       [  1,  55, 156,  80],\n",
              "       [  1,  53, 152,  85],\n",
              "       [  1,  50, 154,  90],\n",
              "       [  1,  25, 165,  80],\n",
              "       [  0,  41, 171,  60],\n",
              "       [  1,  34, 171,  90],\n",
              "       [  1,  52, 154,  85],\n",
              "       [  1,  35, 170,  90],\n",
              "       [  1,  39, 180,  80],\n",
              "       [  1,  52, 154,  85],\n",
              "       [  0,  35, 171,  72],\n",
              "       [  1,  37, 173,  78],\n",
              "       [  1,  43, 162,  80],\n",
              "       [  1,  50, 160,  78],\n",
              "       [  0,  30, 171,  50],\n",
              "       [  0,  48, 156,  72],\n",
              "       [  0,  52, 151,  85],\n",
              "       [  0,  54, 173,  63],\n",
              "       [  0,  51, 153,  80],\n",
              "       [  1,  51, 152,  90],\n",
              "       [  0,  20, 169,  62],\n",
              "       [  0,  37, 167,  82],\n",
              "       [  0,  20, 175,  55],\n",
              "       [  0,  57, 150,  90],\n",
              "       [  1,  42, 166,  85],\n",
              "       [  1,  42, 170, 100],\n",
              "       [  1,  40, 167,  87],\n",
              "       [  0,  46, 192,  60],\n",
              "       [  1,  55, 156,  80],\n",
              "       [  1,  53, 152,  85],\n",
              "       [  0,  51, 153,  80],\n",
              "       [  0,  50, 170,  65],\n",
              "       [  1,  29, 166,  76],\n",
              "       [  1,  28, 164,  85],\n",
              "       [  0,  29, 170,  50],\n",
              "       [  0,  55, 152,  80],\n",
              "       [  0,  56, 154,  90],\n",
              "       [  0,  60, 173,  72],\n",
              "       [  1,  53, 152,  80],\n",
              "       [  0,  54, 156,  85],\n",
              "       [  1,  52, 150,  90],\n",
              "       [  0,  42, 175,  90],\n",
              "       [  1,  56, 150,  85],\n",
              "       [  0,  45, 165,  70],\n",
              "       [  1,  56, 150,  85],\n",
              "       [  0,  56, 152,  90],\n",
              "       [  0,  20, 169,  67],\n",
              "       [  1,  54, 196,  75],\n",
              "       [  1,  31, 182,  80],\n",
              "       [  0,  32, 174, 103],\n",
              "       [  0,  56, 152,  90],\n",
              "       [  1,  56, 150,  85],\n",
              "       [  0,  56, 171,  73],\n",
              "       [  0,  55, 152,  80],\n",
              "       [  1,  53, 152,  80],\n",
              "       [  1,  50, 154,  90],\n",
              "       [  0,  37, 172,  58],\n",
              "       [  0,  58, 141,  70],\n",
              "       [  1,  49, 153,  80],\n",
              "       [  1,  39, 166,  87],\n",
              "       [  1,  53, 152,  80],\n",
              "       [  0,  54, 156,  85],\n",
              "       [  0,  36, 160,  66],\n",
              "       [  0,  30, 161,  76],\n",
              "       [  1,  53, 152,  80],\n",
              "       [  1,  49, 153,  80],\n",
              "       [  0,  35, 169,  62],\n",
              "       [  0,  55, 152,  80],\n",
              "       [  0,  52, 152,  85],\n",
              "       [  1,  49, 153,  80],\n",
              "       [  0,  21, 159,  64],\n",
              "       [  0,  54, 154,  80],\n",
              "       [  0,  52, 151,  85],\n",
              "       [  1,  51, 152,  90],\n",
              "       [  0,  29, 169,  77],\n",
              "       [  1,  46, 164, 100],\n",
              "       [  1,  18, 165,  55],\n",
              "       [  0,  18, 170,  55],\n",
              "       [  1,  49, 153,  80],\n",
              "       [  1,  50, 154,  90],\n",
              "       [  1,  53, 152,  80],\n",
              "       [  1,  40, 179,  79],\n",
              "       [  1,  51, 175,  88],\n",
              "       [  0,  48, 163,  66],\n",
              "       [  1,  51, 152,  90],\n",
              "       [  1,  20, 160,  55],\n",
              "       [  0,  52, 152,  85],\n",
              "       [  0,  56, 152,  90],\n",
              "       [  1,  51, 152,  90],\n",
              "       [  0,  37, 170,  70],\n",
              "       [  1,  33, 190,  76],\n",
              "       [  0,  57, 150,  90],\n",
              "       [  1,  32, 167,  50],\n",
              "       [  1,  31, 177,  78],\n",
              "       [  1,  35, 156,  50],\n",
              "       [  0,  35, 163,  67],\n",
              "       [  0,  51, 174,  63],\n",
              "       [  0,  28, 176,  69],\n",
              "       [  0,  56, 154,  90],\n",
              "       [  1,  47, 179,  73],\n",
              "       [  1,  52, 154,  85],\n",
              "       [  1,  40, 173,  74],\n",
              "       [  1,  53, 152,  85]])"
            ]
          },
          "metadata": {
            "tags": []
          },
          "execution_count": 85
        }
      ]
    },
    {
      "cell_type": "code",
      "metadata": {
        "colab": {
          "base_uri": "https://localhost:8080/"
        },
        "id": "8ICNLKaNkIYQ",
        "outputId": "081cde4c-7094-437a-9284-2d9183e9dfe5"
      },
      "source": [
        "Y_train"
      ],
      "execution_count": 86,
      "outputs": [
        {
          "output_type": "execute_result",
          "data": {
            "text/plain": [
              "array([ 79.1,  48.5,  79. ,  71.1,  89. ,  60.3,  89.5,  88. ,  84.5,\n",
              "        50. ,  82. ,  68.4,  63.3,  85.5,  83. ,  70.9,  79. ,  94. ,\n",
              "        72.9,  54.2,  72.7,  78. ,  79. ,  68.7,  68.1,  88. ,  80.2,\n",
              "        89.5,  83. ,  78. ,  83. ,  79. ,  84. ,  88. ,  77.6,  60. ,\n",
              "        87. ,  83. ,  86. ,  81.4,  83. ,  64.4,  77.5,  71. ,  73.9,\n",
              "        49. ,  69. ,  82. ,  59.4,  79. ,  87. ,  55. ,  81.1,  52. ,\n",
              "        89. ,  81.5,  95. ,  77.8,  54. ,  79. ,  84. ,  79. ,  62.2,\n",
              "        72.5,  79.7,  49.8,  77. ,  87. ,  70.5,  78. ,  84. ,  89.5,\n",
              "        86.5,  84.5,  66.9,  84.5,  86. ,  61.6,  69.2,  75.7, 103. ,\n",
              "        86. ,  84.5,  68.9,  77. ,  78. ,  88. ,  56. ,  63. ,  78.5,\n",
              "        81.9,  78. ,  84. ,  58.2,  72.7,  78. ,  78.5,  56.4,  77. ,\n",
              "        83. ,  78.5,  60.6,  78. ,  82. ,  87. ,  77.5,  96.5,  52. ,\n",
              "        51. ,  78.5,  88. ,  78. ,  74.5,  81.9,  64. ,  87. ,  53. ,\n",
              "        83. ,  86. ,  87. ,  62.7,  72.5,  89. ,  49. ,  75.2,  49.5,\n",
              "        60.2,  62.4,  60.5,  87. ,  72.1,  83. ,  69.5,  84. ])"
            ]
          },
          "metadata": {
            "tags": []
          },
          "execution_count": 86
        }
      ]
    },
    {
      "cell_type": "code",
      "metadata": {
        "colab": {
          "base_uri": "https://localhost:8080/"
        },
        "id": "UMgS-sUCkLaU",
        "outputId": "5d642b6e-bd1b-40fa-9988-52fc02ed6c2c"
      },
      "source": [
        "from sklearn.ensemble import RandomForestRegressor\n",
        "regressor=RandomForestRegressor(n_estimators=10, random_state=0) #n_est=no. of trees\n",
        "regressor.fit(X_train,Y_train)\n",
        "Y_pred=regressor.predict(X_test)\n",
        "regressor.score(X_test, Y_test)"
      ],
      "execution_count": 87,
      "outputs": [
        {
          "output_type": "execute_result",
          "data": {
            "text/plain": [
              "0.9685417922297729"
            ]
          },
          "metadata": {
            "tags": []
          },
          "execution_count": 87
        }
      ]
    },
    {
      "cell_type": "code",
      "metadata": {
        "colab": {
          "base_uri": "https://localhost:8080/"
        },
        "id": "ZQNEtah2kSDl",
        "outputId": "2a479340-f8cc-4bd5-89cf-2e0bb53b9812"
      },
      "source": [
        "from sklearn.ensemble import RandomForestRegressor\n",
        "regressor=RandomForestRegressor(n_estimators=300, random_state=0) #n_est=no. of trees\n",
        "regressor.fit(X_train,Y_train)\n",
        "Y_pred=regressor.predict(X_test)\n",
        "regressor.score(X_test, Y_test)"
      ],
      "execution_count": 88,
      "outputs": [
        {
          "output_type": "execute_result",
          "data": {
            "text/plain": [
              "0.9715003647438"
            ]
          },
          "metadata": {
            "tags": []
          },
          "execution_count": 88
        }
      ]
    },
    {
      "cell_type": "code",
      "metadata": {
        "colab": {
          "base_uri": "https://localhost:8080/"
        },
        "id": "-AecPBx4kU5v",
        "outputId": "c1ab2667-e6b0-49b6-d013-89e71cf60427"
      },
      "source": [
        "from sklearn.ensemble import RandomForestRegressor\n",
        "regressor=RandomForestRegressor(n_estimators=1000, random_state=0) #n_est=no. of trees\n",
        "regressor.fit(X_train,Y_train)\n",
        "Y_pred=regressor.predict(X_test)\n",
        "regressor.score(X_test, Y_test)"
      ],
      "execution_count": 89,
      "outputs": [
        {
          "output_type": "execute_result",
          "data": {
            "text/plain": [
              "0.9711551649977048"
            ]
          },
          "metadata": {
            "tags": []
          },
          "execution_count": 89
        }
      ]
    },
    {
      "cell_type": "code",
      "metadata": {
        "colab": {
          "base_uri": "https://localhost:8080/",
          "height": 282
        },
        "id": "h_foCwyhkXNQ",
        "outputId": "9f179194-ae86-4c1d-b4f0-c9d33b393230"
      },
      "source": [
        "plt.scatter(Y_test,Y_pred)"
      ],
      "execution_count": 90,
      "outputs": [
        {
          "output_type": "execute_result",
          "data": {
            "text/plain": [
              "<matplotlib.collections.PathCollection at 0x7f95f00993d0>"
            ]
          },
          "metadata": {
            "tags": []
          },
          "execution_count": 90
        },
        {
          "output_type": "display_data",
          "data": {
            "image/png": "[encoded data removed]",
            "text/plain": [
              "<Figure size 432x288 with 1 Axes>"
            ]
          },
          "metadata": {
            "tags": [],
            "needs_background": "light"
          }
        }
      ]
    },
    {
      "cell_type": "code",
      "metadata": {
        "id": "486knxJ5kkQi"
      },
      "source": [
        ""
      ],
      "execution_count": null,
      "outputs": []
    }
  ]
}