{
  "nbformat": 4,
  "nbformat_minor": 0,
  "metadata": {
    "colab": {
      "name": "EDA.ipynb",
      "provenance": [],
      "mount_file_id": "11nU1GIy9TV4ftHc8orL2FyXIpPAADDZA",
      "authorship_tag": "ABX9TyP5qpM7iRYbCjIMZjffXPmJ",
      "include_colab_link": true
    },
    "kernelspec": {
      "name": "python3",
      "display_name": "Python 3"
    }
  },
  "cells": [
    {
      "cell_type": "markdown",
      "metadata": {
        "id": "view-in-github",
        "colab_type": "text"
      },
      "source": [
        "<a href=\"https://colab.research.google.com/github/hrithikpurwar/ML/blob/main/EDA.ipynb\" target=\"_parent\"><img src=\"https://colab.research.google.com/assets/colab-badge.svg\" alt=\"Open In Colab\"/></a>"
      ]
    },
    {
      "cell_type": "code",
      "metadata": {
        "id": "O4MezEfvbgJI"
      },
      "source": [
        "import seaborn as sns\n",
        "import numpy as np\n",
        "import pandas as pd\n",
        "import matplotlib.pyplot as plt\n",
        "import seaborn as sns\n",
        "%matplotlib inline\n"
      ],
      "execution_count": null,
      "outputs": []
    },
    {
      "cell_type": "code",
      "metadata": {
        "colab": {
          "base_uri": "https://localhost:8080/"
        },
        "id": "PUtLfHlTbq7n",
        "outputId": "c484ca4f-e8b2-4e49-9231-e1ee33b29cf2"
      },
      "source": [
        "df1=pd.read_csv('/content/airline_accidents.csv')"
      ],
      "execution_count": null,
      "outputs": [
        {
          "output_type": "stream",
          "text": [
            "/usr/local/lib/python3.7/dist-packages/IPython/core/interactiveshell.py:2718: DtypeWarning: Columns (0,23,24,25,26) have mixed types.Specify dtype option on import or set low_memory=False.\n",
            "  interactivity=interactivity, compiler=compiler, result=result)\n"
          ],
          "name": "stderr"
        }
      ]
    },
    {
      "cell_type": "code",
      "metadata": {
        "colab": {
          "base_uri": "https://localhost:8080/"
        },
        "id": "Uuv5OwAkdlfa",
        "outputId": "b722dd0b-ba70-4314-d1bb-084c9b43ab48"
      },
      "source": [
        "df2=pd.read_csv('/content/faa_incidents_data.csv')"
      ],
      "execution_count": null,
      "outputs": [
        {
          "output_type": "stream",
          "text": [
            "/usr/local/lib/python3.7/dist-packages/IPython/core/interactiveshell.py:2718: DtypeWarning: Columns (12,14) have mixed types.Specify dtype option on import or set low_memory=False.\n",
            "  interactivity=interactivity, compiler=compiler, result=result)\n"
          ],
          "name": "stderr"
        }
      ]
    },
    {
      "cell_type": "code",
      "metadata": {
        "colab": {
          "base_uri": "https://localhost:8080/",
          "height": 800
        },
        "id": "IicpnW5-fPRb",
        "outputId": "9f54ffdf-e3bd-4d63-8744-dd58acaef0bc"
      },
      "source": [
        "df3=pd.read_csv('/content/ntsb_aviation_data.csv')"
      ],
      "execution_count": null,
      "outputs": [
        {
          "output_type": "error",
          "ename": "UnicodeDecodeError",
          "evalue": "ignored",
          "traceback": [
            "\u001b[0;31m---------------------------------------------------------------------------\u001b[0m",
            "\u001b[0;31mUnicodeDecodeError\u001b[0m                        Traceback (most recent call last)",
            "\u001b[0;32mpandas/_libs/parsers.pyx\u001b[0m in \u001b[0;36mpandas._libs.parsers.TextReader._convert_tokens\u001b[0;34m()\u001b[0m\n",
            "\u001b[0;32mpandas/_libs/parsers.pyx\u001b[0m in \u001b[0;36mpandas._libs.parsers.TextReader._convert_with_dtype\u001b[0;34m()\u001b[0m\n",
            "\u001b[0;32mpandas/_libs/parsers.pyx\u001b[0m in \u001b[0;36mpandas._libs.parsers.TextReader._string_convert\u001b[0;34m()\u001b[0m\n",
            "\u001b[0;32mpandas/_libs/parsers.pyx\u001b[0m in \u001b[0;36mpandas._libs.parsers._string_box_utf8\u001b[0;34m()\u001b[0m\n",
            "\u001b[0;31mUnicodeDecodeError\u001b[0m: 'utf-8' codec can't decode byte 0x96 in position 2: invalid start byte",
            "\nDuring handling of the above exception, another exception occurred:\n",
            "\u001b[0;31mUnicodeDecodeError\u001b[0m                        Traceback (most recent call last)",
            "\u001b[0;32m<ipython-input-5-3f8d6df68d8d>\u001b[0m in \u001b[0;36m<module>\u001b[0;34m()\u001b[0m\n\u001b[0;32m----> 1\u001b[0;31m \u001b[0mdf3\u001b[0m\u001b[0;34m=\u001b[0m\u001b[0mpd\u001b[0m\u001b[0;34m.\u001b[0m\u001b[0mread_csv\u001b[0m\u001b[0;34m(\u001b[0m\u001b[0;34m'/content/ntsb_aviation_data.csv'\u001b[0m\u001b[0;34m)\u001b[0m\u001b[0;34m\u001b[0m\u001b[0;34m\u001b[0m\u001b[0m\n\u001b[0m",
            "\u001b[0;32m/usr/local/lib/python3.7/dist-packages/pandas/io/parsers.py\u001b[0m in \u001b[0;36mread_csv\u001b[0;34m(filepath_or_buffer, sep, delimiter, header, names, index_col, usecols, squeeze, prefix, mangle_dupe_cols, dtype, engine, converters, true_values, false_values, skipinitialspace, skiprows, skipfooter, nrows, na_values, keep_default_na, na_filter, verbose, skip_blank_lines, parse_dates, infer_datetime_format, keep_date_col, date_parser, dayfirst, cache_dates, iterator, chunksize, compression, thousands, decimal, lineterminator, quotechar, quoting, doublequote, escapechar, comment, encoding, dialect, error_bad_lines, warn_bad_lines, delim_whitespace, low_memory, memory_map, float_precision)\u001b[0m\n\u001b[1;32m    686\u001b[0m     )\n\u001b[1;32m    687\u001b[0m \u001b[0;34m\u001b[0m\u001b[0m\n\u001b[0;32m--> 688\u001b[0;31m     \u001b[0;32mreturn\u001b[0m \u001b[0m_read\u001b[0m\u001b[0;34m(\u001b[0m\u001b[0mfilepath_or_buffer\u001b[0m\u001b[0;34m,\u001b[0m \u001b[0mkwds\u001b[0m\u001b[0;34m)\u001b[0m\u001b[0;34m\u001b[0m\u001b[0;34m\u001b[0m\u001b[0m\n\u001b[0m\u001b[1;32m    689\u001b[0m \u001b[0;34m\u001b[0m\u001b[0m\n\u001b[1;32m    690\u001b[0m \u001b[0;34m\u001b[0m\u001b[0m\n",
            "\u001b[0;32m/usr/local/lib/python3.7/dist-packages/pandas/io/parsers.py\u001b[0m in \u001b[0;36m_read\u001b[0;34m(filepath_or_buffer, kwds)\u001b[0m\n\u001b[1;32m    458\u001b[0m \u001b[0;34m\u001b[0m\u001b[0m\n\u001b[1;32m    459\u001b[0m     \u001b[0;32mtry\u001b[0m\u001b[0;34m:\u001b[0m\u001b[0;34m\u001b[0m\u001b[0;34m\u001b[0m\u001b[0m\n\u001b[0;32m--> 460\u001b[0;31m         \u001b[0mdata\u001b[0m \u001b[0;34m=\u001b[0m \u001b[0mparser\u001b[0m\u001b[0;34m.\u001b[0m\u001b[0mread\u001b[0m\u001b[0;34m(\u001b[0m\u001b[0mnrows\u001b[0m\u001b[0;34m)\u001b[0m\u001b[0;34m\u001b[0m\u001b[0;34m\u001b[0m\u001b[0m\n\u001b[0m\u001b[1;32m    461\u001b[0m     \u001b[0;32mfinally\u001b[0m\u001b[0;34m:\u001b[0m\u001b[0;34m\u001b[0m\u001b[0;34m\u001b[0m\u001b[0m\n\u001b[1;32m    462\u001b[0m         \u001b[0mparser\u001b[0m\u001b[0;34m.\u001b[0m\u001b[0mclose\u001b[0m\u001b[0;34m(\u001b[0m\u001b[0;34m)\u001b[0m\u001b[0;34m\u001b[0m\u001b[0;34m\u001b[0m\u001b[0m\n",
            "\u001b[0;32m/usr/local/lib/python3.7/dist-packages/pandas/io/parsers.py\u001b[0m in \u001b[0;36mread\u001b[0;34m(self, nrows)\u001b[0m\n\u001b[1;32m   1196\u001b[0m     \u001b[0;32mdef\u001b[0m \u001b[0mread\u001b[0m\u001b[0;34m(\u001b[0m\u001b[0mself\u001b[0m\u001b[0;34m,\u001b[0m \u001b[0mnrows\u001b[0m\u001b[0;34m=\u001b[0m\u001b[0;32mNone\u001b[0m\u001b[0;34m)\u001b[0m\u001b[0;34m:\u001b[0m\u001b[0;34m\u001b[0m\u001b[0;34m\u001b[0m\u001b[0m\n\u001b[1;32m   1197\u001b[0m         \u001b[0mnrows\u001b[0m \u001b[0;34m=\u001b[0m \u001b[0m_validate_integer\u001b[0m\u001b[0;34m(\u001b[0m\u001b[0;34m\"nrows\"\u001b[0m\u001b[0;34m,\u001b[0m \u001b[0mnrows\u001b[0m\u001b[0;34m)\u001b[0m\u001b[0;34m\u001b[0m\u001b[0;34m\u001b[0m\u001b[0m\n\u001b[0;32m-> 1198\u001b[0;31m         \u001b[0mret\u001b[0m \u001b[0;34m=\u001b[0m \u001b[0mself\u001b[0m\u001b[0;34m.\u001b[0m\u001b[0m_engine\u001b[0m\u001b[0;34m.\u001b[0m\u001b[0mread\u001b[0m\u001b[0;34m(\u001b[0m\u001b[0mnrows\u001b[0m\u001b[0;34m)\u001b[0m\u001b[0;34m\u001b[0m\u001b[0;34m\u001b[0m\u001b[0m\n\u001b[0m\u001b[1;32m   1199\u001b[0m \u001b[0;34m\u001b[0m\u001b[0m\n\u001b[1;32m   1200\u001b[0m         \u001b[0;31m# May alter columns / col_dict\u001b[0m\u001b[0;34m\u001b[0m\u001b[0;34m\u001b[0m\u001b[0;34m\u001b[0m\u001b[0m\n",
            "\u001b[0;32m/usr/local/lib/python3.7/dist-packages/pandas/io/parsers.py\u001b[0m in \u001b[0;36mread\u001b[0;34m(self, nrows)\u001b[0m\n\u001b[1;32m   2155\u001b[0m     \u001b[0;32mdef\u001b[0m \u001b[0mread\u001b[0m\u001b[0;34m(\u001b[0m\u001b[0mself\u001b[0m\u001b[0;34m,\u001b[0m \u001b[0mnrows\u001b[0m\u001b[0;34m=\u001b[0m\u001b[0;32mNone\u001b[0m\u001b[0;34m)\u001b[0m\u001b[0;34m:\u001b[0m\u001b[0;34m\u001b[0m\u001b[0;34m\u001b[0m\u001b[0m\n\u001b[1;32m   2156\u001b[0m         \u001b[0;32mtry\u001b[0m\u001b[0;34m:\u001b[0m\u001b[0;34m\u001b[0m\u001b[0;34m\u001b[0m\u001b[0m\n\u001b[0;32m-> 2157\u001b[0;31m             \u001b[0mdata\u001b[0m \u001b[0;34m=\u001b[0m \u001b[0mself\u001b[0m\u001b[0;34m.\u001b[0m\u001b[0m_reader\u001b[0m\u001b[0;34m.\u001b[0m\u001b[0mread\u001b[0m\u001b[0;34m(\u001b[0m\u001b[0mnrows\u001b[0m\u001b[0;34m)\u001b[0m\u001b[0;34m\u001b[0m\u001b[0;34m\u001b[0m\u001b[0m\n\u001b[0m\u001b[1;32m   2158\u001b[0m         \u001b[0;32mexcept\u001b[0m \u001b[0mStopIteration\u001b[0m\u001b[0;34m:\u001b[0m\u001b[0;34m\u001b[0m\u001b[0;34m\u001b[0m\u001b[0m\n\u001b[1;32m   2159\u001b[0m             \u001b[0;32mif\u001b[0m \u001b[0mself\u001b[0m\u001b[0;34m.\u001b[0m\u001b[0m_first_chunk\u001b[0m\u001b[0;34m:\u001b[0m\u001b[0;34m\u001b[0m\u001b[0;34m\u001b[0m\u001b[0m\n",
            "\u001b[0;32mpandas/_libs/parsers.pyx\u001b[0m in \u001b[0;36mpandas._libs.parsers.TextReader.read\u001b[0;34m()\u001b[0m\n",
            "\u001b[0;32mpandas/_libs/parsers.pyx\u001b[0m in \u001b[0;36mpandas._libs.parsers.TextReader._read_low_memory\u001b[0;34m()\u001b[0m\n",
            "\u001b[0;32mpandas/_libs/parsers.pyx\u001b[0m in \u001b[0;36mpandas._libs.parsers.TextReader._read_rows\u001b[0;34m()\u001b[0m\n",
            "\u001b[0;32mpandas/_libs/parsers.pyx\u001b[0m in \u001b[0;36mpandas._libs.parsers.TextReader._convert_column_data\u001b[0;34m()\u001b[0m\n",
            "\u001b[0;32mpandas/_libs/parsers.pyx\u001b[0m in \u001b[0;36mpandas._libs.parsers.TextReader._convert_tokens\u001b[0;34m()\u001b[0m\n",
            "\u001b[0;32mpandas/_libs/parsers.pyx\u001b[0m in \u001b[0;36mpandas._libs.parsers.TextReader._convert_with_dtype\u001b[0;34m()\u001b[0m\n",
            "\u001b[0;32mpandas/_libs/parsers.pyx\u001b[0m in \u001b[0;36mpandas._libs.parsers.TextReader._string_convert\u001b[0;34m()\u001b[0m\n",
            "\u001b[0;32mpandas/_libs/parsers.pyx\u001b[0m in \u001b[0;36mpandas._libs.parsers._string_box_utf8\u001b[0;34m()\u001b[0m\n",
            "\u001b[0;31mUnicodeDecodeError\u001b[0m: 'utf-8' codec can't decode byte 0x96 in position 2: invalid start byte"
          ]
        }
      ]
    },
    {
      "cell_type": "code",
      "metadata": {
        "colab": {
          "base_uri": "https://localhost:8080/",
          "height": 445
        },
        "id": "yVVtDX5qfUR2",
        "outputId": "40c096eb-37bd-4ad6-dd0b-98b2d6b60fce"
      },
      "source": [
        "df1.head()"
      ],
      "execution_count": null,
      "outputs": [
        {
          "output_type": "execute_result",
          "data": {
            "text/html": [
              "<div>\n",
              "<style scoped>\n",
              "    .dataframe tbody tr th:only-of-type {\n",
              "        vertical-align: middle;\n",
              "    }\n",
              "\n",
              "    .dataframe tbody tr th {\n",
              "        vertical-align: top;\n",
              "    }\n",
              "\n",
              "    .dataframe thead th {\n",
              "        text-align: right;\n",
              "    }\n",
              "</style>\n",
              "<table border=\"1\" class=\"dataframe\">\n",
              "  <thead>\n",
              "    <tr style=\"text-align: right;\">\n",
              "      <th></th>\n",
              "      <th>Event Id</th>\n",
              "      <th>Investigation Type</th>\n",
              "      <th>Accident Number</th>\n",
              "      <th>Event Date</th>\n",
              "      <th>Location</th>\n",
              "      <th>Country</th>\n",
              "      <th>Latitude</th>\n",
              "      <th>Longitude</th>\n",
              "      <th>Airport Code</th>\n",
              "      <th>Airport Name</th>\n",
              "      <th>Injury Severity</th>\n",
              "      <th>Aircraft Damage</th>\n",
              "      <th>Aircraft Category</th>\n",
              "      <th>Registration Number</th>\n",
              "      <th>Make</th>\n",
              "      <th>Model</th>\n",
              "      <th>Amateur Built</th>\n",
              "      <th>Number of Engines</th>\n",
              "      <th>Engine Type</th>\n",
              "      <th>FAR Description</th>\n",
              "      <th>Schedule</th>\n",
              "      <th>Purpose of Flight</th>\n",
              "      <th>Air Carrier</th>\n",
              "      <th>Total Fatal Injuries</th>\n",
              "      <th>Total Serious Injuries</th>\n",
              "      <th>Total Minor Injuries</th>\n",
              "      <th>Total Uninjured</th>\n",
              "      <th>Weather Condition</th>\n",
              "      <th>Broad Phase of Flight</th>\n",
              "      <th>Report Publication Date</th>\n",
              "      <th>Unnamed: 30</th>\n",
              "    </tr>\n",
              "  </thead>\n",
              "  <tbody>\n",
              "    <tr>\n",
              "      <th>0</th>\n",
              "      <td>20080125X00106</td>\n",
              "      <td>Accident</td>\n",
              "      <td>SEA08CA056</td>\n",
              "      <td>12/31/2007</td>\n",
              "      <td>Santa Ana, CA</td>\n",
              "      <td>United States</td>\n",
              "      <td>33.675556</td>\n",
              "      <td>-117.868056</td>\n",
              "      <td>SNA</td>\n",
              "      <td>John Wayne - Orange County</td>\n",
              "      <td>Non-Fatal</td>\n",
              "      <td>Substantial</td>\n",
              "      <td>Airplane</td>\n",
              "      <td>N2800D</td>\n",
              "      <td>Piper</td>\n",
              "      <td>PA-12</td>\n",
              "      <td>No</td>\n",
              "      <td>1</td>\n",
              "      <td>Reciprocating</td>\n",
              "      <td>Part 91: General Aviation</td>\n",
              "      <td></td>\n",
              "      <td>Instructional</td>\n",
              "      <td></td>\n",
              "      <td></td>\n",
              "      <td></td>\n",
              "      <td></td>\n",
              "      <td>2</td>\n",
              "      <td>VMC</td>\n",
              "      <td>LANDING</td>\n",
              "      <td>02/28/2008</td>\n",
              "      <td></td>\n",
              "    </tr>\n",
              "    <tr>\n",
              "      <th>1</th>\n",
              "      <td>20080206X00141</td>\n",
              "      <td>Accident</td>\n",
              "      <td>CHI08WA075</td>\n",
              "      <td>12/31/2007</td>\n",
              "      <td>Guernsey, United Kingdom</td>\n",
              "      <td>United Kingdom</td>\n",
              "      <td>49.435000</td>\n",
              "      <td>-2.600278</td>\n",
              "      <td></td>\n",
              "      <td></td>\n",
              "      <td>Non-Fatal</td>\n",
              "      <td>Minor</td>\n",
              "      <td></td>\n",
              "      <td></td>\n",
              "      <td>Cessna</td>\n",
              "      <td>T303</td>\n",
              "      <td>No</td>\n",
              "      <td></td>\n",
              "      <td></td>\n",
              "      <td></td>\n",
              "      <td></td>\n",
              "      <td>Unknown</td>\n",
              "      <td></td>\n",
              "      <td></td>\n",
              "      <td></td>\n",
              "      <td></td>\n",
              "      <td>1</td>\n",
              "      <td></td>\n",
              "      <td></td>\n",
              "      <td>02/06/2008</td>\n",
              "      <td></td>\n",
              "    </tr>\n",
              "    <tr>\n",
              "      <th>2</th>\n",
              "      <td>20080129X00122</td>\n",
              "      <td>Accident</td>\n",
              "      <td>CHI08CA057</td>\n",
              "      <td>12/30/2007</td>\n",
              "      <td>Alexandria, MN</td>\n",
              "      <td>United States</td>\n",
              "      <td>45.866111</td>\n",
              "      <td>-95.394444</td>\n",
              "      <td>AXN</td>\n",
              "      <td>Chandler Field Airport</td>\n",
              "      <td>Non-Fatal</td>\n",
              "      <td>Substantial</td>\n",
              "      <td>Airplane</td>\n",
              "      <td>N5093F</td>\n",
              "      <td>Lerohl</td>\n",
              "      <td>RV-8</td>\n",
              "      <td>Yes</td>\n",
              "      <td>1</td>\n",
              "      <td>Reciprocating</td>\n",
              "      <td>Part 91: General Aviation</td>\n",
              "      <td></td>\n",
              "      <td>Personal</td>\n",
              "      <td></td>\n",
              "      <td></td>\n",
              "      <td></td>\n",
              "      <td></td>\n",
              "      <td>1</td>\n",
              "      <td>VMC</td>\n",
              "      <td>TAKEOFF</td>\n",
              "      <td>02/28/2008</td>\n",
              "      <td></td>\n",
              "    </tr>\n",
              "    <tr>\n",
              "      <th>3</th>\n",
              "      <td>20080114X00045</td>\n",
              "      <td>Accident</td>\n",
              "      <td>LAX08FA043</td>\n",
              "      <td>12/30/2007</td>\n",
              "      <td>Paso Robles, CA</td>\n",
              "      <td>United States</td>\n",
              "      <td>35.542222</td>\n",
              "      <td>-120.522778</td>\n",
              "      <td>PRB</td>\n",
              "      <td>Paso Robles Airport</td>\n",
              "      <td>Fatal(1)</td>\n",
              "      <td>Substantial</td>\n",
              "      <td>Airplane</td>\n",
              "      <td>N254SR</td>\n",
              "      <td>Cirrus Design Corp.</td>\n",
              "      <td>SR22</td>\n",
              "      <td>No</td>\n",
              "      <td>1</td>\n",
              "      <td>Reciprocating</td>\n",
              "      <td>Part 91: General Aviation</td>\n",
              "      <td></td>\n",
              "      <td>Personal</td>\n",
              "      <td></td>\n",
              "      <td>1</td>\n",
              "      <td></td>\n",
              "      <td></td>\n",
              "      <td></td>\n",
              "      <td>VMC</td>\n",
              "      <td>MANEUVERING</td>\n",
              "      <td>06/20/2014</td>\n",
              "      <td></td>\n",
              "    </tr>\n",
              "    <tr>\n",
              "      <th>4</th>\n",
              "      <td>20080109X00032</td>\n",
              "      <td>Accident</td>\n",
              "      <td>NYC08FA071</td>\n",
              "      <td>12/30/2007</td>\n",
              "      <td>Cherokee, AL</td>\n",
              "      <td>United States</td>\n",
              "      <td>34.688611</td>\n",
              "      <td>-87.920000</td>\n",
              "      <td></td>\n",
              "      <td></td>\n",
              "      <td>Fatal(3)</td>\n",
              "      <td>Substantial</td>\n",
              "      <td>Helicopter</td>\n",
              "      <td>N109AE</td>\n",
              "      <td>BELL</td>\n",
              "      <td>206L-3</td>\n",
              "      <td>No</td>\n",
              "      <td>1</td>\n",
              "      <td>Turbo Shaft</td>\n",
              "      <td>Part 91: General Aviation</td>\n",
              "      <td></td>\n",
              "      <td>Other Work Use</td>\n",
              "      <td></td>\n",
              "      <td>3</td>\n",
              "      <td>0</td>\n",
              "      <td>0</td>\n",
              "      <td>0</td>\n",
              "      <td>VMC</td>\n",
              "      <td>MANEUVERING</td>\n",
              "      <td>01/15/2009</td>\n",
              "      <td></td>\n",
              "    </tr>\n",
              "  </tbody>\n",
              "</table>\n",
              "</div>"
            ],
            "text/plain": [
              "          Event Id Investigation Type  ... Report Publication Date Unnamed: 30\n",
              "0  20080125X00106           Accident   ...             02/28/2008             \n",
              "1  20080206X00141           Accident   ...             02/06/2008             \n",
              "2  20080129X00122           Accident   ...             02/28/2008             \n",
              "3  20080114X00045           Accident   ...             06/20/2014             \n",
              "4  20080109X00032           Accident   ...             01/15/2009             \n",
              "\n",
              "[5 rows x 31 columns]"
            ]
          },
          "metadata": {
            "tags": []
          },
          "execution_count": 29
        }
      ]
    },
    {
      "cell_type": "code",
      "metadata": {
        "colab": {
          "base_uri": "https://localhost:8080/"
        },
        "id": "MZThDa8KjKbB",
        "outputId": "2aba7c88-1760-48d4-8f8b-74b8f49d95f1"
      },
      "source": [
        "df1.isnull().sum()"
      ],
      "execution_count": null,
      "outputs": [
        {
          "output_type": "execute_result",
          "data": {
            "text/plain": [
              "Event Id                   0\n",
              "Investigation Type         0\n",
              "Accident Number            0\n",
              "Event Date                 0\n",
              "Location                   0\n",
              "Country                    0\n",
              "Latitude                   0\n",
              "Longitude                  0\n",
              "Airport Code               0\n",
              "Airport Name               0\n",
              "Injury Severity            0\n",
              "Aircraft Damage            0\n",
              "Aircraft Category          0\n",
              "Registration Number        0\n",
              "Make                       0\n",
              "Model                      0\n",
              "Amateur Built              0\n",
              "Number of Engines          0\n",
              "Engine Type                0\n",
              "FAR Description            0\n",
              "Schedule                   0\n",
              "Purpose of Flight          0\n",
              "Air Carrier                0\n",
              "Total Fatal Injuries       0\n",
              "Total Serious Injuries     0\n",
              "Total Minor Injuries       0\n",
              "Total Uninjured            0\n",
              "Weather Condition          0\n",
              "Broad Phase of Flight      0\n",
              "Report Publication Date    0\n",
              "Unnamed: 30                0\n",
              "dtype: int64"
            ]
          },
          "metadata": {
            "tags": []
          },
          "execution_count": 8
        }
      ]
    },
    {
      "cell_type": "code",
      "metadata": {
        "id": "CmhQoJUzjTXM"
      },
      "source": [
        "df1.replace(' ',np.nan, inplace=True)"
      ],
      "execution_count": null,
      "outputs": []
    },
    {
      "cell_type": "code",
      "metadata": {
        "colab": {
          "base_uri": "https://localhost:8080/"
        },
        "id": "e_D-FRQdqfPU",
        "outputId": "f0663906-6245-4512-e511-57c57ff06fed"
      },
      "source": [
        "df1.isnull().sum()"
      ],
      "execution_count": null,
      "outputs": [
        {
          "output_type": "execute_result",
          "data": {
            "text/plain": [
              "Event Id                        0\n",
              "Investigation Type              0\n",
              "Accident Number                 0\n",
              "Event Date                      0\n",
              "Location                        0\n",
              "Country                         0\n",
              "Latitude                        0\n",
              "Longitude                       0\n",
              "Airport Code                    0\n",
              "Airport Name                    0\n",
              "Injury Severity                 0\n",
              "Aircraft Damage                 0\n",
              "Aircraft Category               0\n",
              "Registration Number             0\n",
              "Make                            0\n",
              "Model                           0\n",
              "Amateur Built                   0\n",
              "Number of Engines               0\n",
              "Engine Type                     0\n",
              "FAR Description                 0\n",
              "Schedule                        0\n",
              "Purpose of Flight               0\n",
              "Air Carrier                     0\n",
              "Total Fatal Injuries            0\n",
              "Total Serious Injuries          0\n",
              "Total Minor Injuries            0\n",
              "Total Uninjured                 0\n",
              "Weather Condition               0\n",
              "Broad Phase of Flight           0\n",
              "Report Publication Date         0\n",
              "Unnamed: 30                150959\n",
              "dtype: int64"
            ]
          },
          "metadata": {
            "tags": []
          },
          "execution_count": 10
        }
      ]
    },
    {
      "cell_type": "code",
      "metadata": {
        "colab": {
          "base_uri": "https://localhost:8080/"
        },
        "id": "jO744z2wqh6O",
        "outputId": "ee818e26-64dc-40d0-e2d8-45e71e86886e"
      },
      "source": [
        "df1.shape"
      ],
      "execution_count": null,
      "outputs": [
        {
          "output_type": "execute_result",
          "data": {
            "text/plain": [
              "(150959, 31)"
            ]
          },
          "metadata": {
            "tags": []
          },
          "execution_count": 30
        }
      ]
    },
    {
      "cell_type": "code",
      "metadata": {
        "colab": {
          "base_uri": "https://localhost:8080/"
        },
        "id": "YjFN8bTQzxm9",
        "outputId": "562cfc29-50de-495b-e641-d5917dd23c4d"
      },
      "source": [
        "df1.info()"
      ],
      "execution_count": null,
      "outputs": [
        {
          "output_type": "stream",
          "text": [
            "<class 'pandas.core.frame.DataFrame'>\n",
            "RangeIndex: 150959 entries, 0 to 150958\n",
            "Data columns (total 31 columns):\n",
            " #   Column                   Non-Null Count   Dtype \n",
            "---  ------                   --------------   ----- \n",
            " 0   Event Id                 150959 non-null  object\n",
            " 1   Investigation Type       150959 non-null  object\n",
            " 2   Accident Number          150959 non-null  object\n",
            " 3   Event Date               150959 non-null  object\n",
            " 4   Location                 150959 non-null  object\n",
            " 5   Country                  150959 non-null  object\n",
            " 6   Latitude                 150959 non-null  object\n",
            " 7   Longitude                150959 non-null  object\n",
            " 8   Airport Code             150959 non-null  object\n",
            " 9   Airport Name             150959 non-null  object\n",
            " 10  Injury Severity          150959 non-null  object\n",
            " 11  Aircraft Damage          150959 non-null  object\n",
            " 12  Aircraft Category        150959 non-null  object\n",
            " 13  Registration Number      150959 non-null  object\n",
            " 14  Make                     150959 non-null  object\n",
            " 15  Model                    150959 non-null  object\n",
            " 16  Amateur Built            150959 non-null  object\n",
            " 17  Number of Engines        150959 non-null  object\n",
            " 18  Engine Type              150959 non-null  object\n",
            " 19  FAR Description          150959 non-null  object\n",
            " 20  Schedule                 150959 non-null  object\n",
            " 21  Purpose of Flight        150959 non-null  object\n",
            " 22  Air Carrier              150959 non-null  object\n",
            " 23  Total Fatal Injuries     150959 non-null  object\n",
            " 24  Total Serious Injuries   150959 non-null  object\n",
            " 25  Total Minor Injuries     150959 non-null  object\n",
            " 26  Total Uninjured          150959 non-null  object\n",
            " 27  Weather Condition        150959 non-null  object\n",
            " 28  Broad Phase of Flight    150959 non-null  object\n",
            " 29  Report Publication Date  150959 non-null  object\n",
            " 30  Unnamed: 30              150959 non-null  object\n",
            "dtypes: object(31)\n",
            "memory usage: 35.7+ MB\n"
          ],
          "name": "stdout"
        }
      ]
    },
    {
      "cell_type": "code",
      "metadata": {
        "colab": {
          "base_uri": "https://localhost:8080/",
          "height": 445
        },
        "id": "frUy1zGr0HUr",
        "outputId": "f77a7038-7035-4417-9f97-d151e1b727b1"
      },
      "source": [
        "df1.head()"
      ],
      "execution_count": null,
      "outputs": [
        {
          "output_type": "execute_result",
          "data": {
            "text/html": [
              "<div>\n",
              "<style scoped>\n",
              "    .dataframe tbody tr th:only-of-type {\n",
              "        vertical-align: middle;\n",
              "    }\n",
              "\n",
              "    .dataframe tbody tr th {\n",
              "        vertical-align: top;\n",
              "    }\n",
              "\n",
              "    .dataframe thead th {\n",
              "        text-align: right;\n",
              "    }\n",
              "</style>\n",
              "<table border=\"1\" class=\"dataframe\">\n",
              "  <thead>\n",
              "    <tr style=\"text-align: right;\">\n",
              "      <th></th>\n",
              "      <th>Event Id</th>\n",
              "      <th>Investigation Type</th>\n",
              "      <th>Accident Number</th>\n",
              "      <th>Event Date</th>\n",
              "      <th>Location</th>\n",
              "      <th>Country</th>\n",
              "      <th>Latitude</th>\n",
              "      <th>Longitude</th>\n",
              "      <th>Airport Code</th>\n",
              "      <th>Airport Name</th>\n",
              "      <th>Injury Severity</th>\n",
              "      <th>Aircraft Damage</th>\n",
              "      <th>Aircraft Category</th>\n",
              "      <th>Registration Number</th>\n",
              "      <th>Make</th>\n",
              "      <th>Model</th>\n",
              "      <th>Amateur Built</th>\n",
              "      <th>Number of Engines</th>\n",
              "      <th>Engine Type</th>\n",
              "      <th>FAR Description</th>\n",
              "      <th>Schedule</th>\n",
              "      <th>Purpose of Flight</th>\n",
              "      <th>Air Carrier</th>\n",
              "      <th>Total Fatal Injuries</th>\n",
              "      <th>Total Serious Injuries</th>\n",
              "      <th>Total Minor Injuries</th>\n",
              "      <th>Total Uninjured</th>\n",
              "      <th>Weather Condition</th>\n",
              "      <th>Broad Phase of Flight</th>\n",
              "      <th>Report Publication Date</th>\n",
              "      <th>Unnamed: 30</th>\n",
              "    </tr>\n",
              "  </thead>\n",
              "  <tbody>\n",
              "    <tr>\n",
              "      <th>0</th>\n",
              "      <td>20080125X00106</td>\n",
              "      <td>Accident</td>\n",
              "      <td>SEA08CA056</td>\n",
              "      <td>12/31/2007</td>\n",
              "      <td>Santa Ana, CA</td>\n",
              "      <td>United States</td>\n",
              "      <td>33.675556</td>\n",
              "      <td>-117.868056</td>\n",
              "      <td>SNA</td>\n",
              "      <td>John Wayne - Orange County</td>\n",
              "      <td>Non-Fatal</td>\n",
              "      <td>Substantial</td>\n",
              "      <td>Airplane</td>\n",
              "      <td>N2800D</td>\n",
              "      <td>Piper</td>\n",
              "      <td>PA-12</td>\n",
              "      <td>No</td>\n",
              "      <td>1</td>\n",
              "      <td>Reciprocating</td>\n",
              "      <td>Part 91: General Aviation</td>\n",
              "      <td></td>\n",
              "      <td>Instructional</td>\n",
              "      <td></td>\n",
              "      <td></td>\n",
              "      <td></td>\n",
              "      <td></td>\n",
              "      <td>2</td>\n",
              "      <td>VMC</td>\n",
              "      <td>LANDING</td>\n",
              "      <td>02/28/2008</td>\n",
              "      <td></td>\n",
              "    </tr>\n",
              "    <tr>\n",
              "      <th>1</th>\n",
              "      <td>20080206X00141</td>\n",
              "      <td>Accident</td>\n",
              "      <td>CHI08WA075</td>\n",
              "      <td>12/31/2007</td>\n",
              "      <td>Guernsey, United Kingdom</td>\n",
              "      <td>United Kingdom</td>\n",
              "      <td>49.435000</td>\n",
              "      <td>-2.600278</td>\n",
              "      <td></td>\n",
              "      <td></td>\n",
              "      <td>Non-Fatal</td>\n",
              "      <td>Minor</td>\n",
              "      <td></td>\n",
              "      <td></td>\n",
              "      <td>Cessna</td>\n",
              "      <td>T303</td>\n",
              "      <td>No</td>\n",
              "      <td></td>\n",
              "      <td></td>\n",
              "      <td></td>\n",
              "      <td></td>\n",
              "      <td>Unknown</td>\n",
              "      <td></td>\n",
              "      <td></td>\n",
              "      <td></td>\n",
              "      <td></td>\n",
              "      <td>1</td>\n",
              "      <td></td>\n",
              "      <td></td>\n",
              "      <td>02/06/2008</td>\n",
              "      <td></td>\n",
              "    </tr>\n",
              "    <tr>\n",
              "      <th>2</th>\n",
              "      <td>20080129X00122</td>\n",
              "      <td>Accident</td>\n",
              "      <td>CHI08CA057</td>\n",
              "      <td>12/30/2007</td>\n",
              "      <td>Alexandria, MN</td>\n",
              "      <td>United States</td>\n",
              "      <td>45.866111</td>\n",
              "      <td>-95.394444</td>\n",
              "      <td>AXN</td>\n",
              "      <td>Chandler Field Airport</td>\n",
              "      <td>Non-Fatal</td>\n",
              "      <td>Substantial</td>\n",
              "      <td>Airplane</td>\n",
              "      <td>N5093F</td>\n",
              "      <td>Lerohl</td>\n",
              "      <td>RV-8</td>\n",
              "      <td>Yes</td>\n",
              "      <td>1</td>\n",
              "      <td>Reciprocating</td>\n",
              "      <td>Part 91: General Aviation</td>\n",
              "      <td></td>\n",
              "      <td>Personal</td>\n",
              "      <td></td>\n",
              "      <td></td>\n",
              "      <td></td>\n",
              "      <td></td>\n",
              "      <td>1</td>\n",
              "      <td>VMC</td>\n",
              "      <td>TAKEOFF</td>\n",
              "      <td>02/28/2008</td>\n",
              "      <td></td>\n",
              "    </tr>\n",
              "    <tr>\n",
              "      <th>3</th>\n",
              "      <td>20080114X00045</td>\n",
              "      <td>Accident</td>\n",
              "      <td>LAX08FA043</td>\n",
              "      <td>12/30/2007</td>\n",
              "      <td>Paso Robles, CA</td>\n",
              "      <td>United States</td>\n",
              "      <td>35.542222</td>\n",
              "      <td>-120.522778</td>\n",
              "      <td>PRB</td>\n",
              "      <td>Paso Robles Airport</td>\n",
              "      <td>Fatal(1)</td>\n",
              "      <td>Substantial</td>\n",
              "      <td>Airplane</td>\n",
              "      <td>N254SR</td>\n",
              "      <td>Cirrus Design Corp.</td>\n",
              "      <td>SR22</td>\n",
              "      <td>No</td>\n",
              "      <td>1</td>\n",
              "      <td>Reciprocating</td>\n",
              "      <td>Part 91: General Aviation</td>\n",
              "      <td></td>\n",
              "      <td>Personal</td>\n",
              "      <td></td>\n",
              "      <td>1</td>\n",
              "      <td></td>\n",
              "      <td></td>\n",
              "      <td></td>\n",
              "      <td>VMC</td>\n",
              "      <td>MANEUVERING</td>\n",
              "      <td>06/20/2014</td>\n",
              "      <td></td>\n",
              "    </tr>\n",
              "    <tr>\n",
              "      <th>4</th>\n",
              "      <td>20080109X00032</td>\n",
              "      <td>Accident</td>\n",
              "      <td>NYC08FA071</td>\n",
              "      <td>12/30/2007</td>\n",
              "      <td>Cherokee, AL</td>\n",
              "      <td>United States</td>\n",
              "      <td>34.688611</td>\n",
              "      <td>-87.920000</td>\n",
              "      <td></td>\n",
              "      <td></td>\n",
              "      <td>Fatal(3)</td>\n",
              "      <td>Substantial</td>\n",
              "      <td>Helicopter</td>\n",
              "      <td>N109AE</td>\n",
              "      <td>BELL</td>\n",
              "      <td>206L-3</td>\n",
              "      <td>No</td>\n",
              "      <td>1</td>\n",
              "      <td>Turbo Shaft</td>\n",
              "      <td>Part 91: General Aviation</td>\n",
              "      <td></td>\n",
              "      <td>Other Work Use</td>\n",
              "      <td></td>\n",
              "      <td>3</td>\n",
              "      <td>0</td>\n",
              "      <td>0</td>\n",
              "      <td>0</td>\n",
              "      <td>VMC</td>\n",
              "      <td>MANEUVERING</td>\n",
              "      <td>01/15/2009</td>\n",
              "      <td></td>\n",
              "    </tr>\n",
              "  </tbody>\n",
              "</table>\n",
              "</div>"
            ],
            "text/plain": [
              "          Event Id Investigation Type  ... Report Publication Date Unnamed: 30\n",
              "0  20080125X00106           Accident   ...             02/28/2008             \n",
              "1  20080206X00141           Accident   ...             02/06/2008             \n",
              "2  20080129X00122           Accident   ...             02/28/2008             \n",
              "3  20080114X00045           Accident   ...             06/20/2014             \n",
              "4  20080109X00032           Accident   ...             01/15/2009             \n",
              "\n",
              "[5 rows x 31 columns]"
            ]
          },
          "metadata": {
            "tags": []
          },
          "execution_count": 32
        }
      ]
    },
    {
      "cell_type": "code",
      "metadata": {
        "colab": {
          "base_uri": "https://localhost:8080/"
        },
        "id": "M2n3JzLm0N3i",
        "outputId": "8114b928-c41b-4ef3-9640-8c0e9bbe55c8"
      },
      "source": [
        "df1['Investigation Type'].unique()"
      ],
      "execution_count": null,
      "outputs": [
        {
          "output_type": "execute_result",
          "data": {
            "text/plain": [
              "array([' Accident ', ' Incident ', '  '], dtype=object)"
            ]
          },
          "metadata": {
            "tags": []
          },
          "execution_count": 33
        }
      ]
    },
    {
      "cell_type": "code",
      "metadata": {
        "id": "p4KHfa2O3Joa"
      },
      "source": [
        "df1.replace('  ',np.nan, inplace=True)"
      ],
      "execution_count": null,
      "outputs": []
    },
    {
      "cell_type": "code",
      "metadata": {
        "colab": {
          "base_uri": "https://localhost:8080/"
        },
        "id": "I__XhPN55YnA",
        "outputId": "aedf9e49-096e-4a65-e3df-57eface8ccdb"
      },
      "source": [
        "df1['Investigation Type'].unique()"
      ],
      "execution_count": null,
      "outputs": [
        {
          "output_type": "execute_result",
          "data": {
            "text/plain": [
              "array([' Accident ', ' Incident ', nan], dtype=object)"
            ]
          },
          "metadata": {
            "tags": []
          },
          "execution_count": 35
        }
      ]
    },
    {
      "cell_type": "code",
      "metadata": {
        "id": "NTptrGbZ5akX"
      },
      "source": [
        ""
      ],
      "execution_count": null,
      "outputs": []
    },
    {
      "cell_type": "code",
      "metadata": {
        "colab": {
          "base_uri": "https://localhost:8080/"
        },
        "id": "Feij8RIQ5e1i",
        "outputId": "e2009b50-caa5-4632-abce-902dbcbe03de"
      },
      "source": [
        "df1.isnull().sum()"
      ],
      "execution_count": null,
      "outputs": [
        {
          "output_type": "execute_result",
          "data": {
            "text/plain": [
              "Event Id                        0\n",
              "Investigation Type          87046\n",
              "Accident Number                 0\n",
              "Event Date                      7\n",
              "Location                       52\n",
              "Country                       507\n",
              "Latitude                   138985\n",
              "Longitude                  138995\n",
              "Airport Code               116096\n",
              "Airport Name               113581\n",
              "Injury Severity                 0\n",
              "Aircraft Damage             88691\n",
              "Aircraft Category          143206\n",
              "Registration Number          1281\n",
              "Make                           22\n",
              "Model                         107\n",
              "Amateur Built                 102\n",
              "Number of Engines           89594\n",
              "Engine Type                 88498\n",
              "FAR Description             56154\n",
              "Schedule                   141046\n",
              "Purpose of Flight           88765\n",
              "Air Carrier                147848\n",
              "Total Fatal Injuries        11401\n",
              "Total Serious Injuries      12510\n",
              "Total Minor Injuries        11933\n",
              "Total Uninjured              5913\n",
              "Weather Condition           87554\n",
              "Broad Phase of Flight       89235\n",
              "Report Publication Date     99786\n",
              "Unnamed: 30                     0\n",
              "dtype: int64"
            ]
          },
          "metadata": {
            "tags": []
          },
          "execution_count": 36
        }
      ]
    },
    {
      "cell_type": "code",
      "metadata": {
        "id": "Gpjn8uYH9F3f"
      },
      "source": [
        "df1.dropna(how='all',inplace=True)"
      ],
      "execution_count": null,
      "outputs": []
    },
    {
      "cell_type": "code",
      "metadata": {
        "colab": {
          "base_uri": "https://localhost:8080/"
        },
        "id": "tIFrvMKL9Kwx",
        "outputId": "6a2f5d86-27b4-49db-e857-02c4c7083277"
      },
      "source": [
        "df1.isnull().sum()"
      ],
      "execution_count": null,
      "outputs": [
        {
          "output_type": "execute_result",
          "data": {
            "text/plain": [
              "Event Id                        0\n",
              "Investigation Type          87046\n",
              "Accident Number                 0\n",
              "Event Date                      7\n",
              "Location                       52\n",
              "Country                       507\n",
              "Latitude                   138985\n",
              "Longitude                  138995\n",
              "Airport Code               116096\n",
              "Airport Name               113581\n",
              "Injury Severity                 0\n",
              "Aircraft Damage             88691\n",
              "Aircraft Category          143206\n",
              "Registration Number          1281\n",
              "Make                           22\n",
              "Model                         107\n",
              "Amateur Built                 102\n",
              "Number of Engines           89594\n",
              "Engine Type                 88498\n",
              "FAR Description             56154\n",
              "Schedule                   141046\n",
              "Purpose of Flight           88765\n",
              "Air Carrier                147848\n",
              "Total Fatal Injuries        11401\n",
              "Total Serious Injuries      12510\n",
              "Total Minor Injuries        11933\n",
              "Total Uninjured              5913\n",
              "Weather Condition           87554\n",
              "Broad Phase of Flight       89235\n",
              "Report Publication Date     99786\n",
              "Unnamed: 30                     0\n",
              "dtype: int64"
            ]
          },
          "metadata": {
            "tags": []
          },
          "execution_count": 39
        }
      ]
    },
    {
      "cell_type": "code",
      "metadata": {
        "id": "108HecYp551n"
      },
      "source": [
        "df1.drop(['Latitude'],axis=1,inplace=True)"
      ],
      "execution_count": null,
      "outputs": []
    },
    {
      "cell_type": "code",
      "metadata": {
        "id": "ecbnAb149wkq"
      },
      "source": [
        "df1.drop(['Longitude'],axis=1,inplace=True)"
      ],
      "execution_count": null,
      "outputs": []
    },
    {
      "cell_type": "code",
      "metadata": {
        "id": "6idcOnIq92qJ"
      },
      "source": [
        "df1.drop(['Airport Code'],axis=1,inplace=True)"
      ],
      "execution_count": null,
      "outputs": []
    },
    {
      "cell_type": "code",
      "metadata": {
        "id": "JGrLpVdp96kz"
      },
      "source": [
        "df1.drop(['Airport Name'],axis=1,inplace=True)"
      ],
      "execution_count": null,
      "outputs": []
    },
    {
      "cell_type": "code",
      "metadata": {
        "id": "SpWFQjze9_cr"
      },
      "source": [
        "df1.drop(['Aircraft Category'],axis=1,inplace=True)"
      ],
      "execution_count": null,
      "outputs": []
    },
    {
      "cell_type": "code",
      "metadata": {
        "id": "dQ1MWylf-D58"
      },
      "source": [
        "df1.drop(['Schedule'],axis=1,inplace=True)"
      ],
      "execution_count": null,
      "outputs": []
    },
    {
      "cell_type": "code",
      "metadata": {
        "id": "y3OrowvW-KkU"
      },
      "source": [
        "df1.drop(['Air Carrier'],axis=1,inplace=True)"
      ],
      "execution_count": null,
      "outputs": []
    },
    {
      "cell_type": "code",
      "metadata": {
        "colab": {
          "base_uri": "https://localhost:8080/"
        },
        "id": "xo2GkJST6hPT",
        "outputId": "9fee1430-6093-4d39-e2d6-29c89cf30f3c"
      },
      "source": [
        "df1.isnull().sum()"
      ],
      "execution_count": null,
      "outputs": [
        {
          "output_type": "execute_result",
          "data": {
            "text/plain": [
              "Event Id                       0\n",
              "Investigation Type         87046\n",
              "Accident Number                0\n",
              "Event Date                     7\n",
              "Location                      52\n",
              "Country                      507\n",
              "Injury Severity                0\n",
              "Aircraft Damage            88691\n",
              "Registration Number         1281\n",
              "Make                          22\n",
              "Model                        107\n",
              "Amateur Built                102\n",
              "Number of Engines          89594\n",
              "Engine Type                88498\n",
              "FAR Description            56154\n",
              "Purpose of Flight          88765\n",
              "Total Fatal Injuries       11401\n",
              "Total Serious Injuries     12510\n",
              "Total Minor Injuries       11933\n",
              "Total Uninjured             5913\n",
              "Weather Condition          87554\n",
              "Broad Phase of Flight      89235\n",
              "Report Publication Date    99786\n",
              "Unnamed: 30                    0\n",
              "dtype: int64"
            ]
          },
          "metadata": {
            "tags": []
          },
          "execution_count": 48
        }
      ]
    },
    {
      "cell_type": "code",
      "metadata": {
        "id": "9SBZj77E-Zgi"
      },
      "source": [
        "df1.dropna(inplace=True)"
      ],
      "execution_count": null,
      "outputs": []
    },
    {
      "cell_type": "code",
      "metadata": {
        "colab": {
          "base_uri": "https://localhost:8080/",
          "height": 428
        },
        "id": "WlX2FeWh6jYf",
        "outputId": "f20bcb24-07b2-480b-8cbd-1f48a78f701b"
      },
      "source": [
        "df1.head()"
      ],
      "execution_count": null,
      "outputs": [
        {
          "output_type": "execute_result",
          "data": {
            "text/html": [
              "<div>\n",
              "<style scoped>\n",
              "    .dataframe tbody tr th:only-of-type {\n",
              "        vertical-align: middle;\n",
              "    }\n",
              "\n",
              "    .dataframe tbody tr th {\n",
              "        vertical-align: top;\n",
              "    }\n",
              "\n",
              "    .dataframe thead th {\n",
              "        text-align: right;\n",
              "    }\n",
              "</style>\n",
              "<table border=\"1\" class=\"dataframe\">\n",
              "  <thead>\n",
              "    <tr style=\"text-align: right;\">\n",
              "      <th></th>\n",
              "      <th>Event Id</th>\n",
              "      <th>Investigation Type</th>\n",
              "      <th>Accident Number</th>\n",
              "      <th>Event Date</th>\n",
              "      <th>Location</th>\n",
              "      <th>Country</th>\n",
              "      <th>Injury Severity</th>\n",
              "      <th>Aircraft Damage</th>\n",
              "      <th>Registration Number</th>\n",
              "      <th>Make</th>\n",
              "      <th>Model</th>\n",
              "      <th>Amateur Built</th>\n",
              "      <th>Number of Engines</th>\n",
              "      <th>Engine Type</th>\n",
              "      <th>FAR Description</th>\n",
              "      <th>Purpose of Flight</th>\n",
              "      <th>Total Fatal Injuries</th>\n",
              "      <th>Total Serious Injuries</th>\n",
              "      <th>Total Minor Injuries</th>\n",
              "      <th>Total Uninjured</th>\n",
              "      <th>Weather Condition</th>\n",
              "      <th>Broad Phase of Flight</th>\n",
              "      <th>Report Publication Date</th>\n",
              "      <th>Unnamed: 30</th>\n",
              "    </tr>\n",
              "  </thead>\n",
              "  <tbody>\n",
              "    <tr>\n",
              "      <th>4</th>\n",
              "      <td>20080109X00032</td>\n",
              "      <td>Accident</td>\n",
              "      <td>NYC08FA071</td>\n",
              "      <td>12/30/2007</td>\n",
              "      <td>Cherokee, AL</td>\n",
              "      <td>United States</td>\n",
              "      <td>Fatal(3)</td>\n",
              "      <td>Substantial</td>\n",
              "      <td>N109AE</td>\n",
              "      <td>BELL</td>\n",
              "      <td>206L-3</td>\n",
              "      <td>No</td>\n",
              "      <td>1</td>\n",
              "      <td>Turbo Shaft</td>\n",
              "      <td>Part 91: General Aviation</td>\n",
              "      <td>Other Work Use</td>\n",
              "      <td>3</td>\n",
              "      <td>0</td>\n",
              "      <td>0</td>\n",
              "      <td>0</td>\n",
              "      <td>VMC</td>\n",
              "      <td>MANEUVERING</td>\n",
              "      <td>01/15/2009</td>\n",
              "      <td></td>\n",
              "    </tr>\n",
              "    <tr>\n",
              "      <th>9</th>\n",
              "      <td>20080103X00010</td>\n",
              "      <td>Accident</td>\n",
              "      <td>DFW08LA052</td>\n",
              "      <td>12/29/2007</td>\n",
              "      <td>Crowley, TX</td>\n",
              "      <td>United States</td>\n",
              "      <td>Fatal(2)</td>\n",
              "      <td>Destroyed</td>\n",
              "      <td>N136DG</td>\n",
              "      <td>ALTHOUSE</td>\n",
              "      <td>RAF 2000 GTX</td>\n",
              "      <td>Yes</td>\n",
              "      <td>1</td>\n",
              "      <td>Reciprocating</td>\n",
              "      <td>Part 91: General Aviation</td>\n",
              "      <td>Personal</td>\n",
              "      <td>2</td>\n",
              "      <td>0</td>\n",
              "      <td>0</td>\n",
              "      <td>0</td>\n",
              "      <td>VMC</td>\n",
              "      <td>MANEUVERING</td>\n",
              "      <td>12/03/2008</td>\n",
              "      <td></td>\n",
              "    </tr>\n",
              "    <tr>\n",
              "      <th>12</th>\n",
              "      <td>20080102X00006</td>\n",
              "      <td>Accident</td>\n",
              "      <td>SEA08LA054</td>\n",
              "      <td>12/28/2007</td>\n",
              "      <td>Murrieta, CA</td>\n",
              "      <td>United States</td>\n",
              "      <td>Non-Fatal</td>\n",
              "      <td>Substantial</td>\n",
              "      <td>N365SX</td>\n",
              "      <td>Hein</td>\n",
              "      <td>Sonex</td>\n",
              "      <td>Yes</td>\n",
              "      <td>1</td>\n",
              "      <td>Reciprocating</td>\n",
              "      <td>Part 91: General Aviation</td>\n",
              "      <td>Personal</td>\n",
              "      <td>0</td>\n",
              "      <td>1</td>\n",
              "      <td>0</td>\n",
              "      <td>0</td>\n",
              "      <td>VMC</td>\n",
              "      <td>CRUISE</td>\n",
              "      <td>12/24/2008</td>\n",
              "      <td></td>\n",
              "    </tr>\n",
              "    <tr>\n",
              "      <th>16</th>\n",
              "      <td>20080104X00022</td>\n",
              "      <td>Accident</td>\n",
              "      <td>MIA08LA032</td>\n",
              "      <td>12/26/2007</td>\n",
              "      <td>Sarasota, FL</td>\n",
              "      <td>United States</td>\n",
              "      <td>Non-Fatal</td>\n",
              "      <td>Substantial</td>\n",
              "      <td>N5875Q</td>\n",
              "      <td>Mooney</td>\n",
              "      <td>M20E</td>\n",
              "      <td>No</td>\n",
              "      <td>1</td>\n",
              "      <td>Reciprocating</td>\n",
              "      <td>Part 91: General Aviation</td>\n",
              "      <td>Personal</td>\n",
              "      <td>0</td>\n",
              "      <td>0</td>\n",
              "      <td>2</td>\n",
              "      <td>0</td>\n",
              "      <td>VMC</td>\n",
              "      <td>TAKEOFF</td>\n",
              "      <td>01/14/2009</td>\n",
              "      <td></td>\n",
              "    </tr>\n",
              "    <tr>\n",
              "      <th>17</th>\n",
              "      <td>20071231X02008</td>\n",
              "      <td>Incident</td>\n",
              "      <td>DEN08IA044</td>\n",
              "      <td>12/26/2007</td>\n",
              "      <td>Aspen, CO</td>\n",
              "      <td>United States</td>\n",
              "      <td>Incident</td>\n",
              "      <td>Minor</td>\n",
              "      <td>N47BC</td>\n",
              "      <td>PIPER</td>\n",
              "      <td>PA-46-310P</td>\n",
              "      <td>No</td>\n",
              "      <td>1</td>\n",
              "      <td>Reciprocating</td>\n",
              "      <td>Part 91: General Aviation</td>\n",
              "      <td>Personal</td>\n",
              "      <td>0</td>\n",
              "      <td>0</td>\n",
              "      <td>0</td>\n",
              "      <td>4</td>\n",
              "      <td>VMC</td>\n",
              "      <td>CLIMB</td>\n",
              "      <td>12/24/2008</td>\n",
              "      <td></td>\n",
              "    </tr>\n",
              "  </tbody>\n",
              "</table>\n",
              "</div>"
            ],
            "text/plain": [
              "           Event Id Investigation Type  ... Report Publication Date Unnamed: 30\n",
              "4   20080109X00032           Accident   ...             01/15/2009             \n",
              "9   20080103X00010           Accident   ...             12/03/2008             \n",
              "12  20080102X00006           Accident   ...             12/24/2008             \n",
              "16  20080104X00022           Accident   ...             01/14/2009             \n",
              "17  20071231X02008           Incident   ...             12/24/2008             \n",
              "\n",
              "[5 rows x 24 columns]"
            ]
          },
          "metadata": {
            "tags": []
          },
          "execution_count": 50
        }
      ]
    },
    {
      "cell_type": "code",
      "metadata": {
        "colab": {
          "base_uri": "https://localhost:8080/"
        },
        "id": "MFkagyjp6s1F",
        "outputId": "458f6c87-60d3-422c-8ff2-ff40648b808b"
      },
      "source": [
        "df1.shape"
      ],
      "execution_count": null,
      "outputs": [
        {
          "output_type": "execute_result",
          "data": {
            "text/plain": [
              "(3559, 24)"
            ]
          },
          "metadata": {
            "tags": []
          },
          "execution_count": 51
        }
      ]
    },
    {
      "cell_type": "code",
      "metadata": {
        "colab": {
          "base_uri": "https://localhost:8080/"
        },
        "id": "9T_gqipM-jwh",
        "outputId": "86cd1087-bed7-44e5-ca88-2145a1a49211"
      },
      "source": [
        "df1.isnull().sum()"
      ],
      "execution_count": null,
      "outputs": [
        {
          "output_type": "execute_result",
          "data": {
            "text/plain": [
              "Event Id                   0\n",
              "Investigation Type         0\n",
              "Accident Number            0\n",
              "Event Date                 0\n",
              "Location                   0\n",
              "Country                    0\n",
              "Injury Severity            0\n",
              "Aircraft Damage            0\n",
              "Registration Number        0\n",
              "Make                       0\n",
              "Model                      0\n",
              "Amateur Built              0\n",
              "Number of Engines          0\n",
              "Engine Type                0\n",
              "FAR Description            0\n",
              "Purpose of Flight          0\n",
              "Total Fatal Injuries       0\n",
              "Total Serious Injuries     0\n",
              "Total Minor Injuries       0\n",
              "Total Uninjured            0\n",
              "Weather Condition          0\n",
              "Broad Phase of Flight      0\n",
              "Report Publication Date    0\n",
              "Unnamed: 30                0\n",
              "dtype: int64"
            ]
          },
          "metadata": {
            "tags": []
          },
          "execution_count": 52
        }
      ]
    },
    {
      "cell_type": "code",
      "metadata": {
        "colab": {
          "base_uri": "https://localhost:8080/",
          "height": 428
        },
        "id": "N47dmXtt-pas",
        "outputId": "8af59b70-27dd-47db-e5d1-8c06845ae231"
      },
      "source": [
        "df1.head()"
      ],
      "execution_count": null,
      "outputs": [
        {
          "output_type": "execute_result",
          "data": {
            "text/html": [
              "<div>\n",
              "<style scoped>\n",
              "    .dataframe tbody tr th:only-of-type {\n",
              "        vertical-align: middle;\n",
              "    }\n",
              "\n",
              "    .dataframe tbody tr th {\n",
              "        vertical-align: top;\n",
              "    }\n",
              "\n",
              "    .dataframe thead th {\n",
              "        text-align: right;\n",
              "    }\n",
              "</style>\n",
              "<table border=\"1\" class=\"dataframe\">\n",
              "  <thead>\n",
              "    <tr style=\"text-align: right;\">\n",
              "      <th></th>\n",
              "      <th>Event Id</th>\n",
              "      <th>Investigation Type</th>\n",
              "      <th>Accident Number</th>\n",
              "      <th>Event Date</th>\n",
              "      <th>Location</th>\n",
              "      <th>Country</th>\n",
              "      <th>Injury Severity</th>\n",
              "      <th>Aircraft Damage</th>\n",
              "      <th>Registration Number</th>\n",
              "      <th>Make</th>\n",
              "      <th>Model</th>\n",
              "      <th>Amateur Built</th>\n",
              "      <th>Number of Engines</th>\n",
              "      <th>Engine Type</th>\n",
              "      <th>FAR Description</th>\n",
              "      <th>Purpose of Flight</th>\n",
              "      <th>Total Fatal Injuries</th>\n",
              "      <th>Total Serious Injuries</th>\n",
              "      <th>Total Minor Injuries</th>\n",
              "      <th>Total Uninjured</th>\n",
              "      <th>Weather Condition</th>\n",
              "      <th>Broad Phase of Flight</th>\n",
              "      <th>Report Publication Date</th>\n",
              "      <th>Unnamed: 30</th>\n",
              "    </tr>\n",
              "  </thead>\n",
              "  <tbody>\n",
              "    <tr>\n",
              "      <th>4</th>\n",
              "      <td>20080109X00032</td>\n",
              "      <td>Accident</td>\n",
              "      <td>NYC08FA071</td>\n",
              "      <td>12/30/2007</td>\n",
              "      <td>Cherokee, AL</td>\n",
              "      <td>United States</td>\n",
              "      <td>Fatal(3)</td>\n",
              "      <td>Substantial</td>\n",
              "      <td>N109AE</td>\n",
              "      <td>BELL</td>\n",
              "      <td>206L-3</td>\n",
              "      <td>No</td>\n",
              "      <td>1</td>\n",
              "      <td>Turbo Shaft</td>\n",
              "      <td>Part 91: General Aviation</td>\n",
              "      <td>Other Work Use</td>\n",
              "      <td>3</td>\n",
              "      <td>0</td>\n",
              "      <td>0</td>\n",
              "      <td>0</td>\n",
              "      <td>VMC</td>\n",
              "      <td>MANEUVERING</td>\n",
              "      <td>01/15/2009</td>\n",
              "      <td></td>\n",
              "    </tr>\n",
              "    <tr>\n",
              "      <th>9</th>\n",
              "      <td>20080103X00010</td>\n",
              "      <td>Accident</td>\n",
              "      <td>DFW08LA052</td>\n",
              "      <td>12/29/2007</td>\n",
              "      <td>Crowley, TX</td>\n",
              "      <td>United States</td>\n",
              "      <td>Fatal(2)</td>\n",
              "      <td>Destroyed</td>\n",
              "      <td>N136DG</td>\n",
              "      <td>ALTHOUSE</td>\n",
              "      <td>RAF 2000 GTX</td>\n",
              "      <td>Yes</td>\n",
              "      <td>1</td>\n",
              "      <td>Reciprocating</td>\n",
              "      <td>Part 91: General Aviation</td>\n",
              "      <td>Personal</td>\n",
              "      <td>2</td>\n",
              "      <td>0</td>\n",
              "      <td>0</td>\n",
              "      <td>0</td>\n",
              "      <td>VMC</td>\n",
              "      <td>MANEUVERING</td>\n",
              "      <td>12/03/2008</td>\n",
              "      <td></td>\n",
              "    </tr>\n",
              "    <tr>\n",
              "      <th>12</th>\n",
              "      <td>20080102X00006</td>\n",
              "      <td>Accident</td>\n",
              "      <td>SEA08LA054</td>\n",
              "      <td>12/28/2007</td>\n",
              "      <td>Murrieta, CA</td>\n",
              "      <td>United States</td>\n",
              "      <td>Non-Fatal</td>\n",
              "      <td>Substantial</td>\n",
              "      <td>N365SX</td>\n",
              "      <td>Hein</td>\n",
              "      <td>Sonex</td>\n",
              "      <td>Yes</td>\n",
              "      <td>1</td>\n",
              "      <td>Reciprocating</td>\n",
              "      <td>Part 91: General Aviation</td>\n",
              "      <td>Personal</td>\n",
              "      <td>0</td>\n",
              "      <td>1</td>\n",
              "      <td>0</td>\n",
              "      <td>0</td>\n",
              "      <td>VMC</td>\n",
              "      <td>CRUISE</td>\n",
              "      <td>12/24/2008</td>\n",
              "      <td></td>\n",
              "    </tr>\n",
              "    <tr>\n",
              "      <th>16</th>\n",
              "      <td>20080104X00022</td>\n",
              "      <td>Accident</td>\n",
              "      <td>MIA08LA032</td>\n",
              "      <td>12/26/2007</td>\n",
              "      <td>Sarasota, FL</td>\n",
              "      <td>United States</td>\n",
              "      <td>Non-Fatal</td>\n",
              "      <td>Substantial</td>\n",
              "      <td>N5875Q</td>\n",
              "      <td>Mooney</td>\n",
              "      <td>M20E</td>\n",
              "      <td>No</td>\n",
              "      <td>1</td>\n",
              "      <td>Reciprocating</td>\n",
              "      <td>Part 91: General Aviation</td>\n",
              "      <td>Personal</td>\n",
              "      <td>0</td>\n",
              "      <td>0</td>\n",
              "      <td>2</td>\n",
              "      <td>0</td>\n",
              "      <td>VMC</td>\n",
              "      <td>TAKEOFF</td>\n",
              "      <td>01/14/2009</td>\n",
              "      <td></td>\n",
              "    </tr>\n",
              "    <tr>\n",
              "      <th>17</th>\n",
              "      <td>20071231X02008</td>\n",
              "      <td>Incident</td>\n",
              "      <td>DEN08IA044</td>\n",
              "      <td>12/26/2007</td>\n",
              "      <td>Aspen, CO</td>\n",
              "      <td>United States</td>\n",
              "      <td>Incident</td>\n",
              "      <td>Minor</td>\n",
              "      <td>N47BC</td>\n",
              "      <td>PIPER</td>\n",
              "      <td>PA-46-310P</td>\n",
              "      <td>No</td>\n",
              "      <td>1</td>\n",
              "      <td>Reciprocating</td>\n",
              "      <td>Part 91: General Aviation</td>\n",
              "      <td>Personal</td>\n",
              "      <td>0</td>\n",
              "      <td>0</td>\n",
              "      <td>0</td>\n",
              "      <td>4</td>\n",
              "      <td>VMC</td>\n",
              "      <td>CLIMB</td>\n",
              "      <td>12/24/2008</td>\n",
              "      <td></td>\n",
              "    </tr>\n",
              "  </tbody>\n",
              "</table>\n",
              "</div>"
            ],
            "text/plain": [
              "           Event Id Investigation Type  ... Report Publication Date Unnamed: 30\n",
              "4   20080109X00032           Accident   ...             01/15/2009             \n",
              "9   20080103X00010           Accident   ...             12/03/2008             \n",
              "12  20080102X00006           Accident   ...             12/24/2008             \n",
              "16  20080104X00022           Accident   ...             01/14/2009             \n",
              "17  20071231X02008           Incident   ...             12/24/2008             \n",
              "\n",
              "[5 rows x 24 columns]"
            ]
          },
          "metadata": {
            "tags": []
          },
          "execution_count": 53
        }
      ]
    },
    {
      "cell_type": "code",
      "metadata": {
        "colab": {
          "base_uri": "https://localhost:8080/"
        },
        "id": "4cU8HITd_AKb",
        "outputId": "963bf77f-5778-45b4-9797-d3d2afe1526c"
      },
      "source": [
        "df1['Investigation Type'].unique()"
      ],
      "execution_count": null,
      "outputs": [
        {
          "output_type": "execute_result",
          "data": {
            "text/plain": [
              "array([' Accident ', ' Incident '], dtype=object)"
            ]
          },
          "metadata": {
            "tags": []
          },
          "execution_count": 54
        }
      ]
    },
    {
      "cell_type": "code",
      "metadata": {
        "colab": {
          "base_uri": "https://localhost:8080/"
        },
        "id": "l9F8_5Yh_XUJ",
        "outputId": "73258f92-0565-4804-b5b3-014c7f8e7dd1"
      },
      "source": [
        "df1['Accident Number'].unique()"
      ],
      "execution_count": null,
      "outputs": [
        {
          "output_type": "execute_result",
          "data": {
            "text/plain": [
              "array([' NYC08FA071 ', ' DFW08LA052 ', ' SEA08LA054 ', ...,\n",
              "       ' ATL82DA027 ', ' NYC82DA015 ', ' SEA82DA022 '], dtype=object)"
            ]
          },
          "metadata": {
            "tags": []
          },
          "execution_count": 55
        }
      ]
    },
    {
      "cell_type": "code",
      "metadata": {
        "colab": {
          "base_uri": "https://localhost:8080/"
        },
        "id": "imjOQs12_c62",
        "outputId": "8a26edbe-e921-4a8a-96ea-97c5919904fb"
      },
      "source": [
        "df1['Location'].unique()"
      ],
      "execution_count": null,
      "outputs": [
        {
          "output_type": "execute_result",
          "data": {
            "text/plain": [
              "array([' Cherokee, AL ', ' Crowley, TX ', ' Murrieta, CA ', ...,\n",
              "       ' CHARLOTTE, MI ', ' SKWENTA, AK ', ' EAST HANOVER, NJ '],\n",
              "      dtype=object)"
            ]
          },
          "metadata": {
            "tags": []
          },
          "execution_count": 56
        }
      ]
    },
    {
      "cell_type": "code",
      "metadata": {
        "colab": {
          "base_uri": "https://localhost:8080/"
        },
        "id": "ISox6TNm_gQY",
        "outputId": "f36cb4c7-7744-4c8c-9626-1cb124ffcce3"
      },
      "source": [
        "df1['Country'].unique()"
      ],
      "execution_count": null,
      "outputs": [
        {
          "output_type": "execute_result",
          "data": {
            "text/plain": [
              "array([' United States ', ' Bahamas '], dtype=object)"
            ]
          },
          "metadata": {
            "tags": []
          },
          "execution_count": 57
        }
      ]
    },
    {
      "cell_type": "code",
      "metadata": {
        "colab": {
          "base_uri": "https://localhost:8080/"
        },
        "id": "DV-2pfE3_jcs",
        "outputId": "76c96a3f-31e6-422f-ceda-527a552ab6d4"
      },
      "source": [
        "df1['Injury Severity'].unique()"
      ],
      "execution_count": null,
      "outputs": [
        {
          "output_type": "execute_result",
          "data": {
            "text/plain": [
              "array([' Fatal(3) ', ' Fatal(2) ', ' Non-Fatal ', ' Incident ',\n",
              "       ' Fatal(1) ', ' Fatal(5) ', ' Fatal(4) ', ' Fatal(27) ',\n",
              "       ' Fatal(7) ', ' Fatal(8) ', ' Fatal(6) ', ' Fatal(12) '],\n",
              "      dtype=object)"
            ]
          },
          "metadata": {
            "tags": []
          },
          "execution_count": 58
        }
      ]
    },
    {
      "cell_type": "code",
      "metadata": {
        "colab": {
          "base_uri": "https://localhost:8080/",
          "height": 278
        },
        "id": "3SAAHkKq_tsm",
        "outputId": "53d2ae30-6a91-45b1-cd0a-10420688de63"
      },
      "source": [
        "df1.describe()"
      ],
      "execution_count": null,
      "outputs": [
        {
          "output_type": "execute_result",
          "data": {
            "text/html": [
              "<div>\n",
              "<style scoped>\n",
              "    .dataframe tbody tr th:only-of-type {\n",
              "        vertical-align: middle;\n",
              "    }\n",
              "\n",
              "    .dataframe tbody tr th {\n",
              "        vertical-align: top;\n",
              "    }\n",
              "\n",
              "    .dataframe thead th {\n",
              "        text-align: right;\n",
              "    }\n",
              "</style>\n",
              "<table border=\"1\" class=\"dataframe\">\n",
              "  <thead>\n",
              "    <tr style=\"text-align: right;\">\n",
              "      <th></th>\n",
              "      <th>Event Id</th>\n",
              "      <th>Investigation Type</th>\n",
              "      <th>Accident Number</th>\n",
              "      <th>Event Date</th>\n",
              "      <th>Location</th>\n",
              "      <th>Country</th>\n",
              "      <th>Injury Severity</th>\n",
              "      <th>Aircraft Damage</th>\n",
              "      <th>Registration Number</th>\n",
              "      <th>Make</th>\n",
              "      <th>Model</th>\n",
              "      <th>Amateur Built</th>\n",
              "      <th>Number of Engines</th>\n",
              "      <th>Engine Type</th>\n",
              "      <th>FAR Description</th>\n",
              "      <th>Purpose of Flight</th>\n",
              "      <th>Total Fatal Injuries</th>\n",
              "      <th>Total Serious Injuries</th>\n",
              "      <th>Total Minor Injuries</th>\n",
              "      <th>Total Uninjured</th>\n",
              "      <th>Weather Condition</th>\n",
              "      <th>Broad Phase of Flight</th>\n",
              "      <th>Report Publication Date</th>\n",
              "      <th>Unnamed: 30</th>\n",
              "    </tr>\n",
              "  </thead>\n",
              "  <tbody>\n",
              "    <tr>\n",
              "      <th>count</th>\n",
              "      <td>3559</td>\n",
              "      <td>3559</td>\n",
              "      <td>3559</td>\n",
              "      <td>3559</td>\n",
              "      <td>3559</td>\n",
              "      <td>3559</td>\n",
              "      <td>3559</td>\n",
              "      <td>3559</td>\n",
              "      <td>3559</td>\n",
              "      <td>3559</td>\n",
              "      <td>3559</td>\n",
              "      <td>3559</td>\n",
              "      <td>3559</td>\n",
              "      <td>3559</td>\n",
              "      <td>3559</td>\n",
              "      <td>3559</td>\n",
              "      <td>3559</td>\n",
              "      <td>3559</td>\n",
              "      <td>3559</td>\n",
              "      <td>3559</td>\n",
              "      <td>3559</td>\n",
              "      <td>3559</td>\n",
              "      <td>3559</td>\n",
              "      <td>3559</td>\n",
              "    </tr>\n",
              "    <tr>\n",
              "      <th>unique</th>\n",
              "      <td>3515</td>\n",
              "      <td>2</td>\n",
              "      <td>3559</td>\n",
              "      <td>466</td>\n",
              "      <td>2601</td>\n",
              "      <td>2</td>\n",
              "      <td>12</td>\n",
              "      <td>3</td>\n",
              "      <td>3541</td>\n",
              "      <td>318</td>\n",
              "      <td>1085</td>\n",
              "      <td>2</td>\n",
              "      <td>5</td>\n",
              "      <td>6</td>\n",
              "      <td>10</td>\n",
              "      <td>16</td>\n",
              "      <td>11</td>\n",
              "      <td>11</td>\n",
              "      <td>12</td>\n",
              "      <td>40</td>\n",
              "      <td>3</td>\n",
              "      <td>12</td>\n",
              "      <td>386</td>\n",
              "      <td>1</td>\n",
              "    </tr>\n",
              "    <tr>\n",
              "      <th>top</th>\n",
              "      <td>20020917X04765</td>\n",
              "      <td>Accident</td>\n",
              "      <td>NYC82DA078</td>\n",
              "      <td>05/16/1982</td>\n",
              "      <td>HOUSTON, TX</td>\n",
              "      <td>United States</td>\n",
              "      <td>Non-Fatal</td>\n",
              "      <td>Substantial</td>\n",
              "      <td>NONE</td>\n",
              "      <td>CESSNA</td>\n",
              "      <td>152</td>\n",
              "      <td>No</td>\n",
              "      <td>1</td>\n",
              "      <td>Reciprocating</td>\n",
              "      <td>Part 91: General Aviation</td>\n",
              "      <td>Personal</td>\n",
              "      <td>0</td>\n",
              "      <td>0</td>\n",
              "      <td>0</td>\n",
              "      <td>0</td>\n",
              "      <td>VMC</td>\n",
              "      <td>LANDING</td>\n",
              "      <td>12/28/2008</td>\n",
              "      <td></td>\n",
              "    </tr>\n",
              "    <tr>\n",
              "      <th>freq</th>\n",
              "      <td>2</td>\n",
              "      <td>3463</td>\n",
              "      <td>1</td>\n",
              "      <td>25</td>\n",
              "      <td>19</td>\n",
              "      <td>3556</td>\n",
              "      <td>2780</td>\n",
              "      <td>2392</td>\n",
              "      <td>3</td>\n",
              "      <td>1322</td>\n",
              "      <td>134</td>\n",
              "      <td>3324</td>\n",
              "      <td>2980</td>\n",
              "      <td>3220</td>\n",
              "      <td>3063</td>\n",
              "      <td>1935</td>\n",
              "      <td>2876</td>\n",
              "      <td>3106</td>\n",
              "      <td>2972</td>\n",
              "      <td>1267</td>\n",
              "      <td>3180</td>\n",
              "      <td>925</td>\n",
              "      <td>25</td>\n",
              "      <td>3559</td>\n",
              "    </tr>\n",
              "  </tbody>\n",
              "</table>\n",
              "</div>"
            ],
            "text/plain": [
              "               Event Id Investigation Type  ... Report Publication Date Unnamed: 30\n",
              "count              3559               3559  ...                    3559        3559\n",
              "unique             3515                  2  ...                     386           1\n",
              "top     20020917X04765           Accident   ...             12/28/2008             \n",
              "freq                  2               3463  ...                      25        3559\n",
              "\n",
              "[4 rows x 24 columns]"
            ]
          },
          "metadata": {
            "tags": []
          },
          "execution_count": 59
        }
      ]
    },
    {
      "cell_type": "code",
      "metadata": {
        "colab": {
          "base_uri": "https://localhost:8080/",
          "height": 31
        },
        "id": "Q4N57O3qBsWU",
        "outputId": "271e7dbc-6ccb-41d8-dd70-d59984639eb0"
      },
      "source": [
        "df1.corr()"
      ],
      "execution_count": null,
      "outputs": [
        {
          "output_type": "execute_result",
          "data": {
            "text/html": [
              "<div>\n",
              "<style scoped>\n",
              "    .dataframe tbody tr th:only-of-type {\n",
              "        vertical-align: middle;\n",
              "    }\n",
              "\n",
              "    .dataframe tbody tr th {\n",
              "        vertical-align: top;\n",
              "    }\n",
              "\n",
              "    .dataframe thead th {\n",
              "        text-align: right;\n",
              "    }\n",
              "</style>\n",
              "<table border=\"1\" class=\"dataframe\">\n",
              "  <thead>\n",
              "    <tr style=\"text-align: right;\">\n",
              "      <th></th>\n",
              "    </tr>\n",
              "  </thead>\n",
              "  <tbody>\n",
              "  </tbody>\n",
              "</table>\n",
              "</div>"
            ],
            "text/plain": [
              "Empty DataFrame\n",
              "Columns: []\n",
              "Index: []"
            ]
          },
          "metadata": {
            "tags": []
          },
          "execution_count": 61
        }
      ]
    },
    {
      "cell_type": "code",
      "metadata": {
        "id": "Ga5OH9rZCHBh"
      },
      "source": [
        "df1=pd.get_dummies(df1,drop_first=True)"
      ],
      "execution_count": null,
      "outputs": []
    },
    {
      "cell_type": "code",
      "metadata": {
        "colab": {
          "base_uri": "https://localhost:8080/",
          "height": 304
        },
        "id": "ipXkdLj_I0A7",
        "outputId": "6918f3b8-03e7-40c7-8d1c-157645d5e223"
      },
      "source": [
        "df1.head()"
      ],
      "execution_count": null,
      "outputs": [
        {
          "output_type": "execute_result",
          "data": {
            "text/html": [
              "<div>\n",
              "<style scoped>\n",
              "    .dataframe tbody tr th:only-of-type {\n",
              "        vertical-align: middle;\n",
              "    }\n",
              "\n",
              "    .dataframe tbody tr th {\n",
              "        vertical-align: top;\n",
              "    }\n",
              "\n",
              "    .dataframe thead th {\n",
              "        text-align: right;\n",
              "    }\n",
              "</style>\n",
              "<table border=\"1\" class=\"dataframe\">\n",
              "  <thead>\n",
              "    <tr style=\"text-align: right;\">\n",
              "      <th></th>\n",
              "      <th>Event Id_20001206X02071</th>\n",
              "      <th>Event Id_20001206X02622</th>\n",
              "      <th>Event Id_20001206X02694</th>\n",
              "      <th>Event Id_20001207X03199</th>\n",
              "      <th>Event Id_20001207X04439</th>\n",
              "      <th>Event Id_20001208X06203</th>\n",
              "      <th>Event Id_20001208X07518</th>\n",
              "      <th>Event Id_20001208X07614</th>\n",
              "      <th>Event Id_20001211X10290</th>\n",
              "      <th>Event Id_20001211X10786</th>\n",
              "      <th>Event Id_20001211X11561</th>\n",
              "      <th>Event Id_20001211X13814</th>\n",
              "      <th>Event Id_20001211X14270</th>\n",
              "      <th>Event Id_20001212X17738</th>\n",
              "      <th>Event Id_20001212X17742</th>\n",
              "      <th>Event Id_20001212X18723</th>\n",
              "      <th>Event Id_20001212X19083</th>\n",
              "      <th>Event Id_20001212X19258</th>\n",
              "      <th>Event Id_20001212X19448</th>\n",
              "      <th>Event Id_20001212X20542</th>\n",
              "      <th>Event Id_20001212X20758</th>\n",
              "      <th>Event Id_20001212X20769</th>\n",
              "      <th>Event Id_20001212X21041</th>\n",
              "      <th>Event Id_20001212X21094</th>\n",
              "      <th>Event Id_20001212X21416</th>\n",
              "      <th>Event Id_20001212X22206</th>\n",
              "      <th>Event Id_20001212X23574</th>\n",
              "      <th>Event Id_20010105X00037</th>\n",
              "      <th>Event Id_20020909X01561</th>\n",
              "      <th>Event Id_20020909X01562</th>\n",
              "      <th>Event Id_20020917X01623</th>\n",
              "      <th>Event Id_20020917X01624</th>\n",
              "      <th>Event Id_20020917X01625</th>\n",
              "      <th>Event Id_20020917X01626</th>\n",
              "      <th>Event Id_20020917X01627</th>\n",
              "      <th>Event Id_20020917X01628</th>\n",
              "      <th>Event Id_20020917X01629</th>\n",
              "      <th>Event Id_20020917X01630</th>\n",
              "      <th>Event Id_20020917X01631</th>\n",
              "      <th>Event Id_20020917X01632</th>\n",
              "      <th>...</th>\n",
              "      <th>Report Publication Date_ 11/28/1983</th>\n",
              "      <th>Report Publication Date_ 11/29/1983</th>\n",
              "      <th>Report Publication Date_ 11/30/1983</th>\n",
              "      <th>Report Publication Date_ 12/01/1983</th>\n",
              "      <th>Report Publication Date_ 12/02/1983</th>\n",
              "      <th>Report Publication Date_ 12/03/1983</th>\n",
              "      <th>Report Publication Date_ 12/03/2008</th>\n",
              "      <th>Report Publication Date_ 12/04/1983</th>\n",
              "      <th>Report Publication Date_ 12/05/1983</th>\n",
              "      <th>Report Publication Date_ 12/05/2008</th>\n",
              "      <th>Report Publication Date_ 12/06/1983</th>\n",
              "      <th>Report Publication Date_ 12/07/1983</th>\n",
              "      <th>Report Publication Date_ 12/08/1983</th>\n",
              "      <th>Report Publication Date_ 12/09/1983</th>\n",
              "      <th>Report Publication Date_ 12/10/1983</th>\n",
              "      <th>Report Publication Date_ 12/10/2014</th>\n",
              "      <th>Report Publication Date_ 12/11/1983</th>\n",
              "      <th>Report Publication Date_ 12/12/1983</th>\n",
              "      <th>Report Publication Date_ 12/12/2008</th>\n",
              "      <th>Report Publication Date_ 12/13/1983</th>\n",
              "      <th>Report Publication Date_ 12/14/1983</th>\n",
              "      <th>Report Publication Date_ 12/15/1983</th>\n",
              "      <th>Report Publication Date_ 12/16/1983</th>\n",
              "      <th>Report Publication Date_ 12/17/1983</th>\n",
              "      <th>Report Publication Date_ 12/18/1983</th>\n",
              "      <th>Report Publication Date_ 12/19/1983</th>\n",
              "      <th>Report Publication Date_ 12/20/1983</th>\n",
              "      <th>Report Publication Date_ 12/21/1983</th>\n",
              "      <th>Report Publication Date_ 12/22/1983</th>\n",
              "      <th>Report Publication Date_ 12/23/1983</th>\n",
              "      <th>Report Publication Date_ 12/24/1983</th>\n",
              "      <th>Report Publication Date_ 12/24/2008</th>\n",
              "      <th>Report Publication Date_ 12/25/1983</th>\n",
              "      <th>Report Publication Date_ 12/26/1983</th>\n",
              "      <th>Report Publication Date_ 12/27/1983</th>\n",
              "      <th>Report Publication Date_ 12/28/1983</th>\n",
              "      <th>Report Publication Date_ 12/28/2008</th>\n",
              "      <th>Report Publication Date_ 12/29/1983</th>\n",
              "      <th>Report Publication Date_ 12/30/1983</th>\n",
              "      <th>Report Publication Date_ 12/31/1983</th>\n",
              "    </tr>\n",
              "  </thead>\n",
              "  <tbody>\n",
              "    <tr>\n",
              "      <th>4</th>\n",
              "      <td>0</td>\n",
              "      <td>0</td>\n",
              "      <td>0</td>\n",
              "      <td>0</td>\n",
              "      <td>0</td>\n",
              "      <td>0</td>\n",
              "      <td>0</td>\n",
              "      <td>0</td>\n",
              "      <td>0</td>\n",
              "      <td>0</td>\n",
              "      <td>0</td>\n",
              "      <td>0</td>\n",
              "      <td>0</td>\n",
              "      <td>0</td>\n",
              "      <td>0</td>\n",
              "      <td>0</td>\n",
              "      <td>0</td>\n",
              "      <td>0</td>\n",
              "      <td>0</td>\n",
              "      <td>0</td>\n",
              "      <td>0</td>\n",
              "      <td>0</td>\n",
              "      <td>0</td>\n",
              "      <td>0</td>\n",
              "      <td>0</td>\n",
              "      <td>0</td>\n",
              "      <td>0</td>\n",
              "      <td>0</td>\n",
              "      <td>0</td>\n",
              "      <td>0</td>\n",
              "      <td>0</td>\n",
              "      <td>0</td>\n",
              "      <td>0</td>\n",
              "      <td>0</td>\n",
              "      <td>0</td>\n",
              "      <td>0</td>\n",
              "      <td>0</td>\n",
              "      <td>0</td>\n",
              "      <td>0</td>\n",
              "      <td>0</td>\n",
              "      <td>...</td>\n",
              "      <td>0</td>\n",
              "      <td>0</td>\n",
              "      <td>0</td>\n",
              "      <td>0</td>\n",
              "      <td>0</td>\n",
              "      <td>0</td>\n",
              "      <td>0</td>\n",
              "      <td>0</td>\n",
              "      <td>0</td>\n",
              "      <td>0</td>\n",
              "      <td>0</td>\n",
              "      <td>0</td>\n",
              "      <td>0</td>\n",
              "      <td>0</td>\n",
              "      <td>0</td>\n",
              "      <td>0</td>\n",
              "      <td>0</td>\n",
              "      <td>0</td>\n",
              "      <td>0</td>\n",
              "      <td>0</td>\n",
              "      <td>0</td>\n",
              "      <td>0</td>\n",
              "      <td>0</td>\n",
              "      <td>0</td>\n",
              "      <td>0</td>\n",
              "      <td>0</td>\n",
              "      <td>0</td>\n",
              "      <td>0</td>\n",
              "      <td>0</td>\n",
              "      <td>0</td>\n",
              "      <td>0</td>\n",
              "      <td>0</td>\n",
              "      <td>0</td>\n",
              "      <td>0</td>\n",
              "      <td>0</td>\n",
              "      <td>0</td>\n",
              "      <td>0</td>\n",
              "      <td>0</td>\n",
              "      <td>0</td>\n",
              "      <td>0</td>\n",
              "    </tr>\n",
              "    <tr>\n",
              "      <th>9</th>\n",
              "      <td>0</td>\n",
              "      <td>0</td>\n",
              "      <td>0</td>\n",
              "      <td>0</td>\n",
              "      <td>0</td>\n",
              "      <td>0</td>\n",
              "      <td>0</td>\n",
              "      <td>0</td>\n",
              "      <td>0</td>\n",
              "      <td>0</td>\n",
              "      <td>0</td>\n",
              "      <td>0</td>\n",
              "      <td>0</td>\n",
              "      <td>0</td>\n",
              "      <td>0</td>\n",
              "      <td>0</td>\n",
              "      <td>0</td>\n",
              "      <td>0</td>\n",
              "      <td>0</td>\n",
              "      <td>0</td>\n",
              "      <td>0</td>\n",
              "      <td>0</td>\n",
              "      <td>0</td>\n",
              "      <td>0</td>\n",
              "      <td>0</td>\n",
              "      <td>0</td>\n",
              "      <td>0</td>\n",
              "      <td>0</td>\n",
              "      <td>0</td>\n",
              "      <td>0</td>\n",
              "      <td>0</td>\n",
              "      <td>0</td>\n",
              "      <td>0</td>\n",
              "      <td>0</td>\n",
              "      <td>0</td>\n",
              "      <td>0</td>\n",
              "      <td>0</td>\n",
              "      <td>0</td>\n",
              "      <td>0</td>\n",
              "      <td>0</td>\n",
              "      <td>...</td>\n",
              "      <td>0</td>\n",
              "      <td>0</td>\n",
              "      <td>0</td>\n",
              "      <td>0</td>\n",
              "      <td>0</td>\n",
              "      <td>0</td>\n",
              "      <td>1</td>\n",
              "      <td>0</td>\n",
              "      <td>0</td>\n",
              "      <td>0</td>\n",
              "      <td>0</td>\n",
              "      <td>0</td>\n",
              "      <td>0</td>\n",
              "      <td>0</td>\n",
              "      <td>0</td>\n",
              "      <td>0</td>\n",
              "      <td>0</td>\n",
              "      <td>0</td>\n",
              "      <td>0</td>\n",
              "      <td>0</td>\n",
              "      <td>0</td>\n",
              "      <td>0</td>\n",
              "      <td>0</td>\n",
              "      <td>0</td>\n",
              "      <td>0</td>\n",
              "      <td>0</td>\n",
              "      <td>0</td>\n",
              "      <td>0</td>\n",
              "      <td>0</td>\n",
              "      <td>0</td>\n",
              "      <td>0</td>\n",
              "      <td>0</td>\n",
              "      <td>0</td>\n",
              "      <td>0</td>\n",
              "      <td>0</td>\n",
              "      <td>0</td>\n",
              "      <td>0</td>\n",
              "      <td>0</td>\n",
              "      <td>0</td>\n",
              "      <td>0</td>\n",
              "    </tr>\n",
              "    <tr>\n",
              "      <th>12</th>\n",
              "      <td>0</td>\n",
              "      <td>0</td>\n",
              "      <td>0</td>\n",
              "      <td>0</td>\n",
              "      <td>0</td>\n",
              "      <td>0</td>\n",
              "      <td>0</td>\n",
              "      <td>0</td>\n",
              "      <td>0</td>\n",
              "      <td>0</td>\n",
              "      <td>0</td>\n",
              "      <td>0</td>\n",
              "      <td>0</td>\n",
              "      <td>0</td>\n",
              "      <td>0</td>\n",
              "      <td>0</td>\n",
              "      <td>0</td>\n",
              "      <td>0</td>\n",
              "      <td>0</td>\n",
              "      <td>0</td>\n",
              "      <td>0</td>\n",
              "      <td>0</td>\n",
              "      <td>0</td>\n",
              "      <td>0</td>\n",
              "      <td>0</td>\n",
              "      <td>0</td>\n",
              "      <td>0</td>\n",
              "      <td>0</td>\n",
              "      <td>0</td>\n",
              "      <td>0</td>\n",
              "      <td>0</td>\n",
              "      <td>0</td>\n",
              "      <td>0</td>\n",
              "      <td>0</td>\n",
              "      <td>0</td>\n",
              "      <td>0</td>\n",
              "      <td>0</td>\n",
              "      <td>0</td>\n",
              "      <td>0</td>\n",
              "      <td>0</td>\n",
              "      <td>...</td>\n",
              "      <td>0</td>\n",
              "      <td>0</td>\n",
              "      <td>0</td>\n",
              "      <td>0</td>\n",
              "      <td>0</td>\n",
              "      <td>0</td>\n",
              "      <td>0</td>\n",
              "      <td>0</td>\n",
              "      <td>0</td>\n",
              "      <td>0</td>\n",
              "      <td>0</td>\n",
              "      <td>0</td>\n",
              "      <td>0</td>\n",
              "      <td>0</td>\n",
              "      <td>0</td>\n",
              "      <td>0</td>\n",
              "      <td>0</td>\n",
              "      <td>0</td>\n",
              "      <td>0</td>\n",
              "      <td>0</td>\n",
              "      <td>0</td>\n",
              "      <td>0</td>\n",
              "      <td>0</td>\n",
              "      <td>0</td>\n",
              "      <td>0</td>\n",
              "      <td>0</td>\n",
              "      <td>0</td>\n",
              "      <td>0</td>\n",
              "      <td>0</td>\n",
              "      <td>0</td>\n",
              "      <td>0</td>\n",
              "      <td>1</td>\n",
              "      <td>0</td>\n",
              "      <td>0</td>\n",
              "      <td>0</td>\n",
              "      <td>0</td>\n",
              "      <td>0</td>\n",
              "      <td>0</td>\n",
              "      <td>0</td>\n",
              "      <td>0</td>\n",
              "    </tr>\n",
              "    <tr>\n",
              "      <th>16</th>\n",
              "      <td>0</td>\n",
              "      <td>0</td>\n",
              "      <td>0</td>\n",
              "      <td>0</td>\n",
              "      <td>0</td>\n",
              "      <td>0</td>\n",
              "      <td>0</td>\n",
              "      <td>0</td>\n",
              "      <td>0</td>\n",
              "      <td>0</td>\n",
              "      <td>0</td>\n",
              "      <td>0</td>\n",
              "      <td>0</td>\n",
              "      <td>0</td>\n",
              "      <td>0</td>\n",
              "      <td>0</td>\n",
              "      <td>0</td>\n",
              "      <td>0</td>\n",
              "      <td>0</td>\n",
              "      <td>0</td>\n",
              "      <td>0</td>\n",
              "      <td>0</td>\n",
              "      <td>0</td>\n",
              "      <td>0</td>\n",
              "      <td>0</td>\n",
              "      <td>0</td>\n",
              "      <td>0</td>\n",
              "      <td>0</td>\n",
              "      <td>0</td>\n",
              "      <td>0</td>\n",
              "      <td>0</td>\n",
              "      <td>0</td>\n",
              "      <td>0</td>\n",
              "      <td>0</td>\n",
              "      <td>0</td>\n",
              "      <td>0</td>\n",
              "      <td>0</td>\n",
              "      <td>0</td>\n",
              "      <td>0</td>\n",
              "      <td>0</td>\n",
              "      <td>...</td>\n",
              "      <td>0</td>\n",
              "      <td>0</td>\n",
              "      <td>0</td>\n",
              "      <td>0</td>\n",
              "      <td>0</td>\n",
              "      <td>0</td>\n",
              "      <td>0</td>\n",
              "      <td>0</td>\n",
              "      <td>0</td>\n",
              "      <td>0</td>\n",
              "      <td>0</td>\n",
              "      <td>0</td>\n",
              "      <td>0</td>\n",
              "      <td>0</td>\n",
              "      <td>0</td>\n",
              "      <td>0</td>\n",
              "      <td>0</td>\n",
              "      <td>0</td>\n",
              "      <td>0</td>\n",
              "      <td>0</td>\n",
              "      <td>0</td>\n",
              "      <td>0</td>\n",
              "      <td>0</td>\n",
              "      <td>0</td>\n",
              "      <td>0</td>\n",
              "      <td>0</td>\n",
              "      <td>0</td>\n",
              "      <td>0</td>\n",
              "      <td>0</td>\n",
              "      <td>0</td>\n",
              "      <td>0</td>\n",
              "      <td>0</td>\n",
              "      <td>0</td>\n",
              "      <td>0</td>\n",
              "      <td>0</td>\n",
              "      <td>0</td>\n",
              "      <td>0</td>\n",
              "      <td>0</td>\n",
              "      <td>0</td>\n",
              "      <td>0</td>\n",
              "    </tr>\n",
              "    <tr>\n",
              "      <th>17</th>\n",
              "      <td>0</td>\n",
              "      <td>0</td>\n",
              "      <td>0</td>\n",
              "      <td>0</td>\n",
              "      <td>0</td>\n",
              "      <td>0</td>\n",
              "      <td>0</td>\n",
              "      <td>0</td>\n",
              "      <td>0</td>\n",
              "      <td>0</td>\n",
              "      <td>0</td>\n",
              "      <td>0</td>\n",
              "      <td>0</td>\n",
              "      <td>0</td>\n",
              "      <td>0</td>\n",
              "      <td>0</td>\n",
              "      <td>0</td>\n",
              "      <td>0</td>\n",
              "      <td>0</td>\n",
              "      <td>0</td>\n",
              "      <td>0</td>\n",
              "      <td>0</td>\n",
              "      <td>0</td>\n",
              "      <td>0</td>\n",
              "      <td>0</td>\n",
              "      <td>0</td>\n",
              "      <td>0</td>\n",
              "      <td>0</td>\n",
              "      <td>0</td>\n",
              "      <td>0</td>\n",
              "      <td>0</td>\n",
              "      <td>0</td>\n",
              "      <td>0</td>\n",
              "      <td>0</td>\n",
              "      <td>0</td>\n",
              "      <td>0</td>\n",
              "      <td>0</td>\n",
              "      <td>0</td>\n",
              "      <td>0</td>\n",
              "      <td>0</td>\n",
              "      <td>...</td>\n",
              "      <td>0</td>\n",
              "      <td>0</td>\n",
              "      <td>0</td>\n",
              "      <td>0</td>\n",
              "      <td>0</td>\n",
              "      <td>0</td>\n",
              "      <td>0</td>\n",
              "      <td>0</td>\n",
              "      <td>0</td>\n",
              "      <td>0</td>\n",
              "      <td>0</td>\n",
              "      <td>0</td>\n",
              "      <td>0</td>\n",
              "      <td>0</td>\n",
              "      <td>0</td>\n",
              "      <td>0</td>\n",
              "      <td>0</td>\n",
              "      <td>0</td>\n",
              "      <td>0</td>\n",
              "      <td>0</td>\n",
              "      <td>0</td>\n",
              "      <td>0</td>\n",
              "      <td>0</td>\n",
              "      <td>0</td>\n",
              "      <td>0</td>\n",
              "      <td>0</td>\n",
              "      <td>0</td>\n",
              "      <td>0</td>\n",
              "      <td>0</td>\n",
              "      <td>0</td>\n",
              "      <td>0</td>\n",
              "      <td>1</td>\n",
              "      <td>0</td>\n",
              "      <td>0</td>\n",
              "      <td>0</td>\n",
              "      <td>0</td>\n",
              "      <td>0</td>\n",
              "      <td>0</td>\n",
              "      <td>0</td>\n",
              "      <td>0</td>\n",
              "    </tr>\n",
              "  </tbody>\n",
              "</table>\n",
              "<p>5 rows × 15595 columns</p>\n",
              "</div>"
            ],
            "text/plain": [
              "    Event Id_20001206X02071   ...  Report Publication Date_ 12/31/1983 \n",
              "4                          0  ...                                     0\n",
              "9                          0  ...                                     0\n",
              "12                         0  ...                                     0\n",
              "16                         0  ...                                     0\n",
              "17                         0  ...                                     0\n",
              "\n",
              "[5 rows x 15595 columns]"
            ]
          },
          "metadata": {
            "tags": []
          },
          "execution_count": 63
        }
      ]
    },
    {
      "cell_type": "code",
      "metadata": {
        "id": "yUMq5hs2I3kK"
      },
      "source": [
        "import seaborn as sns\n",
        "import matplotlib.pyplot as plt\n",
        "#get correlations of each features in dataset\n",
        "corrmat = df1.corr()\n",
        "top_corr_features = corrmat.index\n",
        "plt.figure(figsize=(20,20))\n",
        "#plot heat map\n",
        "g=sns.heatmap(df1[top_corr_features].corr(),annot=True,cmap=\"RdYlGn\")"
      ],
      "execution_count": null,
      "outputs": []
    },
    {
      "cell_type": "code",
      "metadata": {
        "id": "wWpas0U6JWgm"
      },
      "source": [
        ""
      ],
      "execution_count": null,
      "outputs": []
    }
  ]
}