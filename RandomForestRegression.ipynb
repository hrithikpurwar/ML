{
  "nbformat": 4,
  "nbformat_minor": 0,
  "metadata": {
    "colab": {
      "name": "RandomForestRegression.ipynb",
      "provenance": [],
      "authorship_tag": "ABX9TyOmw+Gb4veqPSjQwlnfL+tp",
      "include_colab_link": true
    },
    "kernelspec": {
      "name": "python3",
      "display_name": "Python 3"
    }
  },
  "cells": [
    {
      "cell_type": "markdown",
      "metadata": {
        "id": "view-in-github",
        "colab_type": "text"
      },
      "source": [
        "<a href=\"https://colab.research.google.com/github/hrithikpurwar/ML/blob/main/RandomForestRegression.ipynb\" target=\"_parent\"><img src=\"https://colab.research.google.com/assets/colab-badge.svg\" alt=\"Open In Colab\"/></a>"
      ]
    },
    {
      "cell_type": "code",
      "metadata": {
        "id": "J_0erlgNhuRI"
      },
      "source": [
        "import seaborn as sns\n",
        "import numpy as np\n",
        "import pandas as pd"
      ],
      "execution_count": 1,
      "outputs": []
    },
    {
      "cell_type": "code",
      "metadata": {
        "id": "ZdkyA7pMip6x"
      },
      "source": [
        "df=pd.read_csv('/content/Position_Salaries.csv')"
      ],
      "execution_count": 2,
      "outputs": []
    },
    {
      "cell_type": "code",
      "metadata": {
        "colab": {
          "base_uri": "https://localhost:8080/",
          "height": 204
        },
        "id": "HY63dQ8qit9F",
        "outputId": "3fb3a418-3c0a-4669-89cb-091459087f5c"
      },
      "source": [
        "df.head()"
      ],
      "execution_count": 3,
      "outputs": [
        {
          "output_type": "execute_result",
          "data": {
            "text/html": [
              "<div>\n",
              "<style scoped>\n",
              "    .dataframe tbody tr th:only-of-type {\n",
              "        vertical-align: middle;\n",
              "    }\n",
              "\n",
              "    .dataframe tbody tr th {\n",
              "        vertical-align: top;\n",
              "    }\n",
              "\n",
              "    .dataframe thead th {\n",
              "        text-align: right;\n",
              "    }\n",
              "</style>\n",
              "<table border=\"1\" class=\"dataframe\">\n",
              "  <thead>\n",
              "    <tr style=\"text-align: right;\">\n",
              "      <th></th>\n",
              "      <th>Position</th>\n",
              "      <th>Level</th>\n",
              "      <th>Salary</th>\n",
              "    </tr>\n",
              "  </thead>\n",
              "  <tbody>\n",
              "    <tr>\n",
              "      <th>0</th>\n",
              "      <td>Business Analyst</td>\n",
              "      <td>1</td>\n",
              "      <td>45000</td>\n",
              "    </tr>\n",
              "    <tr>\n",
              "      <th>1</th>\n",
              "      <td>Junior Consultant</td>\n",
              "      <td>2</td>\n",
              "      <td>50000</td>\n",
              "    </tr>\n",
              "    <tr>\n",
              "      <th>2</th>\n",
              "      <td>Senior Consultant</td>\n",
              "      <td>3</td>\n",
              "      <td>60000</td>\n",
              "    </tr>\n",
              "    <tr>\n",
              "      <th>3</th>\n",
              "      <td>Manager</td>\n",
              "      <td>4</td>\n",
              "      <td>80000</td>\n",
              "    </tr>\n",
              "    <tr>\n",
              "      <th>4</th>\n",
              "      <td>Country Manager</td>\n",
              "      <td>5</td>\n",
              "      <td>110000</td>\n",
              "    </tr>\n",
              "  </tbody>\n",
              "</table>\n",
              "</div>"
            ],
            "text/plain": [
              "            Position  Level  Salary\n",
              "0   Business Analyst      1   45000\n",
              "1  Junior Consultant      2   50000\n",
              "2  Senior Consultant      3   60000\n",
              "3            Manager      4   80000\n",
              "4    Country Manager      5  110000"
            ]
          },
          "metadata": {
            "tags": []
          },
          "execution_count": 3
        }
      ]
    },
    {
      "cell_type": "code",
      "metadata": {
        "id": "fzbpvlEMiwbz"
      },
      "source": [
        "X=df.iloc[:,1:2].values\n",
        "Y=df.iloc[:,2].values"
      ],
      "execution_count": 4,
      "outputs": []
    },
    {
      "cell_type": "code",
      "metadata": {
        "id": "XlPdP6m2i2SL"
      },
      "source": [
        "from sklearn.model_selection import train_test_split\n",
        "X_train, X_test, Y_train, Y_test = train_test_split(X, Y, test_size=0.3, random_state=0)"
      ],
      "execution_count": 5,
      "outputs": []
    },
    {
      "cell_type": "code",
      "metadata": {
        "colab": {
          "base_uri": "https://localhost:8080/"
        },
        "id": "j-1krxTHi5Lq",
        "outputId": "20f9045d-d6ce-4065-8289-1ae8dcf0e3e2"
      },
      "source": [
        "from sklearn.ensemble import RandomForestRegressor\n",
        "regressor=RandomForestRegressor(n_estimators=10, random_state=0) #n_est=no. of trees\n",
        "regressor.fit(X_train,Y_train)\n",
        "Y_pred=regressor.predict(X_test)\n",
        "regressor.score(X_test, Y_test)"
      ],
      "execution_count": 7,
      "outputs": [
        {
          "output_type": "execute_result",
          "data": {
            "text/plain": [
              "0.8279867892016083"
            ]
          },
          "metadata": {
            "tags": []
          },
          "execution_count": 7
        }
      ]
    },
    {
      "cell_type": "code",
      "metadata": {
        "colab": {
          "base_uri": "https://localhost:8080/",
          "height": 276
        },
        "id": "YORR9DWkkNRE",
        "outputId": "196c9ab5-a47c-4bae-ae78-b79bce87947f"
      },
      "source": [
        "import matplotlib.pyplot as plt\n",
        "plt.scatter(X_train,Y_train,color='red')\n",
        "plt.scatter(X_test,Y_test,color='black')\n",
        "plt.plot(X_test,regressor.predict(X_test),color='blue')\n",
        "plt.show() #this is discontinuous"
      ],
      "execution_count": 8,
      "outputs": [
        {
          "output_type": "display_data",
          "data": {
            "image/png": "[encoded data removed]",
            "text/plain": [
              "<Figure size 432x288 with 1 Axes>"
            ]
          },
          "metadata": {
            "tags": [],
            "needs_background": "light"
          }
        }
      ]
    },
    {
      "cell_type": "code",
      "metadata": {
        "colab": {
          "base_uri": "https://localhost:8080/",
          "height": 276
        },
        "id": "eCxP2J56kfcn",
        "outputId": "200379f1-81ab-48e0-9836-14985a4ec6a3"
      },
      "source": [
        "X_grid=np.arange(min(X_train),max(X_train),0.1)\n",
        "X_grid=X_grid.reshape((len(X_grid),1))\n",
        "plt.scatter(X_train,Y_train,color='red')\n",
        "X_grid2=np.arange(min(X_test),max(X_test),0.1)\n",
        "X_grid2=X_grid2.reshape((len(X_grid2),1))\n",
        "plt.scatter(X_test,Y_test,color='black')\n",
        "plt.plot(X_grid,regressor.predict(X_grid),color='blue')\n",
        "plt.plot(X_grid2,regressor.predict(X_grid2),color='yellow')\n",
        "plt.show()"
      ],
      "execution_count": 9,
      "outputs": [
        {
          "output_type": "display_data",
          "data": {
            "image/png": "[encoded data removed]",
            "text/plain": [
              "<Figure size 432x288 with 1 Axes>"
            ]
          },
          "metadata": {
            "tags": [],
            "needs_background": "light"
          }
        }
      ]
    },
    {
      "cell_type": "code",
      "metadata": {
        "colab": {
          "base_uri": "https://localhost:8080/",
          "height": 276
        },
        "id": "CjCNwsFPkqvZ",
        "outputId": "68b1b837-5c63-4e58-ce5a-1ed3e9a7ab84"
      },
      "source": [
        "X_grid3=np.arange(min(X),max(X),0.1)\n",
        "X_grid3=X_grid.reshape((len(X_grid3),1))\n",
        "plt.scatter(X,Y,color='red')\n",
        "plt.plot(X_grid3,regressor.predict(X_grid3),color='blue')\n",
        "plt.show()"
      ],
      "execution_count": 10,
      "outputs": [
        {
          "output_type": "display_data",
          "data": {
            "image/png": "[encoded data removed]",
            "text/plain": [
              "<Figure size 432x288 with 1 Axes>"
            ]
          },
          "metadata": {
            "tags": [],
            "needs_background": "light"
          }
        }
      ]
    },
    {
      "cell_type": "code",
      "metadata": {
        "colab": {
          "base_uri": "https://localhost:8080/"
        },
        "id": "-M_laUkqlRl5",
        "outputId": "d9215080-0ba7-496c-ada6-0d959a1304b3"
      },
      "source": [
        "from sklearn.ensemble import RandomForestRegressor\n",
        "regressor=RandomForestRegressor(n_estimators=100, random_state=0) #n_est=no. of trees\n",
        "regressor.fit(X_train,Y_train)\n",
        "Y_pred=regressor.predict(X_test)\n",
        "regressor.score(X_test, Y_test)"
      ],
      "execution_count": 11,
      "outputs": [
        {
          "output_type": "execute_result",
          "data": {
            "text/plain": [
              "0.9493609994256175"
            ]
          },
          "metadata": {
            "tags": []
          },
          "execution_count": 11
        }
      ]
    },
    {
      "cell_type": "code",
      "metadata": {
        "colab": {
          "base_uri": "https://localhost:8080/",
          "height": 276
        },
        "id": "JD7uEl_glf1m",
        "outputId": "f36ef201-b429-4e15-ff78-611654e81edd"
      },
      "source": [
        "X_grid=np.arange(min(X_train),max(X_train),0.1)\n",
        "X_grid=X_grid.reshape((len(X_grid),1))\n",
        "plt.scatter(X_train,Y_train,color='red')\n",
        "X_grid2=np.arange(min(X_test),max(X_test),0.1)\n",
        "X_grid2=X_grid2.reshape((len(X_grid2),1))\n",
        "plt.scatter(X_test,Y_test,color='black')\n",
        "plt.plot(X_grid,regressor.predict(X_grid),color='blue')\n",
        "plt.plot(X_grid2,regressor.predict(X_grid2),color='yellow')\n",
        "plt.show() #on increasing number of trees...results get accurate but no. of steps in graph dont change as no. of trees are no of time program run for taking average"
      ],
      "execution_count": 12,
      "outputs": [
        {
          "output_type": "display_data",
          "data": {
            "image/png": "[encoded data removed]",
            "text/plain": [
              "<Figure size 432x288 with 1 Axes>"
            ]
          },
          "metadata": {
            "tags": [],
            "needs_background": "light"
          }
        }
      ]
    },
    {
      "cell_type": "code",
      "metadata": {
        "colab": {
          "base_uri": "https://localhost:8080/"
        },
        "id": "zHNHJ4jyljIM",
        "outputId": "47f31e45-9aa9-4ba6-d2e3-3ece8680a048"
      },
      "source": [
        "from sklearn.ensemble import RandomForestRegressor\n",
        "regressor=RandomForestRegressor(n_estimators=300, random_state=0) #n_est=no. of trees\n",
        "regressor.fit(X_train,Y_train)\n",
        "Y_pred=regressor.predict(X_test)\n",
        "regressor.score(X_test, Y_test)"
      ],
      "execution_count": 13,
      "outputs": [
        {
          "output_type": "execute_result",
          "data": {
            "text/plain": [
              "0.9916666953857936"
            ]
          },
          "metadata": {
            "tags": []
          },
          "execution_count": 13
        }
      ]
    },
    {
      "cell_type": "code",
      "metadata": {
        "colab": {
          "base_uri": "https://localhost:8080/",
          "height": 276
        },
        "id": "Gewpi5AblvYE",
        "outputId": "2d12bf8a-da03-45d1-817c-f8b03043de1e"
      },
      "source": [
        "X_grid=np.arange(min(X_train),max(X_train),0.1)\n",
        "X_grid=X_grid.reshape((len(X_grid),1))\n",
        "plt.scatter(X_train,Y_train,color='red')\n",
        "X_grid2=np.arange(min(X_test),max(X_test),0.1)\n",
        "X_grid2=X_grid2.reshape((len(X_grid2),1))\n",
        "plt.scatter(X_test,Y_test,color='black')\n",
        "plt.plot(X_grid,regressor.predict(X_grid),color='blue')\n",
        "plt.plot(X_grid2,regressor.predict(X_grid2),color='yellow')\n",
        "plt.show()"
      ],
      "execution_count": 14,
      "outputs": [
        {
          "output_type": "display_data",
          "data": {
            "image/png": "[encoded data removed]",
            "text/plain": [
              "<Figure size 432x288 with 1 Axes>"
            ]
          },
          "metadata": {
            "tags": [],
            "needs_background": "light"
          }
        }
      ]
    },
    {
      "cell_type": "code",
      "metadata": {
        "id": "6w9yY4Hwlxgh"
      },
      "source": [
        ""
      ],
      "execution_count": null,
      "outputs": []
    }
  ]
}