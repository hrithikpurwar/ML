{
  "nbformat": 4,
  "nbformat_minor": 0,
  "metadata": {
    "colab": {
      "name": "D-Reduction(Kernel PCA)(Non-Linear).ipynb",
      "provenance": [],
      "authorship_tag": "ABX9TyOI7oc/Aflw+ObQ3vTIXDy1",
      "include_colab_link": true
    },
    "kernelspec": {
      "name": "python3",
      "display_name": "Python 3"
    },
    "language_info": {
      "name": "python"
    }
  },
  "cells": [
    {
      "cell_type": "markdown",
      "metadata": {
        "id": "view-in-github",
        "colab_type": "text"
      },
      "source": [
        "<a href=\"https://colab.research.google.com/github/hrithikpurwar/ML/blob/main/D_Reduction(Kernel_PCA)(Non_Linear).ipynb\" target=\"_parent\"><img src=\"https://colab.research.google.com/assets/colab-badge.svg\" alt=\"Open In Colab\"/></a>"
      ]
    },
    {
      "cell_type": "code",
      "metadata": {
        "id": "Hx3bslU8uSum"
      },
      "source": [
        "import numpy as np\n",
        "import matplotlib.pyplot as plt\n",
        "import pandas as pd"
      ],
      "execution_count": 1,
      "outputs": []
    },
    {
      "cell_type": "markdown",
      "metadata": {
        "id": "Xvwb9csgvjHe"
      },
      "source": [
        "We can apply linear classifier to even a non linearly seperable classes by applying kernel PCA on X before applying linear classification. It will transform the dataset like that."
      ]
    },
    {
      "cell_type": "code",
      "metadata": {
        "id": "E7bSdClxuhlQ"
      },
      "source": [
        "df=pd.read_csv('/content/Social_Network_Ads.csv',sep=',')"
      ],
      "execution_count": 2,
      "outputs": []
    },
    {
      "cell_type": "code",
      "metadata": {
        "colab": {
          "base_uri": "https://localhost:8080/",
          "height": 204
        },
        "id": "cPhd49HFumy4",
        "outputId": "9ef24bce-f96c-449c-b2ee-ba20e359b23c"
      },
      "source": [
        "df.head()"
      ],
      "execution_count": 3,
      "outputs": [
        {
          "output_type": "execute_result",
          "data": {
            "text/html": [
              "<div>\n",
              "<style scoped>\n",
              "    .dataframe tbody tr th:only-of-type {\n",
              "        vertical-align: middle;\n",
              "    }\n",
              "\n",
              "    .dataframe tbody tr th {\n",
              "        vertical-align: top;\n",
              "    }\n",
              "\n",
              "    .dataframe thead th {\n",
              "        text-align: right;\n",
              "    }\n",
              "</style>\n",
              "<table border=\"1\" class=\"dataframe\">\n",
              "  <thead>\n",
              "    <tr style=\"text-align: right;\">\n",
              "      <th></th>\n",
              "      <th>User ID</th>\n",
              "      <th>Gender</th>\n",
              "      <th>Age</th>\n",
              "      <th>EstimatedSalary</th>\n",
              "      <th>Purchased</th>\n",
              "    </tr>\n",
              "  </thead>\n",
              "  <tbody>\n",
              "    <tr>\n",
              "      <th>0</th>\n",
              "      <td>15624510</td>\n",
              "      <td>Male</td>\n",
              "      <td>19.0</td>\n",
              "      <td>19000.0</td>\n",
              "      <td>0</td>\n",
              "    </tr>\n",
              "    <tr>\n",
              "      <th>1</th>\n",
              "      <td>15810944</td>\n",
              "      <td>Male</td>\n",
              "      <td>35.0</td>\n",
              "      <td>20000.0</td>\n",
              "      <td>0</td>\n",
              "    </tr>\n",
              "    <tr>\n",
              "      <th>2</th>\n",
              "      <td>15668575</td>\n",
              "      <td>Female</td>\n",
              "      <td>26.0</td>\n",
              "      <td>43000.0</td>\n",
              "      <td>0</td>\n",
              "    </tr>\n",
              "    <tr>\n",
              "      <th>3</th>\n",
              "      <td>15603246</td>\n",
              "      <td>Female</td>\n",
              "      <td>27.0</td>\n",
              "      <td>57000.0</td>\n",
              "      <td>0</td>\n",
              "    </tr>\n",
              "    <tr>\n",
              "      <th>4</th>\n",
              "      <td>15804002</td>\n",
              "      <td>Male</td>\n",
              "      <td>19.0</td>\n",
              "      <td>76000.0</td>\n",
              "      <td>0</td>\n",
              "    </tr>\n",
              "  </tbody>\n",
              "</table>\n",
              "</div>"
            ],
            "text/plain": [
              "    User ID  Gender   Age  EstimatedSalary  Purchased\n",
              "0  15624510    Male  19.0          19000.0          0\n",
              "1  15810944    Male  35.0          20000.0          0\n",
              "2  15668575  Female  26.0          43000.0          0\n",
              "3  15603246  Female  27.0          57000.0          0\n",
              "4  15804002    Male  19.0          76000.0          0"
            ]
          },
          "metadata": {
            "tags": []
          },
          "execution_count": 3
        }
      ]
    },
    {
      "cell_type": "code",
      "metadata": {
        "id": "-w0SZlN4upM1"
      },
      "source": [
        "df.drop(['User ID'], axis=1, inplace=True)"
      ],
      "execution_count": 5,
      "outputs": []
    },
    {
      "cell_type": "code",
      "metadata": {
        "colab": {
          "base_uri": "https://localhost:8080/",
          "height": 204
        },
        "id": "UcY9Mty7u37L",
        "outputId": "ae31cc0d-34fc-4ea4-ae1f-4f03b0565e19"
      },
      "source": [
        "df.head()"
      ],
      "execution_count": 6,
      "outputs": [
        {
          "output_type": "execute_result",
          "data": {
            "text/html": [
              "<div>\n",
              "<style scoped>\n",
              "    .dataframe tbody tr th:only-of-type {\n",
              "        vertical-align: middle;\n",
              "    }\n",
              "\n",
              "    .dataframe tbody tr th {\n",
              "        vertical-align: top;\n",
              "    }\n",
              "\n",
              "    .dataframe thead th {\n",
              "        text-align: right;\n",
              "    }\n",
              "</style>\n",
              "<table border=\"1\" class=\"dataframe\">\n",
              "  <thead>\n",
              "    <tr style=\"text-align: right;\">\n",
              "      <th></th>\n",
              "      <th>Gender</th>\n",
              "      <th>Age</th>\n",
              "      <th>EstimatedSalary</th>\n",
              "      <th>Purchased</th>\n",
              "    </tr>\n",
              "  </thead>\n",
              "  <tbody>\n",
              "    <tr>\n",
              "      <th>0</th>\n",
              "      <td>Male</td>\n",
              "      <td>19.0</td>\n",
              "      <td>19000.0</td>\n",
              "      <td>0</td>\n",
              "    </tr>\n",
              "    <tr>\n",
              "      <th>1</th>\n",
              "      <td>Male</td>\n",
              "      <td>35.0</td>\n",
              "      <td>20000.0</td>\n",
              "      <td>0</td>\n",
              "    </tr>\n",
              "    <tr>\n",
              "      <th>2</th>\n",
              "      <td>Female</td>\n",
              "      <td>26.0</td>\n",
              "      <td>43000.0</td>\n",
              "      <td>0</td>\n",
              "    </tr>\n",
              "    <tr>\n",
              "      <th>3</th>\n",
              "      <td>Female</td>\n",
              "      <td>27.0</td>\n",
              "      <td>57000.0</td>\n",
              "      <td>0</td>\n",
              "    </tr>\n",
              "    <tr>\n",
              "      <th>4</th>\n",
              "      <td>Male</td>\n",
              "      <td>19.0</td>\n",
              "      <td>76000.0</td>\n",
              "      <td>0</td>\n",
              "    </tr>\n",
              "  </tbody>\n",
              "</table>\n",
              "</div>"
            ],
            "text/plain": [
              "   Gender   Age  EstimatedSalary  Purchased\n",
              "0    Male  19.0          19000.0          0\n",
              "1    Male  35.0          20000.0          0\n",
              "2  Female  26.0          43000.0          0\n",
              "3  Female  27.0          57000.0          0\n",
              "4    Male  19.0          76000.0          0"
            ]
          },
          "metadata": {
            "tags": []
          },
          "execution_count": 6
        }
      ]
    },
    {
      "cell_type": "code",
      "metadata": {
        "colab": {
          "base_uri": "https://localhost:8080/"
        },
        "id": "U0IAH156vL5v",
        "outputId": "13e2be30-06da-4e8c-a5f1-934bf9c91dcd"
      },
      "source": [
        "df.shape"
      ],
      "execution_count": 7,
      "outputs": [
        {
          "output_type": "execute_result",
          "data": {
            "text/plain": [
              "(400, 4)"
            ]
          },
          "metadata": {
            "tags": []
          },
          "execution_count": 7
        }
      ]
    },
    {
      "cell_type": "code",
      "metadata": {
        "colab": {
          "base_uri": "https://localhost:8080/"
        },
        "id": "usIQ8DXFvPF1",
        "outputId": "27ccc86b-b8d6-4c93-cebb-6dfc7522fda0"
      },
      "source": [
        "df.isnull().sum()"
      ],
      "execution_count": 8,
      "outputs": [
        {
          "output_type": "execute_result",
          "data": {
            "text/plain": [
              "Gender             0\n",
              "Age                0\n",
              "EstimatedSalary    0\n",
              "Purchased          0\n",
              "dtype: int64"
            ]
          },
          "metadata": {
            "tags": []
          },
          "execution_count": 8
        }
      ]
    },
    {
      "cell_type": "code",
      "metadata": {
        "colab": {
          "base_uri": "https://localhost:8080/"
        },
        "id": "pl53nOWOvRIg",
        "outputId": "2831733c-be75-4058-8316-b93332943108"
      },
      "source": [
        "df.dtypes"
      ],
      "execution_count": 9,
      "outputs": [
        {
          "output_type": "execute_result",
          "data": {
            "text/plain": [
              "Gender              object\n",
              "Age                float64\n",
              "EstimatedSalary    float64\n",
              "Purchased            int64\n",
              "dtype: object"
            ]
          },
          "metadata": {
            "tags": []
          },
          "execution_count": 9
        }
      ]
    },
    {
      "cell_type": "code",
      "metadata": {
        "id": "fkqjyCgCvSrI"
      },
      "source": [
        "X=df.iloc[:,:-1]\n",
        "Y=df.iloc[:,-1:]\n",
        "X=pd.DataFrame(X)\n",
        "Y=pd.DataFrame(Y)"
      ],
      "execution_count": 10,
      "outputs": []
    },
    {
      "cell_type": "code",
      "metadata": {
        "colab": {
          "base_uri": "https://localhost:8080/",
          "height": 419
        },
        "id": "7DgE2RzgvYOH",
        "outputId": "50032ca3-05d5-41f8-9a6f-c1a06c0c982e"
      },
      "source": [
        "X"
      ],
      "execution_count": 11,
      "outputs": [
        {
          "output_type": "execute_result",
          "data": {
            "text/html": [
              "<div>\n",
              "<style scoped>\n",
              "    .dataframe tbody tr th:only-of-type {\n",
              "        vertical-align: middle;\n",
              "    }\n",
              "\n",
              "    .dataframe tbody tr th {\n",
              "        vertical-align: top;\n",
              "    }\n",
              "\n",
              "    .dataframe thead th {\n",
              "        text-align: right;\n",
              "    }\n",
              "</style>\n",
              "<table border=\"1\" class=\"dataframe\">\n",
              "  <thead>\n",
              "    <tr style=\"text-align: right;\">\n",
              "      <th></th>\n",
              "      <th>Gender</th>\n",
              "      <th>Age</th>\n",
              "      <th>EstimatedSalary</th>\n",
              "    </tr>\n",
              "  </thead>\n",
              "  <tbody>\n",
              "    <tr>\n",
              "      <th>0</th>\n",
              "      <td>Male</td>\n",
              "      <td>19.0</td>\n",
              "      <td>19000.0</td>\n",
              "    </tr>\n",
              "    <tr>\n",
              "      <th>1</th>\n",
              "      <td>Male</td>\n",
              "      <td>35.0</td>\n",
              "      <td>20000.0</td>\n",
              "    </tr>\n",
              "    <tr>\n",
              "      <th>2</th>\n",
              "      <td>Female</td>\n",
              "      <td>26.0</td>\n",
              "      <td>43000.0</td>\n",
              "    </tr>\n",
              "    <tr>\n",
              "      <th>3</th>\n",
              "      <td>Female</td>\n",
              "      <td>27.0</td>\n",
              "      <td>57000.0</td>\n",
              "    </tr>\n",
              "    <tr>\n",
              "      <th>4</th>\n",
              "      <td>Male</td>\n",
              "      <td>19.0</td>\n",
              "      <td>76000.0</td>\n",
              "    </tr>\n",
              "    <tr>\n",
              "      <th>...</th>\n",
              "      <td>...</td>\n",
              "      <td>...</td>\n",
              "      <td>...</td>\n",
              "    </tr>\n",
              "    <tr>\n",
              "      <th>395</th>\n",
              "      <td>Female</td>\n",
              "      <td>46.0</td>\n",
              "      <td>41000.0</td>\n",
              "    </tr>\n",
              "    <tr>\n",
              "      <th>396</th>\n",
              "      <td>Male</td>\n",
              "      <td>51.0</td>\n",
              "      <td>23000.0</td>\n",
              "    </tr>\n",
              "    <tr>\n",
              "      <th>397</th>\n",
              "      <td>Female</td>\n",
              "      <td>50.0</td>\n",
              "      <td>20000.0</td>\n",
              "    </tr>\n",
              "    <tr>\n",
              "      <th>398</th>\n",
              "      <td>Male</td>\n",
              "      <td>36.0</td>\n",
              "      <td>33000.0</td>\n",
              "    </tr>\n",
              "    <tr>\n",
              "      <th>399</th>\n",
              "      <td>Female</td>\n",
              "      <td>49.0</td>\n",
              "      <td>36000.0</td>\n",
              "    </tr>\n",
              "  </tbody>\n",
              "</table>\n",
              "<p>400 rows × 3 columns</p>\n",
              "</div>"
            ],
            "text/plain": [
              "     Gender   Age  EstimatedSalary\n",
              "0      Male  19.0          19000.0\n",
              "1      Male  35.0          20000.0\n",
              "2    Female  26.0          43000.0\n",
              "3    Female  27.0          57000.0\n",
              "4      Male  19.0          76000.0\n",
              "..      ...   ...              ...\n",
              "395  Female  46.0          41000.0\n",
              "396    Male  51.0          23000.0\n",
              "397  Female  50.0          20000.0\n",
              "398    Male  36.0          33000.0\n",
              "399  Female  49.0          36000.0\n",
              "\n",
              "[400 rows x 3 columns]"
            ]
          },
          "metadata": {
            "tags": []
          },
          "execution_count": 11
        }
      ]
    },
    {
      "cell_type": "code",
      "metadata": {
        "id": "GvvtqGAMw3oi"
      },
      "source": [
        "X=pd.get_dummies(X,drop_first=True)"
      ],
      "execution_count": 16,
      "outputs": []
    },
    {
      "cell_type": "code",
      "metadata": {
        "colab": {
          "base_uri": "https://localhost:8080/",
          "height": 419
        },
        "id": "P7zKuqK-w73e",
        "outputId": "e922afa0-e86b-41ac-b1bd-16e1ebaa2ecc"
      },
      "source": [
        "X"
      ],
      "execution_count": 17,
      "outputs": [
        {
          "output_type": "execute_result",
          "data": {
            "text/html": [
              "<div>\n",
              "<style scoped>\n",
              "    .dataframe tbody tr th:only-of-type {\n",
              "        vertical-align: middle;\n",
              "    }\n",
              "\n",
              "    .dataframe tbody tr th {\n",
              "        vertical-align: top;\n",
              "    }\n",
              "\n",
              "    .dataframe thead th {\n",
              "        text-align: right;\n",
              "    }\n",
              "</style>\n",
              "<table border=\"1\" class=\"dataframe\">\n",
              "  <thead>\n",
              "    <tr style=\"text-align: right;\">\n",
              "      <th></th>\n",
              "      <th>Age</th>\n",
              "      <th>EstimatedSalary</th>\n",
              "      <th>Gender_Male</th>\n",
              "    </tr>\n",
              "  </thead>\n",
              "  <tbody>\n",
              "    <tr>\n",
              "      <th>0</th>\n",
              "      <td>19.0</td>\n",
              "      <td>19000.0</td>\n",
              "      <td>1</td>\n",
              "    </tr>\n",
              "    <tr>\n",
              "      <th>1</th>\n",
              "      <td>35.0</td>\n",
              "      <td>20000.0</td>\n",
              "      <td>1</td>\n",
              "    </tr>\n",
              "    <tr>\n",
              "      <th>2</th>\n",
              "      <td>26.0</td>\n",
              "      <td>43000.0</td>\n",
              "      <td>0</td>\n",
              "    </tr>\n",
              "    <tr>\n",
              "      <th>3</th>\n",
              "      <td>27.0</td>\n",
              "      <td>57000.0</td>\n",
              "      <td>0</td>\n",
              "    </tr>\n",
              "    <tr>\n",
              "      <th>4</th>\n",
              "      <td>19.0</td>\n",
              "      <td>76000.0</td>\n",
              "      <td>1</td>\n",
              "    </tr>\n",
              "    <tr>\n",
              "      <th>...</th>\n",
              "      <td>...</td>\n",
              "      <td>...</td>\n",
              "      <td>...</td>\n",
              "    </tr>\n",
              "    <tr>\n",
              "      <th>395</th>\n",
              "      <td>46.0</td>\n",
              "      <td>41000.0</td>\n",
              "      <td>0</td>\n",
              "    </tr>\n",
              "    <tr>\n",
              "      <th>396</th>\n",
              "      <td>51.0</td>\n",
              "      <td>23000.0</td>\n",
              "      <td>1</td>\n",
              "    </tr>\n",
              "    <tr>\n",
              "      <th>397</th>\n",
              "      <td>50.0</td>\n",
              "      <td>20000.0</td>\n",
              "      <td>0</td>\n",
              "    </tr>\n",
              "    <tr>\n",
              "      <th>398</th>\n",
              "      <td>36.0</td>\n",
              "      <td>33000.0</td>\n",
              "      <td>1</td>\n",
              "    </tr>\n",
              "    <tr>\n",
              "      <th>399</th>\n",
              "      <td>49.0</td>\n",
              "      <td>36000.0</td>\n",
              "      <td>0</td>\n",
              "    </tr>\n",
              "  </tbody>\n",
              "</table>\n",
              "<p>400 rows × 3 columns</p>\n",
              "</div>"
            ],
            "text/plain": [
              "      Age  EstimatedSalary  Gender_Male\n",
              "0    19.0          19000.0            1\n",
              "1    35.0          20000.0            1\n",
              "2    26.0          43000.0            0\n",
              "3    27.0          57000.0            0\n",
              "4    19.0          76000.0            1\n",
              "..    ...              ...          ...\n",
              "395  46.0          41000.0            0\n",
              "396  51.0          23000.0            1\n",
              "397  50.0          20000.0            0\n",
              "398  36.0          33000.0            1\n",
              "399  49.0          36000.0            0\n",
              "\n",
              "[400 rows x 3 columns]"
            ]
          },
          "metadata": {
            "tags": []
          },
          "execution_count": 17
        }
      ]
    },
    {
      "cell_type": "code",
      "metadata": {
        "colab": {
          "base_uri": "https://localhost:8080/",
          "height": 419
        },
        "id": "govKUEdVvZMo",
        "outputId": "af04803d-9973-4fe8-e4ea-7f70dc0577db"
      },
      "source": [
        "Y"
      ],
      "execution_count": 12,
      "outputs": [
        {
          "output_type": "execute_result",
          "data": {
            "text/html": [
              "<div>\n",
              "<style scoped>\n",
              "    .dataframe tbody tr th:only-of-type {\n",
              "        vertical-align: middle;\n",
              "    }\n",
              "\n",
              "    .dataframe tbody tr th {\n",
              "        vertical-align: top;\n",
              "    }\n",
              "\n",
              "    .dataframe thead th {\n",
              "        text-align: right;\n",
              "    }\n",
              "</style>\n",
              "<table border=\"1\" class=\"dataframe\">\n",
              "  <thead>\n",
              "    <tr style=\"text-align: right;\">\n",
              "      <th></th>\n",
              "      <th>Purchased</th>\n",
              "    </tr>\n",
              "  </thead>\n",
              "  <tbody>\n",
              "    <tr>\n",
              "      <th>0</th>\n",
              "      <td>0</td>\n",
              "    </tr>\n",
              "    <tr>\n",
              "      <th>1</th>\n",
              "      <td>0</td>\n",
              "    </tr>\n",
              "    <tr>\n",
              "      <th>2</th>\n",
              "      <td>0</td>\n",
              "    </tr>\n",
              "    <tr>\n",
              "      <th>3</th>\n",
              "      <td>0</td>\n",
              "    </tr>\n",
              "    <tr>\n",
              "      <th>4</th>\n",
              "      <td>0</td>\n",
              "    </tr>\n",
              "    <tr>\n",
              "      <th>...</th>\n",
              "      <td>...</td>\n",
              "    </tr>\n",
              "    <tr>\n",
              "      <th>395</th>\n",
              "      <td>1</td>\n",
              "    </tr>\n",
              "    <tr>\n",
              "      <th>396</th>\n",
              "      <td>1</td>\n",
              "    </tr>\n",
              "    <tr>\n",
              "      <th>397</th>\n",
              "      <td>1</td>\n",
              "    </tr>\n",
              "    <tr>\n",
              "      <th>398</th>\n",
              "      <td>0</td>\n",
              "    </tr>\n",
              "    <tr>\n",
              "      <th>399</th>\n",
              "      <td>1</td>\n",
              "    </tr>\n",
              "  </tbody>\n",
              "</table>\n",
              "<p>400 rows × 1 columns</p>\n",
              "</div>"
            ],
            "text/plain": [
              "     Purchased\n",
              "0            0\n",
              "1            0\n",
              "2            0\n",
              "3            0\n",
              "4            0\n",
              "..         ...\n",
              "395          1\n",
              "396          1\n",
              "397          1\n",
              "398          0\n",
              "399          1\n",
              "\n",
              "[400 rows x 1 columns]"
            ]
          },
          "metadata": {
            "tags": []
          },
          "execution_count": 12
        }
      ]
    },
    {
      "cell_type": "code",
      "metadata": {
        "id": "W9pp2VurvZ8H"
      },
      "source": [
        "from sklearn.model_selection import train_test_split\n",
        "X_train, X_test, Y_train, Y_test = train_test_split(X, Y, test_size=0.3, random_state=0)"
      ],
      "execution_count": 18,
      "outputs": []
    },
    {
      "cell_type": "code",
      "metadata": {
        "colab": {
          "base_uri": "https://localhost:8080/"
        },
        "id": "En6OPWxXvdUB",
        "outputId": "9b2b49a1-6f89-43b6-d2ce-1a00950494cc"
      },
      "source": [
        "print(X_train.shape)\n",
        "print(Y_train.shape)\n",
        "print(X_test.shape)\n",
        "print(Y_test.shape)"
      ],
      "execution_count": 19,
      "outputs": [
        {
          "output_type": "stream",
          "text": [
            "(280, 3)\n",
            "(280, 1)\n",
            "(120, 3)\n",
            "(120, 1)\n"
          ],
          "name": "stdout"
        }
      ]
    },
    {
      "cell_type": "code",
      "metadata": {
        "id": "S61OxbPnvfZm"
      },
      "source": [
        "from sklearn.preprocessing import StandardScaler\n",
        "sc_X=StandardScaler()\n",
        "X_train=sc_X.fit_transform(X_train)\n",
        "X_test=sc_X.transform(X_test)"
      ],
      "execution_count": 20,
      "outputs": []
    },
    {
      "cell_type": "code",
      "metadata": {
        "id": "EtgCP2_zv71m"
      },
      "source": [
        "from sklearn.decomposition import KernelPCA\n",
        "kpca = KernelPCA(n_components = 2, kernel='rbf')\n",
        "X_train = kpca.fit_transform(X_train)\n",
        "X_test = kpca.transform(X_test)"
      ],
      "execution_count": 21,
      "outputs": []
    },
    {
      "cell_type": "code",
      "metadata": {
        "colab": {
          "base_uri": "https://localhost:8080/"
        },
        "id": "oaIfhVbPx4pa",
        "outputId": "188da540-6833-43d6-8b89-a304aa51cc7b"
      },
      "source": [
        "X_train"
      ],
      "execution_count": 22,
      "outputs": [
        {
          "output_type": "execute_result",
          "data": {
            "text/plain": [
              "array([[ 2.36897469e-01, -3.26520366e-01],\n",
              "       [ 3.61903513e-02,  3.65358678e-01],\n",
              "       [-4.29737512e-01,  3.40053150e-01],\n",
              "       [ 3.49405468e-01,  3.16465169e-01],\n",
              "       [-5.01320861e-01, -4.01135207e-02],\n",
              "       [ 5.94761072e-01, -1.71421284e-01],\n",
              "       [ 3.61428340e-01,  1.71175982e-01],\n",
              "       [-2.98099461e-01,  5.96512712e-01],\n",
              "       [-4.25020453e-01,  3.47549877e-01],\n",
              "       [ 5.49068992e-02,  2.11039114e-01],\n",
              "       [-3.02632059e-01, -4.67602085e-01],\n",
              "       [ 8.15585629e-02,  2.70250088e-01],\n",
              "       [ 2.26586520e-01, -3.38669719e-01],\n",
              "       [ 4.30960244e-02,  3.59555000e-01],\n",
              "       [-4.50858475e-01,  4.72205388e-01],\n",
              "       [ 4.87798544e-01, -3.31731808e-01],\n",
              "       [ 4.47503526e-01,  2.29633705e-01],\n",
              "       [ 4.20072594e-01, -1.08464879e-01],\n",
              "       [ 5.55191128e-01,  1.23975941e-01],\n",
              "       [ 3.42828006e-01,  5.00263990e-02],\n",
              "       [-5.33146866e-01, -3.17772332e-01],\n",
              "       [-3.24899069e-01, -3.30777466e-01],\n",
              "       [ 5.38942862e-01, -1.77305338e-01],\n",
              "       [ 5.10574291e-01,  2.10161882e-01],\n",
              "       [-5.43097179e-01, -2.09507415e-01],\n",
              "       [-2.32869291e-01,  3.26163116e-01],\n",
              "       [ 5.70946664e-01,  8.28793867e-02],\n",
              "       [-2.34262528e-01,  5.41059972e-01],\n",
              "       [ 4.29392538e-01,  3.09236630e-01],\n",
              "       [ 5.78463366e-01, -5.71650364e-02],\n",
              "       [ 5.75327358e-01, -1.10208112e-01],\n",
              "       [-5.44007395e-01, -1.34782306e-01],\n",
              "       [-5.42097264e-01, -5.75113168e-02],\n",
              "       [ 5.96476481e-01, -5.57475639e-02],\n",
              "       [-2.33135153e-01,  5.09628393e-01],\n",
              "       [-3.24899069e-01, -3.30777466e-01],\n",
              "       [ 1.49198995e-01,  3.70624577e-01],\n",
              "       [ 5.50042664e-01,  1.11822452e-01],\n",
              "       [ 4.13690680e-01, -2.08973651e-01],\n",
              "       [ 1.95978008e-01,  4.34470161e-01],\n",
              "       [ 5.96826236e-01, -1.59233076e-01],\n",
              "       [-3.61114970e-01, -4.54867339e-01],\n",
              "       [-4.43957148e-01, -5.76143482e-01],\n",
              "       [ 4.88574851e-01,  2.27140487e-01],\n",
              "       [-4.43135225e-01, -3.22799000e-01],\n",
              "       [ 3.94057392e-01, -1.14685106e-01],\n",
              "       [ 5.27690852e-01, -1.08406835e-01],\n",
              "       [ 1.92697234e-01,  1.35616828e-01],\n",
              "       [-3.59529133e-01,  1.62894875e-01],\n",
              "       [ 3.62506606e-01, -1.60592614e-01],\n",
              "       [-5.43506866e-01, -2.19853152e-01],\n",
              "       [ 5.94169476e-01, -2.92780940e-02],\n",
              "       [ 5.15155302e-01, -2.47020838e-01],\n",
              "       [ 2.86958007e-01,  9.47644231e-02],\n",
              "       [-2.50952787e-01,  3.69434286e-01],\n",
              "       [-2.82392955e-01,  5.83850993e-01],\n",
              "       [ 3.90712867e-01, -1.60089294e-01],\n",
              "       [ 3.91278383e-01, -2.23914966e-01],\n",
              "       [-2.53774471e-01,  5.73607164e-01],\n",
              "       [ 2.08317287e-01,  1.70436832e-01],\n",
              "       [-5.36961900e-01, -3.17873958e-01],\n",
              "       [-4.01004334e-01,  1.79603593e-01],\n",
              "       [ 3.32151184e-01,  7.61285490e-02],\n",
              "       [ 3.23937131e-01,  1.43568114e-01],\n",
              "       [-5.28381359e-01,  1.44609915e-01],\n",
              "       [-4.26657180e-01,  5.17258152e-01],\n",
              "       [ 3.26443965e-01, -3.06983143e-01],\n",
              "       [-5.14991861e-01, -3.62510135e-01],\n",
              "       [ 1.49026284e-01,  4.07447024e-01],\n",
              "       [-2.71010678e-01,  4.51329299e-01],\n",
              "       [-2.94994925e-01, -4.68990842e-01],\n",
              "       [ 2.74107179e-01,  2.73533499e-01],\n",
              "       [-5.02581014e-01,  2.88445197e-01],\n",
              "       [-3.65970456e-01,  7.48779563e-02],\n",
              "       [-4.16206491e-01, -5.88081342e-01],\n",
              "       [ 5.48162488e-01,  1.32998610e-01],\n",
              "       [ 4.60637072e-01,  2.01112881e-01],\n",
              "       [-2.44324738e-01,  3.11533918e-01],\n",
              "       [-4.83128262e-01,  2.90414921e-01],\n",
              "       [ 4.94315349e-01,  7.56129829e-02],\n",
              "       [-4.76015969e-01, -5.24712855e-01],\n",
              "       [ 5.74821617e-01, -6.86114897e-03],\n",
              "       [-3.79058606e-02,  3.06139987e-01],\n",
              "       [-2.37050273e-01,  2.48345139e-01],\n",
              "       [-3.33920055e-01,  2.35555795e-01],\n",
              "       [-3.86704673e-01,  5.83912706e-01],\n",
              "       [-2.29956868e-01,  5.40944291e-01],\n",
              "       [ 4.28721793e-01, -2.48696251e-01],\n",
              "       [-2.70042376e-01,  5.39645122e-01],\n",
              "       [-4.46964503e-01,  5.11029909e-02],\n",
              "       [-3.78794198e-01, -3.51181271e-01],\n",
              "       [ 3.05171791e-01,  7.07679293e-02],\n",
              "       [ 5.50042664e-01,  1.11822452e-01],\n",
              "       [-4.56361958e-01, -2.88203361e-01],\n",
              "       [ 5.94551897e-01, -6.79567715e-02],\n",
              "       [-4.25579804e-01, -3.17035675e-01],\n",
              "       [-3.88817914e-01, -5.32311585e-01],\n",
              "       [-5.47446900e-01, -1.32344922e-01],\n",
              "       [-3.77100520e-01, -5.37797136e-01],\n",
              "       [-3.75347664e-01,  1.21604045e-01],\n",
              "       [ 2.75521135e-01,  1.50007815e-01],\n",
              "       [-5.44612435e-01, -1.42886530e-01],\n",
              "       [-3.19883707e-01, -4.81339403e-01],\n",
              "       [ 3.37428655e-01,  8.08977290e-02],\n",
              "       [ 3.98215182e-02,  4.02029297e-01],\n",
              "       [-3.11949912e-01, -4.82697840e-01],\n",
              "       [-4.85090323e-01,  8.19273106e-02],\n",
              "       [-5.33574071e-01, -1.43732108e-01],\n",
              "       [-3.35183794e-01, -5.37196201e-01],\n",
              "       [ 3.36355016e-01, -2.91547301e-01],\n",
              "       [ 3.87450109e-01,  3.54281188e-01],\n",
              "       [ 5.93291709e-01, -1.77237108e-01],\n",
              "       [ 1.83055758e-01,  3.35354871e-01],\n",
              "       [ 3.51690708e-01,  1.22755335e-01],\n",
              "       [-5.40011188e-01,  1.74614464e-02],\n",
              "       [ 4.07811930e-01,  6.77722715e-02],\n",
              "       [-2.54738554e-01, -4.23483713e-01],\n",
              "       [ 3.49167329e-01, -1.36247551e-01],\n",
              "       [ 5.14299321e-01,  5.08769193e-02],\n",
              "       [ 3.80322263e-01, -3.79916718e-01],\n",
              "       [-2.93610657e-01,  1.35285801e-01],\n",
              "       [ 5.77749656e-01,  4.62050361e-03],\n",
              "       [-3.79486519e-01,  2.16762225e-01],\n",
              "       [ 5.87157862e-01, -8.09975673e-02],\n",
              "       [-2.86826100e-01,  4.78901688e-01],\n",
              "       [-3.84814392e-01,  4.53025253e-02],\n",
              "       [-5.44292907e-01, -3.94262701e-02],\n",
              "       [ 2.65480882e-01, -2.45453952e-01],\n",
              "       [ 4.98591969e-01, -2.09959881e-01],\n",
              "       [ 5.33012160e-01, -1.60976762e-01],\n",
              "       [ 2.99390853e-01,  9.89838942e-02],\n",
              "       [ 5.79525738e-01,  1.66235947e-02],\n",
              "       [ 3.22479379e-01,  1.98926899e-01],\n",
              "       [-5.39065507e-01,  9.68543509e-03],\n",
              "       [-5.25924280e-01,  1.38519415e-01],\n",
              "       [-4.29391337e-01,  1.37916127e-01],\n",
              "       [-5.42702246e-01,  1.30210763e-03],\n",
              "       [ 1.58163850e-01, -2.99680514e-01],\n",
              "       [-5.39156019e-01, -3.49747827e-02],\n",
              "       [ 5.99229932e-01, -1.32223040e-01],\n",
              "       [ 5.49938895e-01,  3.12580844e-03],\n",
              "       [ 2.16689607e-01,  2.96005274e-01],\n",
              "       [-3.51241151e-01,  1.03880953e-01],\n",
              "       [-3.54933195e-01,  3.61348976e-01],\n",
              "       [-2.75436316e-01,  5.95147543e-01],\n",
              "       [-4.59890049e-01, -5.46710607e-01],\n",
              "       [ 5.88286878e-01,  1.29628741e-02],\n",
              "       [-5.36975976e-01, -1.28596065e-01],\n",
              "       [-3.11053161e-01, -5.13390994e-01],\n",
              "       [-5.27564438e-01, -3.94679282e-01],\n",
              "       [ 3.92430616e-01,  3.23792533e-01],\n",
              "       [-2.18665928e-01,  2.42065676e-01],\n",
              "       [ 2.54975546e-01,  3.70117519e-01],\n",
              "       [-3.73437930e-01,  1.83442213e-01],\n",
              "       [ 2.30360089e-01,  3.66358831e-01],\n",
              "       [ 5.01294747e-01, -1.49405416e-01],\n",
              "       [-2.76874333e-01,  5.26868599e-01],\n",
              "       [-4.37757024e-01, -5.73168125e-01],\n",
              "       [ 4.53582842e-01,  2.86169249e-01],\n",
              "       [ 3.76758111e-01, -3.64633616e-01],\n",
              "       [ 5.59536280e-01,  1.11337737e-01],\n",
              "       [-4.11680084e-01, -4.50254161e-01],\n",
              "       [-2.96205783e-01,  5.49705099e-01],\n",
              "       [ 1.85181389e-01, -3.16735861e-01],\n",
              "       [-5.08703055e-01, -4.46131856e-01],\n",
              "       [-3.26020328e-01,  5.45046272e-01],\n",
              "       [-3.53902044e-01, -5.59290082e-01],\n",
              "       [-3.38764336e-01,  2.86962114e-02],\n",
              "       [ 5.87163779e-01, -1.93510084e-01],\n",
              "       [-3.24388555e-01,  5.89797745e-01],\n",
              "       [-3.55607754e-01,  6.08561229e-01],\n",
              "       [ 5.81675474e-01, -2.03334507e-01],\n",
              "       [ 8.53046352e-02,  3.22181818e-01],\n",
              "       [-3.98461384e-01, -4.90653893e-01],\n",
              "       [-3.04608886e-01,  4.16251267e-01],\n",
              "       [ 5.48234780e-01, -2.86873374e-01],\n",
              "       [-4.73743082e-01, -4.69997611e-01],\n",
              "       [-3.46747005e-01, -4.50918756e-03],\n",
              "       [ 2.92370570e-01, -3.06500419e-01],\n",
              "       [ 1.35997914e-01, -2.78564076e-01],\n",
              "       [ 3.64448343e-01,  3.40266097e-01],\n",
              "       [ 2.31253948e-01,  3.46059855e-01],\n",
              "       [ 5.84538489e-01, -7.31413641e-02],\n",
              "       [ 5.81220398e-01,  4.80060948e-02],\n",
              "       [ 2.48548144e-01, -3.55154645e-01],\n",
              "       [-5.34218593e-01,  6.40339698e-02],\n",
              "       [-4.72743037e-01, -2.79744335e-01],\n",
              "       [-2.71941152e-01,  2.22552316e-01],\n",
              "       [-4.92619118e-01, -3.95071384e-01],\n",
              "       [ 5.80695992e-01,  8.88327447e-03],\n",
              "       [-4.64119052e-01, -5.58957583e-01],\n",
              "       [-5.16032194e-01, -3.91668429e-01],\n",
              "       [ 5.39834313e-01,  4.86580154e-02],\n",
              "       [ 1.29125464e-01,  2.10230815e-01],\n",
              "       [-3.28005814e-01,  6.15574475e-01],\n",
              "       [-3.54293271e-01,  1.82451360e-01],\n",
              "       [-1.43004587e-04,  3.72343841e-01],\n",
              "       [ 5.12600056e-01, -3.07463973e-01],\n",
              "       [ 4.56732710e-01, -7.11524467e-02],\n",
              "       [ 2.43162686e-01, -3.31499650e-01],\n",
              "       [ 4.46298190e-01, -3.02195590e-01],\n",
              "       [-5.34218593e-01,  6.40339698e-02],\n",
              "       [ 4.77295553e-01, -2.22801463e-01],\n",
              "       [-2.62933607e-01,  5.83155749e-01],\n",
              "       [-3.09860540e-01,  6.03536568e-01],\n",
              "       [-5.34270116e-01,  5.44314160e-02],\n",
              "       [-5.03348439e-01, -4.67903992e-01],\n",
              "       [ 5.89633510e-01, -1.42463971e-02],\n",
              "       [-5.29101207e-01, -1.67224487e-02],\n",
              "       [-2.66175515e-01,  3.32379656e-01],\n",
              "       [-3.58898766e-01,  1.18796166e-01],\n",
              "       [ 2.54714099e-01, -3.39398455e-01],\n",
              "       [ 5.83954982e-01,  1.10619618e-03],\n",
              "       [ 5.64636963e-01,  4.06195217e-02],\n",
              "       [ 3.09076969e-01,  4.00971587e-01],\n",
              "       [ 4.64484381e-01, -1.93512049e-01],\n",
              "       [-3.69907410e-01,  4.95711861e-01],\n",
              "       [ 5.74821617e-01, -6.86114897e-03],\n",
              "       [ 6.98201435e-02,  2.48273607e-01],\n",
              "       [ 3.59244285e-01,  1.99614869e-01],\n",
              "       [ 2.95489980e-01, -2.65626166e-01],\n",
              "       [ 5.88286878e-01,  1.29628741e-02],\n",
              "       [ 3.65902301e-01,  2.88213733e-01],\n",
              "       [-5.33939799e-01, -2.51638013e-01],\n",
              "       [-4.46279830e-01, -4.42555678e-01],\n",
              "       [-3.88811465e-01, -3.71184773e-01],\n",
              "       [-3.16200109e-01,  5.97900213e-01],\n",
              "       [ 3.07384524e-01, -3.15433795e-01],\n",
              "       [ 1.41599620e-01,  3.56762092e-01],\n",
              "       [ 4.60872512e-01, -3.72020671e-01],\n",
              "       [ 5.23307199e-01, -2.95234718e-01],\n",
              "       [ 5.08782281e-01, -2.48400597e-01],\n",
              "       [ 5.22475584e-01, -2.72237282e-02],\n",
              "       [-5.34218593e-01,  6.40339698e-02],\n",
              "       [-3.23763464e-01,  4.62134072e-01],\n",
              "       [-2.37596854e-01,  1.82596532e-01],\n",
              "       [-2.60397994e-01, -4.30706962e-01],\n",
              "       [ 3.39637642e-01, -3.87281063e-01],\n",
              "       [ 5.52220338e-01, -2.37560266e-01],\n",
              "       [-5.43815111e-01, -1.93479880e-02],\n",
              "       [ 5.30793877e-01,  1.72474580e-01],\n",
              "       [-4.37965905e-01,  1.53823470e-01],\n",
              "       [-4.14359447e-01, -1.55699837e-01],\n",
              "       [-5.06429560e-01,  1.15355282e-01],\n",
              "       [-2.36342094e-01,  3.24133765e-01],\n",
              "       [ 2.62102165e-01, -3.56160544e-01],\n",
              "       [-4.19166460e-01, -5.72154972e-01],\n",
              "       [-5.27947106e-01, -2.18214845e-01],\n",
              "       [-5.26717113e-01, -3.14647928e-01],\n",
              "       [-3.10368344e-01, -5.08712575e-01],\n",
              "       [-2.95067471e-01,  5.72279189e-01],\n",
              "       [ 5.74821617e-01, -6.86114897e-03],\n",
              "       [-4.41569948e-01,  4.43004965e-01],\n",
              "       [-2.72983014e-01, -4.56126122e-01],\n",
              "       [ 5.79582472e-01,  4.20223410e-02],\n",
              "       [ 2.67987160e-01,  8.91337291e-02],\n",
              "       [-2.82186519e-01, -2.71190442e-01],\n",
              "       [ 5.63082066e-01, -2.43890439e-02],\n",
              "       [-2.53660162e-01,  2.73544801e-01],\n",
              "       [-5.38415228e-01, -2.49888262e-01],\n",
              "       [-3.77465092e-01,  1.66873318e-01],\n",
              "       [-3.84370514e-01, -5.61843113e-01],\n",
              "       [ 2.42408499e-01, -2.55223150e-01],\n",
              "       [-5.38615275e-01,  4.39753997e-02],\n",
              "       [ 4.10305531e-01, -2.00971616e-01],\n",
              "       [ 3.88275305e-01, -2.16219168e-01],\n",
              "       [-4.53823513e-01, -2.76381633e-01],\n",
              "       [ 1.79310924e-01,  2.62105125e-01],\n",
              "       [-4.12887815e-01,  5.00061881e-01],\n",
              "       [ 3.13807580e-01,  3.97490276e-01],\n",
              "       [-1.59196667e-02,  3.50988211e-01],\n",
              "       [-5.42460061e-01, -2.77222251e-01],\n",
              "       [ 5.39834313e-01,  4.86580154e-02],\n",
              "       [ 5.32469859e-01, -2.68429322e-01],\n",
              "       [ 5.81934519e-01, -1.40979903e-01],\n",
              "       [-3.55390065e-01,  1.06501354e-01],\n",
              "       [ 4.60872512e-01, -3.72020671e-01],\n",
              "       [ 5.81870475e-01, -1.75253068e-01],\n",
              "       [-4.55507740e-01, -5.60789283e-01],\n",
              "       [-3.03516733e-01,  4.77939543e-02]])"
            ]
          },
          "metadata": {
            "tags": []
          },
          "execution_count": 22
        }
      ]
    },
    {
      "cell_type": "code",
      "metadata": {
        "colab": {
          "base_uri": "https://localhost:8080/"
        },
        "id": "U886JgD3x6oJ",
        "outputId": "0584b541-870d-4aa0-b2ca-a99fc8ea6eb3"
      },
      "source": [
        "X_test"
      ],
      "execution_count": 23,
      "outputs": [
        {
          "output_type": "execute_result",
          "data": {
            "text/plain": [
              "array([[ 0.46798478, -0.08866164],\n",
              "       [-0.51374851, -0.24540349],\n",
              "       [ 0.57846337, -0.05716504],\n",
              "       [-0.49394642, -0.30271146],\n",
              "       [-0.51372778, -0.37611449],\n",
              "       [ 0.28521335, -0.34891086],\n",
              "       [-0.3331972 , -0.42523896],\n",
              "       [ 0.0866881 ,  0.30898601],\n",
              "       [-0.30608114, -0.39924726],\n",
              "       [ 0.39446973,  0.15436328],\n",
              "       [ 0.50602474, -0.34423442],\n",
              "       [-0.4705918 , -0.5463408 ],\n",
              "       [ 0.59052384, -0.12607357],\n",
              "       [ 0.56240895,  0.0922221 ],\n",
              "       [ 0.24042852, -0.17129797],\n",
              "       [-0.37343793,  0.18344221],\n",
              "       [ 0.57335923,  0.02459905],\n",
              "       [ 0.21829904, -0.17105225],\n",
              "       [-0.24981571,  0.570329  ],\n",
              "       [ 0.38818464, -0.24048793],\n",
              "       [-0.50379162, -0.38712094],\n",
              "       [-0.2638712 ,  0.55583573],\n",
              "       [-0.50307362, -0.09862497],\n",
              "       [ 0.26056165,  0.42700383],\n",
              "       [-0.32700689, -0.53198982],\n",
              "       [-0.26477711,  0.57280042],\n",
              "       [-0.44841064, -0.25252028],\n",
              "       [ 0.482107  , -0.16878032],\n",
              "       [-0.54249431, -0.21473234],\n",
              "       [-0.49959619, -0.15997479],\n",
              "       [ 0.25925376, -0.16180427],\n",
              "       [ 0.5649624 ,  0.0404762 ],\n",
              "       [ 0.15853547,  0.33353399],\n",
              "       [ 0.58507457, -0.13620353],\n",
              "       [ 0.38124962, -0.3533175 ],\n",
              "       [ 0.20809202, -0.29970507],\n",
              "       [ 0.30592658, -0.21331724],\n",
              "       [-0.48593341, -0.4341794 ],\n",
              "       [-0.43158481, -0.51810171],\n",
              "       [-0.36695872,  0.15525741],\n",
              "       [ 0.40418933, -0.13167533],\n",
              "       [ 0.54993889,  0.00312581],\n",
              "       [-0.44140251, -0.3046168 ],\n",
              "       [ 0.3715945 , -0.23591774],\n",
              "       [-0.42015997,  0.49610969],\n",
              "       [-0.46106271, -0.54132506],\n",
              "       [-0.53915602, -0.03497478],\n",
              "       [-0.37862   ,  0.5337691 ],\n",
              "       [ 0.32837455, -0.38315239],\n",
              "       [ 0.3228856 ,  0.39023803],\n",
              "       [-0.2469332 ,  0.55776255],\n",
              "       [-0.39833563, -0.41008308],\n",
              "       [-0.5316661 , -0.33872046],\n",
              "       [ 0.29711903,  0.21513407],\n",
              "       [-0.26706141,  0.49330707],\n",
              "       [ 0.38168886,  0.06310946],\n",
              "       [-0.47274304, -0.27974433],\n",
              "       [-0.43440222, -0.36134579],\n",
              "       [ 0.27552113,  0.15000782],\n",
              "       [ 0.2135062 , -0.33546777],\n",
              "       [ 0.33635502, -0.2915473 ],\n",
              "       [ 0.08155856,  0.27025009],\n",
              "       [ 0.23600555, -0.22396798],\n",
              "       [ 0.4355009 ,  0.16598523],\n",
              "       [-0.2694993 , -0.44949505],\n",
              "       [ 0.07407616,  0.3574516 ],\n",
              "       [-0.37919064, -0.27592063],\n",
              "       [ 0.46196665, -0.34623498],\n",
              "       [ 0.54372369, -0.05522603],\n",
              "       [-0.52668689,  0.09105816],\n",
              "       [-0.22340498,  0.3054225 ],\n",
              "       [-0.53861154, -0.15504796],\n",
              "       [-0.38091253, -0.5000004 ],\n",
              "       [ 0.31541753,  0.0436151 ],\n",
              "       [ 0.39919881, -0.12318014],\n",
              "       [ 0.20042307, -0.17959078],\n",
              "       [-0.52267967,  0.17808458],\n",
              "       [-0.53077062, -0.08824711],\n",
              "       [-0.30861833,  0.23710239],\n",
              "       [-0.4073768 ,  0.56035193],\n",
              "       [-0.03490655,  0.3151903 ],\n",
              "       [-0.26952499,  0.47710953],\n",
              "       [-0.41106731, -0.55843562],\n",
              "       [-0.38936231, -0.57729436],\n",
              "       [-0.25092094,  0.29582827],\n",
              "       [-0.52151374,  0.18811321],\n",
              "       [-0.53876393,  0.04765038],\n",
              "       [-0.01596573,  0.34150861],\n",
              "       [-0.42138316,  0.0737446 ],\n",
              "       [-0.52460633, -0.04028796],\n",
              "       [ 0.5505065 ,  0.10561151],\n",
              "       [-0.26277258,  0.41247151],\n",
              "       [-0.38398719, -0.56819514],\n",
              "       [ 0.3230377 , -0.38769949],\n",
              "       [ 0.34920683, -0.18997146],\n",
              "       [-0.40482446, -0.16282477],\n",
              "       [ 0.35655904, -0.32693913],\n",
              "       [ 0.32393713,  0.14356811],\n",
              "       [ 0.32893783,  0.39343635],\n",
              "       [ 0.35161728,  0.34693175],\n",
              "       [-0.43431346, -0.01344781],\n",
              "       [ 0.24714535,  0.19612491],\n",
              "       [-0.51374851, -0.24540349],\n",
              "       [-0.28761143,  0.28634196],\n",
              "       [-0.27732345,  0.1773409 ],\n",
              "       [-0.33890918,  0.59392852],\n",
              "       [ 0.52769085, -0.10840684],\n",
              "       [ 0.59647648, -0.05574756],\n",
              "       [-0.51531431, -0.33466606],\n",
              "       [-0.54310837, -0.25148814],\n",
              "       [-0.4000008 , -0.37875096],\n",
              "       [ 0.57141487, -0.2164572 ],\n",
              "       [ 0.53635717,  0.1636007 ],\n",
              "       [-0.4352109 ,  0.14836255],\n",
              "       [-0.22065851,  0.26381341],\n",
              "       [ 0.37820883,  0.29855132],\n",
              "       [-0.3276894 ,  0.57693509],\n",
              "       [-0.48069774, -0.15429884],\n",
              "       [-0.47771902,  0.35898518],\n",
              "       [-0.44061501,  0.15944085]])"
            ]
          },
          "metadata": {
            "tags": []
          },
          "execution_count": 23
        }
      ]
    },
    {
      "cell_type": "code",
      "metadata": {
        "colab": {
          "base_uri": "https://localhost:8080/"
        },
        "id": "Htlpbg2Kx7so",
        "outputId": "7de7f6c6-6e40-43b1-ec97-16f4c530de95"
      },
      "source": [
        "from sklearn.svm import SVC\n",
        "classifier1=SVC(kernel='rbf')\n",
        "classifier1.fit(X_train,Y_train)\n",
        "Y_pred1=classifier1.predict(X_test)"
      ],
      "execution_count": 24,
      "outputs": [
        {
          "output_type": "stream",
          "text": [
            "/usr/local/lib/python3.7/dist-packages/sklearn/utils/validation.py:760: DataConversionWarning: A column-vector y was passed when a 1d array was expected. Please change the shape of y to (n_samples, ), for example using ravel().\n",
            "  y = column_or_1d(y, warn=True)\n"
          ],
          "name": "stderr"
        }
      ]
    },
    {
      "cell_type": "code",
      "metadata": {
        "colab": {
          "base_uri": "https://localhost:8080/"
        },
        "id": "SdpzDWN9x_H5",
        "outputId": "d5bef83f-8059-429e-f714-76e1e19edc5d"
      },
      "source": [
        "from sklearn.metrics import confusion_matrix\n",
        "cn=confusion_matrix(Y_test,Y_pred1) #1 incorrect prediction 5+6=11 "
      ],
      "execution_count": 25,
      "outputs": [
        {
          "output_type": "stream",
          "text": [
            "[[73  6]\n",
            " [ 5 36]]\n"
          ],
          "name": "stdout"
        }
      ]
    },
    {
      "cell_type": "code",
      "metadata": {
        "colab": {
          "base_uri": "https://localhost:8080/"
        },
        "id": "uz2Rb64YyBUn",
        "outputId": "1eb7a8b9-bf0c-410e-a344-1690ed44b3ea"
      },
      "source": [
        "from sklearn.svm import SVC\n",
        "classifier1=SVC(kernel='linear')\n",
        "classifier1.fit(X_train,Y_train)\n",
        "Y_pred1=classifier1.predict(X_test)"
      ],
      "execution_count": 26,
      "outputs": [
        {
          "output_type": "stream",
          "text": [
            "/usr/local/lib/python3.7/dist-packages/sklearn/utils/validation.py:760: DataConversionWarning: A column-vector y was passed when a 1d array was expected. Please change the shape of y to (n_samples, ), for example using ravel().\n",
            "  y = column_or_1d(y, warn=True)\n"
          ],
          "name": "stderr"
        }
      ]
    },
    {
      "cell_type": "code",
      "metadata": {
        "id": "Fi9x_uPByOGS"
      },
      "source": [
        "from sklearn.metrics import confusion_matrix\n",
        "cn=confusion_matrix(Y_test,Y_pred1) #1 incorrect prediction 5+6=11 "
      ],
      "execution_count": 28,
      "outputs": []
    },
    {
      "cell_type": "code",
      "metadata": {
        "colab": {
          "base_uri": "https://localhost:8080/"
        },
        "id": "KvYbQKfjyPyM",
        "outputId": "dda48333-8ab8-412b-b876-2a889031f081"
      },
      "source": [
        "cn"
      ],
      "execution_count": 29,
      "outputs": [
        {
          "output_type": "execute_result",
          "data": {
            "text/plain": [
              "array([[72,  7],\n",
              "       [ 7, 34]])"
            ]
          },
          "metadata": {
            "tags": []
          },
          "execution_count": 29
        }
      ]
    },
    {
      "cell_type": "code",
      "metadata": {
        "colab": {
          "base_uri": "https://localhost:8080/",
          "height": 480
        },
        "id": "YLzlFglIyTZv",
        "outputId": "32823e3b-f039-44f7-aad0-10032e514247"
      },
      "source": [
        "# Visualising the Training set results\n",
        "from matplotlib.colors import ListedColormap\n",
        "X_set, Y_set = X_train, Y_train\n",
        "X1, X2 = np.meshgrid(np.arange(start = X_set[:, 0].min() - 1, stop = X_set[:, 0].max() + 1, step = 0.01),\n",
        "                     np.arange(start = X_set[:, 1].min() - 1, stop = X_set[:, 1].max() + 1, step = 0.01))\n",
        "plt.contourf(X1, X2, classifier1.predict(np.array([X1.ravel(), X2.ravel()]).T).reshape(X1.shape),\n",
        "             alpha = 0.75, cmap = ListedColormap(('red', 'green', 'blue')))\n",
        "plt.xlim(X1.min(), X1.max())\n",
        "plt.ylim(X2.min(), X2.max())\n",
        "for i, j in enumerate(np.unique(Y_set)):\n",
        "    plt.scatter(X_set[Y_set==j,0], X_set[Y_set==j,1],\n",
        "                c = ListedColormap(('red', 'green', 'blue'))(i), label = j)\n",
        "plt.title('Logistic Regression (Training set)')\n",
        "plt.xlabel('PC1')\n",
        "plt.ylabel('PC2')\n",
        "plt.legend()\n",
        "plt.show()"
      ],
      "execution_count": 30,
      "outputs": [
        {
          "output_type": "error",
          "ename": "IndexError",
          "evalue": "ignored",
          "traceback": [
            "\u001b[0;31m---------------------------------------------------------------------------\u001b[0m",
            "\u001b[0;31mIndexError\u001b[0m                                Traceback (most recent call last)",
            "\u001b[0;32m<ipython-input-30-cd36639f3231>\u001b[0m in \u001b[0;36m<module>\u001b[0;34m()\u001b[0m\n\u001b[1;32m      9\u001b[0m \u001b[0mplt\u001b[0m\u001b[0;34m.\u001b[0m\u001b[0mylim\u001b[0m\u001b[0;34m(\u001b[0m\u001b[0mX2\u001b[0m\u001b[0;34m.\u001b[0m\u001b[0mmin\u001b[0m\u001b[0;34m(\u001b[0m\u001b[0;34m)\u001b[0m\u001b[0;34m,\u001b[0m \u001b[0mX2\u001b[0m\u001b[0;34m.\u001b[0m\u001b[0mmax\u001b[0m\u001b[0;34m(\u001b[0m\u001b[0;34m)\u001b[0m\u001b[0;34m)\u001b[0m\u001b[0;34m\u001b[0m\u001b[0;34m\u001b[0m\u001b[0m\n\u001b[1;32m     10\u001b[0m \u001b[0;32mfor\u001b[0m \u001b[0mi\u001b[0m\u001b[0;34m,\u001b[0m \u001b[0mj\u001b[0m \u001b[0;32min\u001b[0m \u001b[0menumerate\u001b[0m\u001b[0;34m(\u001b[0m\u001b[0mnp\u001b[0m\u001b[0;34m.\u001b[0m\u001b[0munique\u001b[0m\u001b[0;34m(\u001b[0m\u001b[0mY_set\u001b[0m\u001b[0;34m)\u001b[0m\u001b[0;34m)\u001b[0m\u001b[0;34m:\u001b[0m\u001b[0;34m\u001b[0m\u001b[0;34m\u001b[0m\u001b[0m\n\u001b[0;32m---> 11\u001b[0;31m     plt.scatter(X_set[Y_set==j,0], X_set[Y_set==j,1],\n\u001b[0m\u001b[1;32m     12\u001b[0m                 c = ListedColormap(('red', 'green', 'blue'))(i), label = j)\n\u001b[1;32m     13\u001b[0m \u001b[0mplt\u001b[0m\u001b[0;34m.\u001b[0m\u001b[0mtitle\u001b[0m\u001b[0;34m(\u001b[0m\u001b[0;34m'Logistic Regression (Training set)'\u001b[0m\u001b[0;34m)\u001b[0m\u001b[0;34m\u001b[0m\u001b[0;34m\u001b[0m\u001b[0m\n",
            "\u001b[0;31mIndexError\u001b[0m: too many indices for array: array is 2-dimensional, but 3 were indexed"
          ]
        },
        {
          "output_type": "display_data",
          "data": {
            "image/png": "[encoded data removed]",
            "text/plain": [
              "<Figure size 432x288 with 1 Axes>"
            ]
          },
          "metadata": {
            "tags": [],
            "needs_background": "light"
          }
        }
      ]
    },
    {
      "cell_type": "code",
      "metadata": {
        "colab": {
          "base_uri": "https://localhost:8080/"
        },
        "id": "eE8Ua_9FydNZ",
        "outputId": "86022091-a561-4c23-b80a-c70c156f2824"
      },
      "source": [
        " from sklearn.metrics import accuracy_score\n",
        " score=accuracy_score(Y_test, Y_pred1)*100\n",
        " print('accuracy=',score,'%')"
      ],
      "execution_count": 31,
      "outputs": [
        {
          "output_type": "stream",
          "text": [
            "accuracy= 88.33333333333333 %\n"
          ],
          "name": "stdout"
        }
      ]
    },
    {
      "cell_type": "code",
      "metadata": {
        "id": "SmopEFMVygk3"
      },
      "source": [
        ""
      ],
      "execution_count": null,
      "outputs": []
    }
  ]
}