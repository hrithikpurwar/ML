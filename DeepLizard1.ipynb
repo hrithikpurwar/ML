{
  "nbformat": 4,
  "nbformat_minor": 0,
  "metadata": {
    "colab": {
      "name": "DeepLizard1.ipynb",
      "provenance": [],
      "collapsed_sections": [],
      "authorship_tag": "ABX9TyNFfMwKw+L0lmBvCh55iA0C",
      "include_colab_link": true
    },
    "kernelspec": {
      "name": "python3",
      "display_name": "Python 3"
    },
    "language_info": {
      "name": "python"
    }
  },
  "cells": [
    {
      "cell_type": "markdown",
      "metadata": {
        "id": "view-in-github",
        "colab_type": "text"
      },
      "source": [
        "<a href=\"https://colab.research.google.com/github/hrithikpurwar/ML/blob/main/DeepLizard1.ipynb\" target=\"_parent\"><img src=\"https://colab.research.google.com/assets/colab-badge.svg\" alt=\"Open In Colab\"/></a>"
      ]
    },
    {
      "cell_type": "code",
      "metadata": {
        "id": "SACtVYw__JUm"
      },
      "source": [
        "import keras\n",
        "from keras.models import Sequential\n",
        "from keras.layers import Activation\n",
        "from keras.layers.core import Dense\n",
        "from tensorflow.keras.optimizers import Adam\n",
        "from keras.metrics import categorical_crossentropy"
      ],
      "execution_count": 3,
      "outputs": []
    },
    {
      "cell_type": "markdown",
      "metadata": {
        "id": "3MS7ejUf_atq"
      },
      "source": [
        "1 node in input, next layer=16 nodes, next layer=32 nodes, output layer = 2 nodes"
      ]
    },
    {
      "cell_type": "code",
      "metadata": {
        "id": "tR6RlO8u_PeE"
      },
      "source": [
        "model = Sequential([\n",
        "    Dense(units=16, input_shape=(1,), activation='relu'),\n",
        "    Dense(units=32, activation='relu'),\n",
        "    Dense(units=2, activation='sigmoid')\n",
        "])"
      ],
      "execution_count": null,
      "outputs": []
    },
    {
      "cell_type": "markdown",
      "metadata": {
        "id": "76TbAWJC_pya"
      },
      "source": [
        "Adam optimizer, with LR=0.001, loss type are many like RMS, categorical etc, metrics set as accuray"
      ]
    },
    {
      "cell_type": "code",
      "metadata": {
        "id": "KDhR7pCb_Yta"
      },
      "source": [
        "model.compile(\n",
        "    optimizer=Adam(learning_rate=0.0001), \n",
        "    loss='sparse_categorical_crossentropy', \n",
        "    metrics=['accuracy']\n",
        ")"
      ],
      "execution_count": null,
      "outputs": []
    },
    {
      "cell_type": "markdown",
      "metadata": {
        "id": "0XswhYBy_-uQ"
      },
      "source": [
        "Model created, now fit to train data\n",
        "scaled X is passed, \n",
        "\n"
      ]
    },
    {
      "cell_type": "code",
      "metadata": {
        "colab": {
          "base_uri": "https://localhost:8080/",
          "height": 232
        },
        "id": "5uGnVDg__2Md",
        "outputId": "66f3fb9c-64cb-48df-fc71-e48edef81bdd"
      },
      "source": [
        "model.fit(\n",
        "    x=scaled_train_samples, \n",
        "    y=train_labels, \n",
        "    batch_size=10, \n",
        "    epochs=20, \n",
        "    shuffle=True, \n",
        "    verbose=2\n",
        ")"
      ],
      "execution_count": null,
      "outputs": [
        {
          "output_type": "error",
          "ename": "NameError",
          "evalue": "ignored",
          "traceback": [
            "\u001b[0;31m---------------------------------------------------------------------------\u001b[0m",
            "\u001b[0;31mNameError\u001b[0m                                 Traceback (most recent call last)",
            "\u001b[0;32m<ipython-input-4-dce0fe2e7a4f>\u001b[0m in \u001b[0;36m<module>\u001b[0;34m()\u001b[0m\n\u001b[1;32m      1\u001b[0m model.fit(\n\u001b[0;32m----> 2\u001b[0;31m     \u001b[0mx\u001b[0m\u001b[0;34m=\u001b[0m\u001b[0mscaled_train_samples\u001b[0m\u001b[0;34m,\u001b[0m\u001b[0;34m\u001b[0m\u001b[0;34m\u001b[0m\u001b[0m\n\u001b[0m\u001b[1;32m      3\u001b[0m     \u001b[0my\u001b[0m\u001b[0;34m=\u001b[0m\u001b[0mtrain_labels\u001b[0m\u001b[0;34m,\u001b[0m\u001b[0;34m\u001b[0m\u001b[0;34m\u001b[0m\u001b[0m\n\u001b[1;32m      4\u001b[0m     \u001b[0mbatch_size\u001b[0m\u001b[0;34m=\u001b[0m\u001b[0;36m10\u001b[0m\u001b[0;34m,\u001b[0m\u001b[0;34m\u001b[0m\u001b[0;34m\u001b[0m\u001b[0m\n\u001b[1;32m      5\u001b[0m     \u001b[0mepochs\u001b[0m\u001b[0;34m=\u001b[0m\u001b[0;36m20\u001b[0m\u001b[0;34m,\u001b[0m\u001b[0;34m\u001b[0m\u001b[0;34m\u001b[0m\u001b[0m\n",
            "\u001b[0;31mNameError\u001b[0m: name 'scaled_train_samples' is not defined"
          ]
        }
      ]
    },
    {
      "cell_type": "markdown",
      "metadata": {
        "id": "T2Aazmr2_5eC"
      },
      "source": [
        "predictions, scales X test is passed"
      ]
    },
    {
      "cell_type": "code",
      "metadata": {
        "id": "1l-jMYzHAXYZ"
      },
      "source": [
        "predictions = model.predict(\n",
        "    x=scaled_test_samples, \n",
        "    batch_size=10, \n",
        "    verbose=0\n",
        ") "
      ],
      "execution_count": null,
      "outputs": []
    },
    {
      "cell_type": "code",
      "metadata": {
        "id": "9mqlWFPVjfIL"
      },
      "source": [
        "for p in predictions:\n",
        "    print(p) "
      ],
      "execution_count": null,
      "outputs": []
    },
    {
      "cell_type": "markdown",
      "metadata": {
        "id": "LaqfeIrAKkUU"
      },
      "source": [
        "### Weight Initialization in ANN"
      ]
    },
    {
      "cell_type": "code",
      "metadata": {
        "id": "5ce1wylYKjk4"
      },
      "source": [
        "#reduce exploding grad problem\n",
        "from keras.models import Sequential\n",
        "from keras.layers import Dense, Activation\n",
        "\n",
        "model = Sequential([\n",
        "    Dense(16, input_shape=(1,5), activation='relu'),\n",
        "    Dense(32, activation='relu', kernel_initializer='glorot_normal'), #glorot_uniform(default)/glorot_normal\n",
        "    Dense(2, activation='softmax')\n",
        "])"
      ],
      "execution_count": 21,
      "outputs": []
    },
    {
      "cell_type": "markdown",
      "metadata": {
        "id": "5qKMRGKlNs8Q"
      },
      "source": [
        "### L2 Regularization"
      ]
    },
    {
      "cell_type": "code",
      "metadata": {
        "id": "cV_nZUHpNyd3"
      },
      "source": [
        "from keras.models import Sequential\n",
        "from keras.layers import Dense, Activation\n",
        "from keras import regularizers\n",
        "\n",
        "model = Sequential([\n",
        "    Dense(16, input_shape=(1,5), activation='relu'),\n",
        "    Dense(32, activation='relu', kernel_regularizer=regularizers.l2(0.01)), #lambda = 0.01\n",
        "    Dense(2, activation='softmax')\n",
        "])"
      ],
      "execution_count": 22,
      "outputs": []
    },
    {
      "cell_type": "markdown",
      "metadata": {
        "id": "sJTkQh9Fo8jS"
      },
      "source": [
        "#SUPERVISED EXAMPLE"
      ]
    },
    {
      "cell_type": "markdown",
      "metadata": {
        "id": "2UGpAyXypIub"
      },
      "source": [
        "MODEL ARCHITECTURE"
      ]
    },
    {
      "cell_type": "code",
      "metadata": {
        "id": "ZyDw4gIIo_WS"
      },
      "source": [
        "model = Sequential([\n",
        "    Dense(units=16, input_shape=(2,), activation='relu'),\n",
        "    Dense(units=32, activation='relu'),\n",
        "    Dense(units=2, activation='sigmoid')\n",
        "])"
      ],
      "execution_count": null,
      "outputs": []
    },
    {
      "cell_type": "markdown",
      "metadata": {
        "id": "l_kiU2TQpMN7"
      },
      "source": [
        "MODEL COMPILATION"
      ]
    },
    {
      "cell_type": "code",
      "metadata": {
        "id": "0TaVeU6IpSAu"
      },
      "source": [
        "model.compile(\n",
        "    optimizer=Adam(learning_rate=0.0001), \n",
        "    loss='sparse_categorical_crossentropy', \n",
        "    metrics=['accuracy']\n",
        ")"
      ],
      "execution_count": null,
      "outputs": []
    },
    {
      "cell_type": "markdown",
      "metadata": {
        "id": "mb44G7NjpS62"
      },
      "source": [
        "LABELLED DATA"
      ]
    },
    {
      "cell_type": "code",
      "metadata": {
        "id": "RZt4TTdSpYbG"
      },
      "source": [
        "# weight, height #X\n",
        "train_samples = np.array([\n",
        "    [150, 67], \n",
        "    [130, 60], \n",
        "    [200, 65], \n",
        "    [125, 52], \n",
        "    [230, 72], \n",
        "    [181, 70]\n",
        "])\n",
        "# 0: male\n",
        "# 1: female #Y\n",
        "train_labels = np.array([1, 1, 0, 1, 0, 0])"
      ],
      "execution_count": null,
      "outputs": []
    },
    {
      "cell_type": "markdown",
      "metadata": {
        "id": "G7sGHrznpfK7"
      },
      "source": [
        "MODEL FITTING"
      ]
    },
    {
      "cell_type": "code",
      "metadata": {
        "id": "j2dlTI2lphIC"
      },
      "source": [
        "model.fit(\n",
        "    x=train_samples, \n",
        "    y=train_labels,\n",
        "    batch_size=3,\n",
        "    epochs=10,\n",
        "    shuffle=True,\n",
        "    verbose=2\n",
        ")"
      ],
      "execution_count": null,
      "outputs": []
    },
    {
      "cell_type": "markdown",
      "metadata": {
        "id": "joxLzzV0OlJ_"
      },
      "source": [
        "### Working With Batch Size\n",
        "Batch Size vs epoch - batch = how many image to process at once, epoch = how many times whole set of batches to train\n",
        "\n",
        "total = 1000 <br>\n",
        "batch = 10 <br>\n",
        "1 epoch = 100 batches"
      ]
    },
    {
      "cell_type": "code",
      "metadata": {
        "id": "3y7qqU8sOnV9"
      },
      "source": [
        "model = Sequential([\n",
        "    Dense(units=16, input_shape=(1,), activation='relu'),\n",
        "    Dense(units=32, activation='relu', kernel_regularizer=regularizers.l2(0.01)),\n",
        "    Dense(units=2, activation='sigmoid')\n",
        "])"
      ],
      "execution_count": 23,
      "outputs": []
    },
    {
      "cell_type": "code",
      "metadata": {
        "id": "AEwHQGDAPLeA"
      },
      "source": [
        "model.compile(\n",
        "    optimizer=Adam(learning_rate=0.0001), \n",
        "    loss='sparse_categorical_crossentropy', \n",
        "    metrics=['accuracy']\n",
        ")"
      ],
      "execution_count": null,
      "outputs": []
    },
    {
      "cell_type": "code",
      "metadata": {
        "colab": {
          "base_uri": "https://localhost:8080/",
          "height": 232
        },
        "id": "Mn1YmUO9OrpN",
        "outputId": "178bddec-dd03-488c-c432-0e7fcc6ba2e1"
      },
      "source": [
        "model.fit(\n",
        "    x=scaled_train_samples, \n",
        "    y=train_labels, \n",
        "    validation_data=valid_set, \n",
        "    batch_size=10,\n",
        "    epochs=20, \n",
        "    shuffle=True, \n",
        "    verbose=2\n",
        ")"
      ],
      "execution_count": 24,
      "outputs": [
        {
          "output_type": "error",
          "ename": "NameError",
          "evalue": "ignored",
          "traceback": [
            "\u001b[0;31m---------------------------------------------------------------------------\u001b[0m",
            "\u001b[0;31mNameError\u001b[0m                                 Traceback (most recent call last)",
            "\u001b[0;32m<ipython-input-24-189fbc69c61f>\u001b[0m in \u001b[0;36m<module>\u001b[0;34m()\u001b[0m\n\u001b[1;32m      1\u001b[0m model.fit(\n\u001b[0;32m----> 2\u001b[0;31m     \u001b[0mx\u001b[0m\u001b[0;34m=\u001b[0m\u001b[0mscaled_train_samples\u001b[0m\u001b[0;34m,\u001b[0m\u001b[0;34m\u001b[0m\u001b[0;34m\u001b[0m\u001b[0m\n\u001b[0m\u001b[1;32m      3\u001b[0m     \u001b[0my\u001b[0m\u001b[0;34m=\u001b[0m\u001b[0mtrain_labels\u001b[0m\u001b[0;34m,\u001b[0m\u001b[0;34m\u001b[0m\u001b[0;34m\u001b[0m\u001b[0m\n\u001b[1;32m      4\u001b[0m     \u001b[0mvalidation_data\u001b[0m\u001b[0;34m=\u001b[0m\u001b[0mvalid_set\u001b[0m\u001b[0;34m,\u001b[0m\u001b[0;34m\u001b[0m\u001b[0;34m\u001b[0m\u001b[0m\n\u001b[1;32m      5\u001b[0m     \u001b[0mbatch_size\u001b[0m\u001b[0;34m=\u001b[0m\u001b[0;36m10\u001b[0m\u001b[0;34m,\u001b[0m\u001b[0;34m\u001b[0m\u001b[0;34m\u001b[0m\u001b[0m\n",
            "\u001b[0;31mNameError\u001b[0m: name 'scaled_train_samples' is not defined"
          ]
        }
      ]
    },
    {
      "cell_type": "markdown",
      "metadata": {
        "id": "_MoHSmZSQQK5"
      },
      "source": [
        "### Batch Normalization"
      ]
    },
    {
      "cell_type": "code",
      "metadata": {
        "id": "qLepO1qnQTPL"
      },
      "source": [
        "from keras.models import Sequential\n",
        "from keras.layers import Dense, Activation, BatchNormalization\n",
        "model = Sequential([\n",
        "    Dense(units=16, input_shape=(1,5), activation='relu'),\n",
        "    Dense(units=32, activation='relu'),\n",
        "    BatchNormalization(axis=1), #features axis\n",
        "    Dense(units=2, activation='softmax')\n",
        "])\n",
        "#There are several other parameters that we can optionally specify, including two called beta_initializer and gamma_initializer"
      ],
      "execution_count": 25,
      "outputs": []
    },
    {
      "cell_type": "markdown",
      "metadata": {
        "id": "5hqHCWi8-k7z"
      },
      "source": [
        "# CNN\n"
      ]
    },
    {
      "cell_type": "code",
      "metadata": {
        "id": "sHbeXgfZ-khq"
      },
      "source": [
        ""
      ],
      "execution_count": null,
      "outputs": []
    },
    {
      "cell_type": "code",
      "metadata": {
        "id": "QzRGbsst_5B7"
      },
      "source": [
        "import keras\n",
        "from keras.models import Sequential\n",
        "from keras.layers import Activation\n",
        "from keras.layers.core import Dense, Flatten\n",
        "from keras.layers.convolutional import *"
      ],
      "execution_count": 12,
      "outputs": []
    },
    {
      "cell_type": "code",
      "metadata": {
        "id": "jj-ATVhlAFlO"
      },
      "source": [
        "#input 20x20 pixels, 3 channels RGB\n",
        "#padding = valid(no padding) , same(will pad 0 so than input size=output size)\n",
        "#first filter size =3x3\n",
        "#second filter size =5x5\n",
        "#third filter size =7x7\n",
        "model_valid = Sequential([\n",
        "    Dense(16, input_shape=(20,20,3), activation='relu'), \n",
        "    Conv2D(32, kernel_size=(3,3), activation='relu', padding='valid'), \n",
        "    Conv2D(64, kernel_size=(5,5), activation='relu', padding='valid'),\n",
        "    Conv2D(128, kernel_size=(7,7), activation='relu', padding='valid'),\n",
        "    Flatten(),\n",
        "    Dense(2, activation='softmax')\n",
        "])"
      ],
      "execution_count": 13,
      "outputs": []
    },
    {
      "cell_type": "code",
      "metadata": {
        "colab": {
          "base_uri": "https://localhost:8080/"
        },
        "id": "_ogMu5GmDNi7",
        "outputId": "00080881-9f2e-45ae-8ce9-e8aa27da2e46"
      },
      "source": [
        "model_valid.summary()"
      ],
      "execution_count": 14,
      "outputs": [
        {
          "output_type": "stream",
          "name": "stdout",
          "text": [
            "Model: \"sequential\"\n",
            "_________________________________________________________________\n",
            "Layer (type)                 Output Shape              Param #   \n",
            "=================================================================\n",
            "dense (Dense)                (None, 20, 20, 16)        64        \n",
            "_________________________________________________________________\n",
            "conv2d (Conv2D)              (None, 18, 18, 32)        4640      \n",
            "_________________________________________________________________\n",
            "conv2d_1 (Conv2D)            (None, 14, 14, 64)        51264     \n",
            "_________________________________________________________________\n",
            "conv2d_2 (Conv2D)            (None, 8, 8, 128)         401536    \n",
            "_________________________________________________________________\n",
            "flatten (Flatten)            (None, 8192)              0         \n",
            "_________________________________________________________________\n",
            "dense_1 (Dense)              (None, 2)                 16386     \n",
            "=================================================================\n",
            "Total params: 473,890\n",
            "Trainable params: 473,890\n",
            "Non-trainable params: 0\n",
            "_________________________________________________________________\n"
          ]
        }
      ]
    },
    {
      "cell_type": "markdown",
      "metadata": {
        "id": "WnZnAN-BDnEu"
      },
      "source": [
        "### output shape of each layer is decreasing as there is no padding\n",
        "\n",
        "\n",
        "### ."
      ]
    },
    {
      "cell_type": "code",
      "metadata": {
        "id": "QbgO4WU4DP8h"
      },
      "source": [
        "#above model with padding\n",
        "model_same = Sequential([\n",
        "    Dense(16, input_shape=(20,20,3), activation='relu'),\n",
        "    Conv2D(32, kernel_size=(3,3), activation='relu', padding='same'),\n",
        "    Conv2D(64, kernel_size=(5,5), activation='relu', padding='same'),\n",
        "    Conv2D(128, kernel_size=(7,7), activation='relu', padding='same'),\n",
        "    Flatten(),\n",
        "    Dense(2, activation='softmax')\n",
        "])"
      ],
      "execution_count": 15,
      "outputs": []
    },
    {
      "cell_type": "code",
      "metadata": {
        "colab": {
          "base_uri": "https://localhost:8080/"
        },
        "id": "6jWl3skIDVtw",
        "outputId": "772d7031-02bb-4812-92e4-f1d5f12f3153"
      },
      "source": [
        "model_same.summary()"
      ],
      "execution_count": 16,
      "outputs": [
        {
          "output_type": "stream",
          "name": "stdout",
          "text": [
            "Model: \"sequential_1\"\n",
            "_________________________________________________________________\n",
            "Layer (type)                 Output Shape              Param #   \n",
            "=================================================================\n",
            "dense_2 (Dense)              (None, 20, 20, 16)        64        \n",
            "_________________________________________________________________\n",
            "conv2d_3 (Conv2D)            (None, 20, 20, 32)        4640      \n",
            "_________________________________________________________________\n",
            "conv2d_4 (Conv2D)            (None, 20, 20, 64)        51264     \n",
            "_________________________________________________________________\n",
            "conv2d_5 (Conv2D)            (None, 20, 20, 128)       401536    \n",
            "_________________________________________________________________\n",
            "flatten_1 (Flatten)          (None, 51200)             0         \n",
            "_________________________________________________________________\n",
            "dense_3 (Dense)              (None, 2)                 102402    \n",
            "=================================================================\n",
            "Total params: 559,906\n",
            "Trainable params: 559,906\n",
            "Non-trainable params: 0\n",
            "_________________________________________________________________\n"
          ]
        }
      ]
    },
    {
      "cell_type": "markdown",
      "metadata": {
        "id": "SEvixH0EDzVA"
      },
      "source": [
        "### output shape of each layer is same as there is same padding\n",
        "\n",
        ".\n",
        ".\n",
        "\n",
        ".\n",
        "\n",
        ".\n",
        "Max-Pooling"
      ]
    },
    {
      "cell_type": "code",
      "metadata": {
        "id": "Y5SoyYFID3o3"
      },
      "source": [
        "#maxpooling= max value from each block of filterSize x filterSize dimension block which moves stride number of steps -> to reduce dimenssions\n",
        "#input=20x20\n",
        "#conv layer, filter = 3x3, padding = same\n",
        "#max-pool layer, filter size=2x2, stride size=2, no padding - 2D bcoz i/p is 2D\n",
        "#conv layer, filter = 5x5, padding = same\n",
        "# flattened layer\n",
        "# output binary class layer\n",
        "\n",
        "model_valid_maxPool = Sequential([\n",
        "    Dense(16, input_shape=(20,20,3), activation='relu'),\n",
        "    Conv2D(32, kernel_size=(3,3), activation='relu', padding='same'),\n",
        "    MaxPooling2D(pool_size=(2, 2), strides=2, padding='valid'),\n",
        "    Conv2D(64, kernel_size=(5,5), activation='relu', padding='same'),\n",
        "    Flatten(),\n",
        "    Dense(2, activation='softmax')\n",
        "])"
      ],
      "execution_count": 17,
      "outputs": []
    },
    {
      "cell_type": "code",
      "metadata": {
        "colab": {
          "base_uri": "https://localhost:8080/"
        },
        "id": "WREGgGY4EXJV",
        "outputId": "0329726b-7892-4423-dfb9-8107db76bc20"
      },
      "source": [
        "model_valid_maxPool.summary()"
      ],
      "execution_count": 19,
      "outputs": [
        {
          "output_type": "stream",
          "name": "stdout",
          "text": [
            "Model: \"sequential_2\"\n",
            "_________________________________________________________________\n",
            "Layer (type)                 Output Shape              Param #   \n",
            "=================================================================\n",
            "dense_4 (Dense)              (None, 20, 20, 16)        64        \n",
            "_________________________________________________________________\n",
            "conv2d_6 (Conv2D)            (None, 20, 20, 32)        4640      \n",
            "_________________________________________________________________\n",
            "max_pooling2d (MaxPooling2D) (None, 10, 10, 32)        0         \n",
            "_________________________________________________________________\n",
            "conv2d_7 (Conv2D)            (None, 10, 10, 64)        51264     \n",
            "_________________________________________________________________\n",
            "flatten_2 (Flatten)          (None, 6400)              0         \n",
            "_________________________________________________________________\n",
            "dense_5 (Dense)              (None, 2)                 12802     \n",
            "=================================================================\n",
            "Total params: 68,770\n",
            "Trainable params: 68,770\n",
            "Non-trainable params: 0\n",
            "_________________________________________________________________\n"
          ]
        }
      ]
    },
    {
      "cell_type": "markdown",
      "metadata": {
        "id": "zO-0lwKuF-ux"
      },
      "source": [
        "### max-pool decresed dimension from 20x20 to 10x10\n",
        "### .\n",
        "### .\n",
        "### ."
      ]
    },
    {
      "cell_type": "code",
      "metadata": {
        "id": "xgdWkKjoEb8m"
      },
      "source": [
        ""
      ],
      "execution_count": null,
      "outputs": []
    }
  ]
}